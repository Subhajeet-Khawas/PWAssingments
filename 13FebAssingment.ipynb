{
 "cells": [
  {
   "cell_type": "markdown",
   "id": "ad301bb4-2245-4a72-8d8c-4e4c09594f18",
   "metadata": {},
   "source": [
    "Q1. Explain why we have to use the Exception class while creating a Custom Exception.\n",
    "Note: Here Exception class refers to the base class for all the exceptions."
   ]
  },
  {
   "cell_type": "markdown",
   "id": "09fb2434-eae3-4b0e-9d23-db480f263340",
   "metadata": {},
   "source": [
    "We have to use the Exception class while creating a custom exception because it is the base class for all exceptions. This means that all custom exceptions inherit from the Exception class. This allows us to use the same methods and properties on custom exceptions as we can on other exceptions.\n",
    "\n",
    "For example, we can use the getMessage() method to get the message associated with an exception, and the printStackTrace() method to print a stack trace for an exception. We can also use the is_a() method to check if an exception is a subclass of another exception.\n",
    "\n",
    "By using the Exception class as the base class for our custom exceptions, we can take advantage of the features that are already available in the Exception class. This makes it easier to write code that can handle exceptions gracefully."
   ]
  },
  {
   "cell_type": "code",
   "execution_count": 1,
   "id": "08dd465d-feaa-46e5-9872-87863330a5cf",
   "metadata": {},
   "outputs": [
    {
     "name": "stdin",
     "output_type": "stream",
     "text": [
      "Enter age:  12\n"
     ]
    },
    {
     "name": "stdout",
     "output_type": "stream",
     "text": [
      "Age is very less\n",
      "execution complete\n"
     ]
    }
   ],
   "source": [
    "class TooYoungException(Exception):\n",
    "    def __init__(self, msg):\n",
    "        self.msg=msg\n",
    "\n",
    "class TooOldException(Exception):\n",
    "    def __init__(self, msg):\n",
    "        self.msg=msg    \n",
    "        \n",
    "age=int(input(\"Enter age: \"))\n",
    "try:\n",
    "    if age<18:\n",
    "        raise TooYoungException(\"Age is very less\")\n",
    "    elif age>60:\n",
    "        raise TooOldException(\"Age is very high\")\n",
    "    else:\n",
    "        print(\"Valid age\")\n",
    "\n",
    "except TooYoungException as e:\n",
    "    print(e)\n",
    "    \n",
    "except TooOldException as e:\n",
    "    print(e)    \n",
    "    \n",
    "finally:\n",
    "    print(\"execution complete\")"
   ]
  },
  {
   "cell_type": "markdown",
   "id": "4ec3723f-7045-4805-bf80-db8af5cb32f3",
   "metadata": {},
   "source": [
    "Q2. Write a python program to print Python Exception Hierarchy."
   ]
  },
  {
   "cell_type": "code",
   "execution_count": 2,
   "id": "6e4a9108-5083-4953-89ac-3e1da482e258",
   "metadata": {},
   "outputs": [
    {
     "name": "stdout",
     "output_type": "stream",
     "text": [
      "Help on class Exception in module builtins:\n",
      "\n",
      "class Exception(BaseException)\n",
      " |  Common base class for all non-exit exceptions.\n",
      " |  \n",
      " |  Method resolution order:\n",
      " |      Exception\n",
      " |      BaseException\n",
      " |      object\n",
      " |  \n",
      " |  Built-in subclasses:\n",
      " |      ArithmeticError\n",
      " |      AssertionError\n",
      " |      AttributeError\n",
      " |      BufferError\n",
      " |      ... and 15 other subclasses\n",
      " |  \n",
      " |  Methods defined here:\n",
      " |  \n",
      " |  __init__(self, /, *args, **kwargs)\n",
      " |      Initialize self.  See help(type(self)) for accurate signature.\n",
      " |  \n",
      " |  ----------------------------------------------------------------------\n",
      " |  Static methods defined here:\n",
      " |  \n",
      " |  __new__(*args, **kwargs) from builtins.type\n",
      " |      Create and return a new object.  See help(type) for accurate signature.\n",
      " |  \n",
      " |  ----------------------------------------------------------------------\n",
      " |  Methods inherited from BaseException:\n",
      " |  \n",
      " |  __delattr__(self, name, /)\n",
      " |      Implement delattr(self, name).\n",
      " |  \n",
      " |  __getattribute__(self, name, /)\n",
      " |      Return getattr(self, name).\n",
      " |  \n",
      " |  __reduce__(...)\n",
      " |      Helper for pickle.\n",
      " |  \n",
      " |  __repr__(self, /)\n",
      " |      Return repr(self).\n",
      " |  \n",
      " |  __setattr__(self, name, value, /)\n",
      " |      Implement setattr(self, name, value).\n",
      " |  \n",
      " |  __setstate__(...)\n",
      " |  \n",
      " |  __str__(self, /)\n",
      " |      Return str(self).\n",
      " |  \n",
      " |  with_traceback(...)\n",
      " |      Exception.with_traceback(tb) --\n",
      " |      set self.__traceback__ to tb and return self.\n",
      " |  \n",
      " |  ----------------------------------------------------------------------\n",
      " |  Data descriptors inherited from BaseException:\n",
      " |  \n",
      " |  __cause__\n",
      " |      exception cause\n",
      " |  \n",
      " |  __context__\n",
      " |      exception context\n",
      " |  \n",
      " |  __dict__\n",
      " |  \n",
      " |  __suppress_context__\n",
      " |  \n",
      " |  __traceback__\n",
      " |  \n",
      " |  args\n",
      "\n"
     ]
    }
   ],
   "source": [
    "help(Exception)"
   ]
  },
  {
   "cell_type": "markdown",
   "id": "5168ea64-11bf-4737-ae80-90925d1ad3c3",
   "metadata": {},
   "source": [
    "Q3. What errors are defined in the ArithmeticError class? Explain any two with an example."
   ]
  },
  {
   "cell_type": "markdown",
   "id": "cf76f71e-3b3a-4c36-8983-aedd0aff34ae",
   "metadata": {},
   "source": [
    "The ArithmeticError class in Python is a subclass of the Exception class and serves as the base class for arithmetic-related errors. It encompasses a range of errors that can occur during arithmetic operations. Two commonly encountered errors within the ArithmeticError class are ZeroDivisionError and FloatingPointError."
   ]
  },
  {
   "cell_type": "markdown",
   "id": "cbf54f18-1651-484f-86dc-93e59e4d378c",
   "metadata": {},
   "source": [
    "ZeroDivisionError: This error occurs when division or modulo operation is performed with zero as the divisor."
   ]
  },
  {
   "cell_type": "code",
   "execution_count": 3,
   "id": "b92a515c-d171-4bdf-95c3-952096c681a4",
   "metadata": {},
   "outputs": [
    {
     "name": "stdout",
     "output_type": "stream",
     "text": [
      "division by zero\n",
      "execution complete\n"
     ]
    }
   ],
   "source": [
    "try:\n",
    "    def test(a,b):\n",
    "        return a/b\n",
    "    a=10\n",
    "    b=0\n",
    "    test(a,b)\n",
    "\n",
    "except ZeroDivisionError as e:\n",
    "        print(e)\n",
    "\n",
    "finally:\n",
    "    print(\"execution complete\")"
   ]
  },
  {
   "cell_type": "markdown",
   "id": "9c4d02b2-9168-4ea4-a726-8b53199d6306",
   "metadata": {},
   "source": [
    "FloatingPointError: This error occurs when there is an issue with floating-point arithmetic operations."
   ]
  },
  {
   "cell_type": "code",
   "execution_count": 8,
   "id": "e029aaf2-756a-47c9-a8ff-6c18f4cd8521",
   "metadata": {},
   "outputs": [
    {
     "name": "stdout",
     "output_type": "stream",
     "text": [
      "execution complete\n"
     ]
    },
    {
     "ename": "ZeroDivisionError",
     "evalue": "division by zero",
     "output_type": "error",
     "traceback": [
      "\u001b[0;31m---------------------------------------------------------------------------\u001b[0m",
      "\u001b[0;31mZeroDivisionError\u001b[0m                         Traceback (most recent call last)",
      "Cell \u001b[0;32mIn[8], line 2\u001b[0m\n\u001b[1;32m      1\u001b[0m \u001b[38;5;28;01mtry\u001b[39;00m:\n\u001b[0;32m----> 2\u001b[0m     result \u001b[38;5;241m=\u001b[39m \u001b[38;5;241;43m1\u001b[39;49m\u001b[43m \u001b[49m\u001b[38;5;241;43m/\u001b[39;49m\u001b[43m \u001b[49m\u001b[38;5;241;43m0\u001b[39;49m\n\u001b[1;32m      3\u001b[0m \u001b[38;5;28;01mexcept\u001b[39;00m \u001b[38;5;167;01mFloatingPointError\u001b[39;00m \u001b[38;5;28;01mas\u001b[39;00m e:\n\u001b[1;32m      4\u001b[0m     \u001b[38;5;28mprint\u001b[39m(e)\n",
      "\u001b[0;31mZeroDivisionError\u001b[0m: division by zero"
     ]
    }
   ],
   "source": [
    "try:\n",
    "    result = 1 / 0\n",
    "except FloatingPointError as e:\n",
    "    print(e)\n",
    "\n",
    "finally:\n",
    "    print(\"execution complete\")"
   ]
  },
  {
   "cell_type": "markdown",
   "id": "3b40a04b-2104-4154-9b35-39a40be53357",
   "metadata": {},
   "source": [
    "Q4. Why LookupError class is used? Explain with an example KeyError and IndexError."
   ]
  },
  {
   "cell_type": "markdown",
   "id": "7fecb00d-0a7d-4ad9-9e4d-12f60c27677b",
   "metadata": {},
   "source": [
    "The LookupError class is a base class for exceptions that occur when a specified key or index is not found during a lookup operation. It is a subclass of the Exception class in Python. The LookupError class provides a way to handle errors related to accessing elements in sequences or mappings.\n",
    "\n",
    "Two commonly encountered exceptions derived from LookupError are KeyError and IndexError."
   ]
  },
  {
   "cell_type": "markdown",
   "id": "f4421539-a4dd-49c2-b661-634c76921a25",
   "metadata": {},
   "source": [
    "1. KeyError: This exception occurs when trying to access a key that does not exist in a dictionary."
   ]
  },
  {
   "cell_type": "code",
   "execution_count": 5,
   "id": "9d483a96-fb28-4d47-b11a-c97788da05cf",
   "metadata": {},
   "outputs": [
    {
     "name": "stdout",
     "output_type": "stream",
     "text": [
      "Error captured as:  'address'\n"
     ]
    }
   ],
   "source": [
    "try:\n",
    "    dict={\"name\":\"subh\", \"age\":25}\n",
    "    add=dict[\"address\"]\n",
    "except KeyError as e:\n",
    "    print(\"Error captured as: \",e)"
   ]
  },
  {
   "cell_type": "markdown",
   "id": "9a3072a8-261b-467a-b793-de5da5f42372",
   "metadata": {},
   "source": [
    "2. IndexError: This exception occurs when trying to access an index that is out of range in a sequence, such as a list or a string."
   ]
  },
  {
   "cell_type": "code",
   "execution_count": 7,
   "id": "bfa2c9af-7acc-499e-971a-dd45745ff47c",
   "metadata": {},
   "outputs": [
    {
     "name": "stdout",
     "output_type": "stream",
     "text": [
      "Error captured as:  list index out of range\n"
     ]
    }
   ],
   "source": [
    "try:\n",
    "    l=[1,2,3,4,5]\n",
    "    print(l[8])\n",
    "except IndexError as e:\n",
    "    print(\"Error captured as: \",e)"
   ]
  },
  {
   "cell_type": "markdown",
   "id": "e919136c-d68c-462b-a1fd-e91c45c344de",
   "metadata": {},
   "source": [
    "Q5. Explain ImportError. What is ModuleNotFoundError?"
   ]
  },
  {
   "cell_type": "markdown",
   "id": "fe48f67a-4e70-4148-84d5-8c435836d760",
   "metadata": {},
   "source": [
    "ImportError is a generic exception raised when an import statement fails. This can happen for a variety of reasons, such as:\n",
    "1. The module does not exist.\n",
    "2. The module is not installed.\n",
    "3. The module is not accessible due to permissions issues.\n",
    "4. The module is not in the Python search path.\n",
    "\n",
    "ModuleNotFoundError is a specific type of ImportError that is raised when a module cannot be found in the Python search path."
   ]
  },
  {
   "cell_type": "markdown",
   "id": "000db00c-af35-415b-84b3-73403e7ebe43",
   "metadata": {},
   "source": [
    "Q6. List down some best practices for exception handling in python."
   ]
  },
  {
   "cell_type": "markdown",
   "id": "95e666d5-5dd1-4be3-ab8d-bf45f394e63d",
   "metadata": {},
   "source": [
    "Here are some best practices for exception handling in Python:\n",
    "1. Always try to handle exceptions as close to where they are thrown as possible. This will help to prevent the program from crashing.\n",
    "2. Use specific exception types to handle exceptions as precisely as possible. For example, instead of using except Exception:, use except ZeroDivisionError: to handle division by zero errors.\n",
    "3. Use try-except blocks to handle exceptions. This will allow you to execute code that should be executed regardless of whether or not an exception is raised.\n",
    "4. Use finally blocks to clean up resources even if an exception is thrown. This will help to prevent resource leaks.\n",
    "5. Do not ignore exceptions. Ignoring exceptions can lead to unexpected behavior and can make it difficult to debug your code.\n",
    "6. Log exceptions. Logging exceptions can help you to track down the source of the error and can help you to debug your code.\n",
    "7. Reraise exceptions. If you cannot handle an exception gracefully, you can reraise it. This will allow the exception to propagate up the call stack until it is handled by a higher-level function.\n",
    "8. Use custom exceptions. If you need to handle a specific type of error, you can create a custom exception. This can help you to make your code more readable and maintainable."
   ]
  }
 ],
 "metadata": {
  "kernelspec": {
   "display_name": "Python 3 (ipykernel)",
   "language": "python",
   "name": "python3"
  },
  "language_info": {
   "codemirror_mode": {
    "name": "ipython",
    "version": 3
   },
   "file_extension": ".py",
   "mimetype": "text/x-python",
   "name": "python",
   "nbconvert_exporter": "python",
   "pygments_lexer": "ipython3",
   "version": "3.10.8"
  }
 },
 "nbformat": 4,
 "nbformat_minor": 5
}
