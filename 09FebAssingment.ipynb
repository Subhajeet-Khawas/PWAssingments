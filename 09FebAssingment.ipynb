{
 "cells": [
  {
   "cell_type": "markdown",
   "id": "9d31ee5e-cb31-4e77-8b7f-f1990052ff39",
   "metadata": {},
   "source": [
    "Q1. Create a vehicle class with an init method having instance variables as name_of_vehicle, max_speed and average_of_vehicle."
   ]
  },
  {
   "cell_type": "code",
   "execution_count": 2,
   "id": "4dca8dd1-be7a-407f-b47a-9b872df9e703",
   "metadata": {},
   "outputs": [],
   "source": [
    "class Vehicle:\n",
    "    def __init__(self, name_of_vehicle, max_speed, average_of_speed):\n",
    "        self.name=name_of_vehicle\n",
    "        self.speed=max_speed\n",
    "        self.avg=average_of_speed\n",
    "        return"
   ]
  },
  {
   "cell_type": "markdown",
   "id": "c596abf5-c6cc-4009-8f13-f8590f25749a",
   "metadata": {},
   "source": [
    "Q2. Create a child class car from the vehicle class created in Que 1, which will inherit the vehicle class.\n",
    "Create a method named seating_capacity which takes capacity as an argument and returns the name of\n",
    "the vehicle and its seating capacity."
   ]
  },
  {
   "cell_type": "code",
   "execution_count": 3,
   "id": "f1562514-65fc-47c9-92ca-03a15bc03c40",
   "metadata": {},
   "outputs": [],
   "source": [
    "class Car(Vehicle):\n",
    "    def seating_capacity(self, capacity):\n",
    "        return self.name, self.capacity"
   ]
  },
  {
   "cell_type": "markdown",
   "id": "78358044-c73a-4a8a-8689-4ce3dae91c66",
   "metadata": {},
   "source": [
    "Q3. What is multiple inheritance? Write a python code to demonstrate multiple inheritance."
   ]
  },
  {
   "cell_type": "markdown",
   "id": "56da2924-bb9f-4ad5-8773-be5a8cf21b99",
   "metadata": {},
   "source": [
    "Multiple inheritance is a feature of some object-oriented programming languages that allows a class to inherit from multiple base classes. This can be useful when a class needs to have the behavior of multiple different types of objects.\n",
    "\n",
    "In Python, multiple inheritance is achieved by listing the base classes in a comma-separated list after the class name."
   ]
  },
  {
   "cell_type": "code",
   "execution_count": 2,
   "id": "aef9a2b4-690d-45ea-94d9-d7f12ee6b689",
   "metadata": {},
   "outputs": [
    {
     "name": "stdout",
     "output_type": "stream",
     "text": [
      "father class\n",
      "mother class\n",
      "child class\n"
     ]
    }
   ],
   "source": [
    "class Father:\n",
    "    def f(self):\n",
    "        print(\"father class\")\n",
    "class Mother:\n",
    "    def m(self):\n",
    "        print(\"mother class\")\n",
    "class Child(Father, Mother):\n",
    "    def c(self):\n",
    "        print(\"child class\")\n",
    "    def main():\n",
    "        c1=Child()\n",
    "        c1.f()\n",
    "        c1.m()\n",
    "        c1.c()\n",
    "Child.main()"
   ]
  },
  {
   "cell_type": "markdown",
   "id": "9a8b09b6-b2c4-42f1-9da8-294d70497cfd",
   "metadata": {},
   "source": [
    "Q4. What are getter and setter in python? Create a class and create a getter and a setter method in this class."
   ]
  },
  {
   "cell_type": "markdown",
   "id": "5c4320f9-8e5a-4f4e-accd-120c4042740b",
   "metadata": {},
   "source": [
    "Getters and setters are special methods in Python that are used to get and set the value of an attribute. Getters are used to get the value of an attribute, while setters are used to set the value of an attribute.\n",
    "\n",
    "Getters and setters are typically used to control access to an attribute. For example, you might want to use a getter to ensure that an attribute can only be set to a valid value."
   ]
  },
  {
   "cell_type": "code",
   "execution_count": 9,
   "id": "abc81ca4-dc1a-489c-8cd6-0bca10bc22bc",
   "metadata": {},
   "outputs": [],
   "source": [
    "class pwskills1:\n",
    "    def __init__(self, name, price):\n",
    "        self.name=name\n",
    "        self.__price=price\n",
    "        return\n",
    "    \n",
    "    @property\n",
    "    def courseprice(self):\n",
    "        return self.__price\n",
    "    \n",
    "    @courseprice.setter\n",
    "    def coursepriceset(self, price):\n",
    "        if price<3500:\n",
    "            pass\n",
    "        else:\n",
    "            self.__price=price\n",
    "     \n",
    "    @courseprice.deleter\n",
    "    def coursepricedeleter(self):\n",
    "        del self.__price\n",
    "        \n",
    "pw1=pwskills1(\"data science\", 3500)"
   ]
  },
  {
   "cell_type": "code",
   "execution_count": 10,
   "id": "6a83b641-c5aa-4935-8218-554055e4f2ac",
   "metadata": {},
   "outputs": [
    {
     "data": {
      "text/plain": [
       "3500"
      ]
     },
     "execution_count": 10,
     "metadata": {},
     "output_type": "execute_result"
    }
   ],
   "source": [
    "pw1.courseprice"
   ]
  },
  {
   "cell_type": "code",
   "execution_count": 11,
   "id": "c4f9141d-cb6a-4fb9-b004-875a3190398c",
   "metadata": {},
   "outputs": [],
   "source": [
    "pw1.coursepriceset=5000"
   ]
  },
  {
   "cell_type": "code",
   "execution_count": 12,
   "id": "6ce529af-558e-4202-acf1-f48472a3c6cd",
   "metadata": {},
   "outputs": [
    {
     "data": {
      "text/plain": [
       "5000"
      ]
     },
     "execution_count": 12,
     "metadata": {},
     "output_type": "execute_result"
    }
   ],
   "source": [
    "pw1.courseprice"
   ]
  },
  {
   "cell_type": "markdown",
   "id": "47b47ff1-2a0b-4b8f-b1bc-be94da39f946",
   "metadata": {},
   "source": [
    "Q5.What is method overriding in python? Write a python code to demonstrate method overriding."
   ]
  },
  {
   "cell_type": "markdown",
   "id": "0ba58a55-b067-403c-9cda-1e91a1f0dfda",
   "metadata": {},
   "source": [
    "Method overriding is a feature of object-oriented programming (OOP) that allows a subclass to provide a different implementation of a method that is defined in its superclass. This can be useful when a subclass needs to customize the behavior of a method inherited from its superclass.\n",
    "\n",
    "In Python, method overriding is achieved by defining a method with the same name, parameters, and return type as a method in the superclass. The method in the subclass will override the method in the superclass."
   ]
  },
  {
   "cell_type": "code",
   "execution_count": 23,
   "id": "6554f81b-e9b8-4185-9dc9-1454b70c07fd",
   "metadata": {},
   "outputs": [
    {
     "name": "stdout",
     "output_type": "stream",
     "text": [
      "child function\n",
      "parent function\n"
     ]
    }
   ],
   "source": [
    "class Parent:\n",
    "    def fun(self):\n",
    "        print(\"parent function\")\n",
    "\n",
    "class Child(Parent):\n",
    "    def fun(self):\n",
    "        print(\"child function\")\n",
    "    def main():\n",
    "        c=Child()\n",
    "        p=Parent()\n",
    "        c.fun()\n",
    "        p.fun()\n",
    "Child.main()"
   ]
  },
  {
   "cell_type": "code",
   "execution_count": null,
   "id": "15d8369c-5935-46f0-ae35-1a2a83d873cd",
   "metadata": {},
   "outputs": [],
   "source": []
  }
 ],
 "metadata": {
  "kernelspec": {
   "display_name": "Python 3 (ipykernel)",
   "language": "python",
   "name": "python3"
  },
  "language_info": {
   "codemirror_mode": {
    "name": "ipython",
    "version": 3
   },
   "file_extension": ".py",
   "mimetype": "text/x-python",
   "name": "python",
   "nbconvert_exporter": "python",
   "pygments_lexer": "ipython3",
   "version": "3.10.8"
  }
 },
 "nbformat": 4,
 "nbformat_minor": 5
}
