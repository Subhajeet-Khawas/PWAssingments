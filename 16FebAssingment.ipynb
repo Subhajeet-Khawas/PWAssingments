{
 "cells": [
  {
   "cell_type": "markdown",
   "id": "08627712-6bf2-447f-a153-784b9ed1e0fe",
   "metadata": {},
   "source": [
    "Q1. What is a database? Differentiate between SQL and NoSQL databases."
   ]
  },
  {
   "cell_type": "markdown",
   "id": "2f19f8a0-ec83-4369-8de9-8d94a14da39d",
   "metadata": {},
   "source": [
    "A database is a collection of data that is organized so that it can be easily accessed, managed, and updated. Databases are used to store all sorts of data, including customer information, product inventory, and financial records.\n",
    "\n",
    "There are two main types of databases: SQL and NoSQL.\n",
    "\n",
    "1. SQL databases use a structured query language (SQL) to store and retrieve data. SQL is a standard language that is used by most relational databases. Relational databases store data in tables, which are made up of rows and columns. Each row represents a single record, and each column represents a single piece of data about that record.\n",
    "2. NoSQL databases do not use SQL. Instead, they use a variety of different data models, including document, key-value, and graph databases. Document databases store data in documents, which are similar to JSON objects. Key-value databases store data in key-value pairs, where the key is a unique identifier and the value is any type of data. Graph databases store data in graphs, which are made up of nodes and edges. Nodes represent entities, such as people or products, and edges represent relationships between entities."
   ]
  },
  {
   "cell_type": "markdown",
   "id": "3addba3e-1a47-4e36-a294-6aa078461043",
   "metadata": {},
   "source": [
    "Q2. What is DDL? Explain why CREATE, DROP, ALTER, and TRUNCATE are used with an example."
   ]
  },
  {
   "cell_type": "markdown",
   "id": "117ae540-adaa-44ac-9f34-53617de0aad4",
   "metadata": {},
   "source": [
    "DDL stands for Data Definition Language. It is a set of commands that are used to define the structure of a database. DDL commands are used to create, alter, drop, and rename tables, views, and other database objects.\n",
    "DDL commands are used to create and manage the structure of a database. They are an essential part of database administration.\n",
    "DDL commands are an important part of database management. They allow database administrators and developers to create and manage the structure of a database.\n",
    "\n",
    "CREATE is used to create a new database object. For example, the following command creates a new table called students:\n",
    "create table students(id INT, name VARCHAR(40), class VARCHAR(10));\n",
    "\n",
    "DROP is used to delete a database object. For example, the following command deletes the table students:\n",
    "drop table students;\n",
    "\n",
    "ALTER is used to modify the structure of a database object. For example, the following command adds a new column called mobile to students table:\n",
    "alter table students ADD mobile INT;\n",
    "\n",
    "TRUNCATE is used to delete all the data from a table. However, it does not delete the table structure. For example, the following command deletes all the data from the students table:\n",
    "truncate table students;"
   ]
  },
  {
   "cell_type": "markdown",
   "id": "6212a68a-03a6-4af4-9691-04f2d4207184",
   "metadata": {},
   "source": [
    "Q3. What is DML? Explain INSERT, UPDATE, and DELETE with an example."
   ]
  },
  {
   "cell_type": "markdown",
   "id": "f9ade182-2b39-4319-9fb9-e08b94703b74",
   "metadata": {},
   "source": [
    "DML stands for Data Manipulation Language. It is a set of SQL statements used to insert, update, and delete data in a database.\n",
    "DML statements are used to modify the data in a database. They are an essential part of SQL and are used by database administrators, developers, and analysts to manage data.\n",
    "\n",
    "INSERT is used to add new rows to a table. The syntax for an INSERT statement is:\n",
    "insert into students values(101, \"subh\", \"datascience\", 987654);\n",
    "\n",
    "UPDATE is used to change the values of existing rows in a table. The syntax for an UPDATE statement is:\n",
    "update students set name=\"subhajeet\" where id=101;\n",
    "\n",
    "DELETE is used to delete rows from a table. The syntax for a DELETE statement is:\n",
    "delete from students where id=101;"
   ]
  },
  {
   "cell_type": "markdown",
   "id": "fab5a27b-f5f4-4b7f-b80a-260660132da2",
   "metadata": {},
   "source": [
    "Q4. What is DQL? Explain SELECT with an example."
   ]
  },
  {
   "cell_type": "markdown",
   "id": "f7df30b1-caf5-49fa-9bb0-ee5ae368a8d6",
   "metadata": {},
   "source": [
    "DQL stands for Data Query Language. It is a set of SQL statements used to retrieve data from a database. The most common DQL statement is SELECT, which is used to select specific columns and rows from a table.\n",
    "The SELECT statement is a powerful tool that can be used to retrieve data from a database. It is an essential part of SQL and is used by database administrators, developers, and analysts to manage data.\n",
    "\n",
    "The syntax for a SELECT statement is:\n",
    "select * from students;\n",
    "select * from students where id=101;\n",
    "select id, name from students;"
   ]
  },
  {
   "cell_type": "markdown",
   "id": "dd1f3651-115c-44df-bb58-32c1c0c9c457",
   "metadata": {},
   "source": [
    "Q5. Explain Primary Key and Foreign Key."
   ]
  },
  {
   "cell_type": "markdown",
   "id": "7b9579e3-9a46-4c22-b73f-75247a9d4ef5",
   "metadata": {},
   "source": [
    "A primary key is a column or a combination of columns in a database table that uniquely identifies each record in the table. It ensures the uniqueness and integrity of the data within the table. Every table should have a primary key defined. The primary key has the following characteristics:\n",
    "1. Uniqueness: Each value in the primary key column(s) must be unique, meaning no two records can have the same primary key value.\n",
    "2. Non-nullability: The primary key column(s) cannot have a null value, ensuring that each record is uniquely identifiable.\n",
    "3. Unchanging: The primary key value(s) should ideally remain constant throughout the lifetime of a record.\n",
    "\n",
    "A foreign key is a column or a combination of columns in a table that establishes a link or relationship to the primary key of another table. It creates a logical connection between two tables, representing a dependency between the records of the tables. The foreign key has the following characteristics:\n",
    "1. Referential Integrity: The foreign key ensures that the values in the column(s) referencing the primary key of another table match the existing values in the referenced primary key column(s).\n",
    "2. Relationship Establishment: It establishes relationships between tables, allowing data to be linked and accessed across related tables."
   ]
  },
  {
   "cell_type": "markdown",
   "id": "0ab6ba9b-d988-4262-88cb-020d81a5cb65",
   "metadata": {},
   "source": [
    "Q6. Write a python code to connect MySQL to python. Explain the cursor() and execute() method."
   ]
  },
  {
   "cell_type": "markdown",
   "id": "0db0a8c3-887c-4ff7-b0db-2cb13f6b2b89",
   "metadata": {},
   "source": [
    "import mysql.connector\n",
    "mydb=mysql.connector.connect(host=\"hostname\", user=\"username\", password=\"password\")\n",
    "mycursor=mydb.cursor()\n",
    "mydb.close()"
   ]
  },
  {
   "cell_type": "markdown",
   "id": "c293fe87-25c3-4998-9aba-0bed508633db",
   "metadata": {},
   "source": [
    "The cursor() method is used to create a cursor object. A cursor object is used to execute SQL queries and fetch the results. The execute() method is used to execute a SQL query. The fetchall() method is used to fetch all the results of a query.\n",
    "The cursor() and execute() methods are two of the most important methods in Python for working with MySQL databases. They are used to execute SQL queries and fetch the results."
   ]
  },
  {
   "cell_type": "markdown",
   "id": "a7fd4182-289a-47cf-9cb6-8229ac685a9b",
   "metadata": {},
   "source": [
    "Q7. Give the order of execution of SQL clauses in an SQL query."
   ]
  },
  {
   "cell_type": "markdown",
   "id": "67ca89bf-a73c-4a76-a1e5-28a6aa11d58c",
   "metadata": {},
   "source": [
    "The order of execution of SQL clauses in an SQL query is as follows:\n",
    "\n",
    "1. FROM: The FROM clause specifies the tables that are involved in the query.\n",
    "2. JOIN: The JOIN clause specifies how the tables are related to each other.\n",
    "3. WHERE: The WHERE clause specifies the conditions that the rows must meet in order to be included in the results.\n",
    "4. GROUP BY: The GROUP BY clause specifies how the rows are grouped together.\n",
    "5. HAVING: The HAVING clause specifies the conditions that the groups must meet in order to be included in the results.\n",
    "6. SELECT: The SELECT clause specifies the columns that are included in the results.\n",
    "7. ORDER BY: The ORDER BY clause specifies how the results are sorted.\n",
    "8. LIMIT: The LIMIT clause specifies the number of rows that are included in the results."
   ]
  }
 ],
 "metadata": {
  "kernelspec": {
   "display_name": "Python 3 (ipykernel)",
   "language": "python",
   "name": "python3"
  },
  "language_info": {
   "codemirror_mode": {
    "name": "ipython",
    "version": 3
   },
   "file_extension": ".py",
   "mimetype": "text/x-python",
   "name": "python",
   "nbconvert_exporter": "python",
   "pygments_lexer": "ipython3",
   "version": "3.10.8"
  }
 },
 "nbformat": 4,
 "nbformat_minor": 5
}
