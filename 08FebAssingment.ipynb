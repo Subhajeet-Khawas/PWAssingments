{
 "cells": [
  {
   "cell_type": "markdown",
   "id": "be1ca699-846d-46ec-acdf-8420458e1b6b",
   "metadata": {},
   "source": [
    "Q1. What is Abstraction in OOps? Explain with an example."
   ]
  },
  {
   "cell_type": "markdown",
   "id": "14ef80c5-8616-4cc1-b9eb-4f02ed6e3fd6",
   "metadata": {},
   "source": [
    "Abstraction is one of the four pillars of object-oriented programming (OOP). It is a process of hiding the implementation details of an object and exposing only the necessary information to the user. This makes the code more readable, maintainable, and reusable.\n",
    "\n",
    "In Python, abstraction can be achieved using abstract classes and methods. An abstract class is a class that cannot be instantiated. It is used to define the common behavior of a group of objects. Abstract methods are methods that are declared, but not implemented. They must be implemented by the subclasses of the abstract class."
   ]
  },
  {
   "cell_type": "code",
   "execution_count": 11,
   "id": "74814994-8119-4d0b-a23d-7a695f4e8512",
   "metadata": {},
   "outputs": [
    {
     "name": "stdout",
     "output_type": "stream",
     "text": [
      "Required\n",
      "Required\n",
      "Required\n",
      "Not Required\n"
     ]
    }
   ],
   "source": [
    "from abc import *\n",
    "class Vehicle(ABC):\n",
    "    @abc.abstractmethod\n",
    "    def fuel(self):\n",
    "        pass\n",
    "    @abc.abstractmethod\n",
    "    def ac(self):\n",
    "        pass\n",
    "\n",
    "class Car(Vehicle):\n",
    "    def fuel(self):\n",
    "        print(\"Required\")\n",
    "    def ac(self):\n",
    "        print(\"Required\")\n",
    "class Bike(Vehicle):\n",
    "    def fuel(self):\n",
    "        print(\"Required\")\n",
    "    def ac(self):\n",
    "        print(\"Not Required\")\n",
    "        \n",
    "c=Car()\n",
    "c.fuel()\n",
    "c.ac()\n",
    "\n",
    "b=Bike()\n",
    "b.fuel()\n",
    "b.ac()"
   ]
  },
  {
   "cell_type": "markdown",
   "id": "0dac5689-c10d-4de5-8ae7-d2a829e8ed3e",
   "metadata": {},
   "source": [
    "Q2. Differentiate between Abstraction and Encapsulation. Explain with an example."
   ]
  },
  {
   "cell_type": "markdown",
   "id": "6c23f4c9-fffe-4d4a-a599-5f91b28b204d",
   "metadata": {},
   "source": [
    "Abstraction focuses on hiding the internal details and complexity of an object and exposing only the essential features or behavior that are relevant to the outside world. It provides a simplified and generalized view of an object, allowing users to interact with it without being concerned about its internal implementation.\n",
    "\n",
    "Encapsulation refers to the bundling of data (attributes) and methods (behavior) within a single unit called a class. It involves hiding the internal state and implementation details of an object from the outside world and providing controlled access to that object through well-defined interfaces."
   ]
  },
  {
   "cell_type": "code",
   "execution_count": 10,
   "id": "e82992da-81be-47b6-857e-75e40bee25cd",
   "metadata": {},
   "outputs": [
    {
     "name": "stdout",
     "output_type": "stream",
     "text": [
      "Required\n",
      "Required\n",
      "Required\n",
      "Not Required\n"
     ]
    }
   ],
   "source": [
    "#example of abstraction\n",
    "from abc import *\n",
    "class Vehicle(ABC):\n",
    "    @abc.abstractmethod\n",
    "    def fuel(self):\n",
    "        pass\n",
    "    @abc.abstractmethod\n",
    "    def ac(self):\n",
    "        pass\n",
    "\n",
    "class Car(Vehicle):\n",
    "    def fuel(self):\n",
    "        print(\"Required\")\n",
    "    def ac(self):\n",
    "        print(\"Required\")\n",
    "class Bike(Vehicle):\n",
    "    def fuel(self):\n",
    "        print(\"Required\")\n",
    "    def ac(self):\n",
    "        print(\"Not Required\")\n",
    "        \n",
    "c=Car()\n",
    "c.fuel()\n",
    "c.ac()\n",
    "\n",
    "b=Bike()\n",
    "b.fuel()\n",
    "b.ac()"
   ]
  },
  {
   "cell_type": "code",
   "execution_count": 6,
   "id": "86e21b8e-9760-4036-8e7d-68e53d2ca54b",
   "metadata": {},
   "outputs": [
    {
     "name": "stdout",
     "output_type": "stream",
     "text": [
      "A/C balance is: 1500\n",
      "A/C balance is: 1500\n",
      "A/C balance is: 500\n",
      "Not enough balance in account\n"
     ]
    }
   ],
   "source": [
    "#example of encapsulation\n",
    "class Bank:\n",
    "    def __init__(self,balance):\n",
    "        self.balance=balance\n",
    "        return\n",
    "    def deposit(self, amount):\n",
    "        self.balance=self.balance+amount\n",
    "        print(\"A/C balance is: {}\".format(self.balance))\n",
    "        return\n",
    "    def withdraw(self, amount):\n",
    "        if self.balance>amount:\n",
    "            self.balance=self.balance-amount\n",
    "            print(\"A/C balance is: {}\".format(self.balance))\n",
    "        else:\n",
    "            print(\"Not enough balance in account\")\n",
    "    def display(self):\n",
    "        print(\"A/C balance is: {}\".format(self.balance))\n",
    "        return\n",
    "obj=Bank(1000)\n",
    "obj.deposit(500)\n",
    "obj.display()\n",
    "obj.withdraw(1000)\n",
    "obj.withdraw(5000)"
   ]
  },
  {
   "cell_type": "markdown",
   "id": "79ef204f-384d-46f3-a0c7-7e8f88a16a10",
   "metadata": {},
   "source": [
    "Q3. What is abc module in python? Why is it used?"
   ]
  },
  {
   "cell_type": "markdown",
   "id": "0185a0bb-ab7b-4bd0-b90f-db6c9190c89f",
   "metadata": {},
   "source": [
    "The abc module in Python provides the infrastructure for defining abstract base classes (ABCs). Abstract base classes are classes that cannot be instantiated. They are used to define the common behavior of a group of objects. Abstract methods are methods that are declared, but not implemented. They must be implemented by the subclasses of the abstract class.\n",
    "\n",
    "The abc module is used to define abstract base classes and abstract methods. It also provides a number of helper functions that can be used to test whether a class or instance provides a particular interface."
   ]
  },
  {
   "cell_type": "markdown",
   "id": "7b60f93e-b3df-4040-a782-071285216d0b",
   "metadata": {},
   "source": [
    "Q4. How can we achieve data abstraction?"
   ]
  },
  {
   "cell_type": "markdown",
   "id": "d30bb3ce-b15f-4d87-a001-d8313acf5119",
   "metadata": {},
   "source": [
    "Data abstraction is a process of hiding the implementation details of an object and exposing only the necessary information to the user. This makes the code more readable, maintainable, and reusable.\n",
    "\n",
    "There are two main ways to achieve data abstraction:\n",
    "\n",
    "1. Abstract classes: An abstract class is a class that cannot be instantiated. It is used to define the common behavior of a group of objects. Abstract methods are methods that are declared, but not implemented. They must be implemented by the subclasses of the abstract class.\n",
    "\n",
    "2. Interfaces: An interface is a contract that defines the methods that a class must implement. Interfaces cannot contain any data members."
   ]
  },
  {
   "cell_type": "markdown",
   "id": "697a4ad9-0569-4022-b377-7d964670c92f",
   "metadata": {},
   "source": [
    "Q5. Can we create an instance of an abstract class? Explain your answer."
   ]
  },
  {
   "cell_type": "markdown",
   "id": "c093fc08-2071-46f6-bdb8-61e80e7edb23",
   "metadata": {},
   "source": [
    "No, we cannot create an instance of an abstract class. An abstract class is a class that is incomplete, and it is not possible to create an object from an incomplete class. Abstract classes are used to define the common behavior of a group of objects, and they are typically used as a base class for concrete classes. Concrete classes inherit from abstract classes and provide implementations for the abstract methods."
   ]
  },
  {
   "cell_type": "code",
   "execution_count": 9,
   "id": "f257e241-5fb8-42a8-b1f1-17bbc519c902",
   "metadata": {},
   "outputs": [
    {
     "ename": "TypeError",
     "evalue": "Can't instantiate abstract class Vehicle with abstract methods ac, fuel",
     "output_type": "error",
     "traceback": [
      "\u001b[0;31m---------------------------------------------------------------------------\u001b[0m",
      "\u001b[0;31mTypeError\u001b[0m                                 Traceback (most recent call last)",
      "Cell \u001b[0;32mIn[9], line 10\u001b[0m\n\u001b[1;32m      6\u001b[0m     \u001b[38;5;129m@abc\u001b[39m\u001b[38;5;241m.\u001b[39mabstractmethod\n\u001b[1;32m      7\u001b[0m     \u001b[38;5;28;01mdef\u001b[39;00m \u001b[38;5;21mac\u001b[39m(\u001b[38;5;28mself\u001b[39m):\n\u001b[1;32m      8\u001b[0m         \u001b[38;5;28;01mpass\u001b[39;00m\n\u001b[0;32m---> 10\u001b[0m obj\u001b[38;5;241m=\u001b[39m\u001b[43mVehicle\u001b[49m\u001b[43m(\u001b[49m\u001b[43m)\u001b[49m\n",
      "\u001b[0;31mTypeError\u001b[0m: Can't instantiate abstract class Vehicle with abstract methods ac, fuel"
     ]
    }
   ],
   "source": [
    "from abc import *\n",
    "class Vehicle(ABC):\n",
    "    @abc.abstractmethod\n",
    "    def fuel(self):\n",
    "        pass\n",
    "    @abc.abstractmethod\n",
    "    def ac(self):\n",
    "        pass\n",
    "\n",
    "obj=Vehicle()"
   ]
  },
  {
   "cell_type": "code",
   "execution_count": null,
   "id": "097da6e8-e8ed-4229-a970-1acc1401e213",
   "metadata": {},
   "outputs": [],
   "source": []
  }
 ],
 "metadata": {
  "kernelspec": {
   "display_name": "Python 3 (ipykernel)",
   "language": "python",
   "name": "python3"
  },
  "language_info": {
   "codemirror_mode": {
    "name": "ipython",
    "version": 3
   },
   "file_extension": ".py",
   "mimetype": "text/x-python",
   "name": "python",
   "nbconvert_exporter": "python",
   "pygments_lexer": "ipython3",
   "version": "3.10.8"
  }
 },
 "nbformat": 4,
 "nbformat_minor": 5
}
