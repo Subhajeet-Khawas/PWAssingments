{
 "cells": [
  {
   "cell_type": "markdown",
   "id": "7383d190-204c-4bb7-b9ac-a465b29b6a37",
   "metadata": {},
   "source": [
    "Q1: What is Estimation Statistics? Explain point estimate and interval estimate."
   ]
  },
  {
   "cell_type": "markdown",
   "id": "f758b737-a9e8-4b34-b1dd-33eb68851540",
   "metadata": {},
   "source": [
    "**Estimation Statistics:**\n",
    "\n",
    "Estimation in statistics refers to the process of using sample data to make inferences or predictions about unknown population parameters. It involves providing an estimate, or best guess, of a population parameter based on information obtained from a sample. There are two main types of estimation in statistics: point estimation and interval estimation.\n",
    "\n",
    "1. **Point Estimate:**\n",
    "   - A point estimate is a single value that is used to estimate a population parameter. It is a specific numerical value calculated from the sample data and serves as the best guess for the true value of the parameter. Common point estimates include the sample mean (\\(\\bar{x}\\)) as an estimate of the population mean (\\(\\mu\\)), and the sample proportion (\\(\\hat{p}\\)) as an estimate of the population proportion (\\(p\\)).\n",
    "\n",
    "   Example:\n",
    "   - If you calculate the average height of a sample of students and obtain a value of 65 inches, then 65 inches is a point estimate of the average height of the entire population of students.\n",
    "\n",
    "2. **Interval Estimate:**\n",
    "   - An interval estimate provides a range within which the true value of the population parameter is likely to fall. Instead of giving a single point, it gives an interval, or range, that is believed to contain the true parameter. This interval is accompanied by a confidence level, which expresses the level of confidence that the interval contains the true parameter.\n",
    "\n",
    "   Example:\n",
    "   - If you calculate a 95% confidence interval for the average height of a population and obtain a range of 62 inches to 68 inches, it means you are 95% confident that the true average height of the population falls within that interval.\n",
    "\n",
    "**Significance of Point Estimate and Interval Estimate:**\n",
    "\n",
    "- **Point Estimate:**\n",
    "  - Provides a specific value that serves as the best guess for the unknown population parameter.\n",
    "  - Easy to communicate and understand.\n",
    "  - Lacks information about the variability or uncertainty associated with the estimate.\n",
    "\n",
    "- **Interval Estimate:**\n",
    "  - Provides a range that accounts for the uncertainty in the estimate.\n",
    "  - Communicates the precision of the estimate and the level of confidence associated with the range.\n",
    "  - Conveys more information about the likely range of values for the population parameter.\n",
    "\n",
    "In summary, estimation in statistics involves providing either a single point estimate or an interval estimate for an unknown population parameter based on sample data. Point estimates offer simplicity, while interval estimates provide a more nuanced understanding of the likely range of values. The choice between the two depends on the desired level of precision and the need to communicate uncertainty in the estimation process."
   ]
  },
  {
   "cell_type": "markdown",
   "id": "30069055-2f55-4b71-a69e-db04b54a04ba",
   "metadata": {},
   "source": [
    "Q2. Write a Python function to estimate the population mean using a sample mean and standard\n",
    "deviation."
   ]
  },
  {
   "cell_type": "code",
   "execution_count": 2,
   "id": "c2bed2f8-e5bc-43a0-9ce8-0fd616a99c5b",
   "metadata": {},
   "outputs": [
    {
     "name": "stdout",
     "output_type": "stream",
     "text": [
      "Estimated population mean: 65.5\n",
      "Confidence Interval: (64.30510036237408, 66.69489963762592) at 95.0% confidence level.\n"
     ]
    }
   ],
   "source": [
    "import scipy.stats as stats\n",
    "\n",
    "def estimate_population_mean(sample_mean, sample_std, sample_size, confidence_level=0.95):\n",
    "    \"\"\"\n",
    "    Estimate the population mean using a confidence interval.\n",
    "\n",
    "    Parameters:\n",
    "    - sample_mean: The mean of the sample.\n",
    "    - sample_std: The standard deviation of the sample.\n",
    "    - sample_size: The size of the sample.\n",
    "    - confidence_level: The desired confidence level (default is 0.95 for a 95% confidence interval).\n",
    "\n",
    "    Returns:\n",
    "    - Tuple containing the lower and upper bounds of the confidence interval.\n",
    "    \"\"\"\n",
    "\n",
    "    # Calculate the standard error of the mean\n",
    "    standard_error = sample_std / (sample_size ** 0.5)\n",
    "\n",
    "    # Calculate the degrees of freedom for the t-distribution\n",
    "    degrees_of_freedom = sample_size - 1\n",
    "\n",
    "    # Find the critical value from the t-distribution based on the confidence level\n",
    "    alpha = 1 - confidence_level\n",
    "    t_critical = stats.t.ppf(1 - alpha / 2, df=degrees_of_freedom)\n",
    "\n",
    "    # Calculate the margin of error\n",
    "    margin_of_error = t_critical * standard_error\n",
    "\n",
    "    # Calculate the lower and upper bounds of the confidence interval\n",
    "    lower_bound = sample_mean - margin_of_error\n",
    "    upper_bound = sample_mean + margin_of_error\n",
    "\n",
    "    return lower_bound, upper_bound\n",
    "\n",
    "# Example usage:\n",
    "sample_mean = 65.5\n",
    "sample_std = 3.2\n",
    "sample_size = 30\n",
    "confidence_level = 0.95\n",
    "\n",
    "confidence_interval = estimate_population_mean(sample_mean, sample_std, sample_size, confidence_level)\n",
    "print(f\"Estimated population mean: {sample_mean}\")\n",
    "print(f\"Confidence Interval: {confidence_interval} at {confidence_level * 100}% confidence level.\")\n"
   ]
  },
  {
   "cell_type": "markdown",
   "id": "b8c18d50-f60a-4eb1-b224-ebbd966c92d4",
   "metadata": {},
   "source": [
    "Q3: What is Hypothesis testing? Why is it used? State the importance of Hypothesis testing."
   ]
  },
  {
   "cell_type": "markdown",
   "id": "42db9636-28a8-4115-9fab-da4e25935de7",
   "metadata": {},
   "source": [
    "**Hypothesis Testing:**\n",
    "\n",
    "Hypothesis testing is a statistical method used to make inferences about population parameters based on a sample of data. It involves the formulation of two competing hypotheses: the null hypothesis (\\(H_0\\)) and the alternative hypothesis (\\(H_1\\) or \\(H_a\\)). The goal is to assess the evidence provided by the sample data and decide whether to reject the null hypothesis in favor of the alternative hypothesis.\n",
    "\n",
    "The general process of hypothesis testing involves the following steps:\n",
    "\n",
    "1. **Formulate Hypotheses:**\n",
    "   - Define the null hypothesis (\\(H_0\\)), which typically represents a statement of no effect or no difference, and the alternative hypothesis (\\(H_1\\) or \\(H_a\\)), which represents the opposite.\n",
    "\n",
    "2. **Collect and Analyze Data:**\n",
    "   - Collect a sample of data relevant to the hypothesis being tested. Analyze the sample data to obtain relevant statistics.\n",
    "\n",
    "3. **Choose Significance Level (\\(\\alpha\\)):**\n",
    "   - Select a significance level (\\(\\alpha\\)), which represents the probability of rejecting the null hypothesis when it is true. Common choices include 0.05, 0.01, or 0.10.\n",
    "\n",
    "4. **Perform Test:**\n",
    "   - Use a statistical test (e.g., t-test, chi-square test, z-test) to calculate a test statistic based on the sample data.\n",
    "\n",
    "5. **Make a Decision:**\n",
    "   - Compare the calculated test statistic to a critical value or p-value. If the test statistic falls in the rejection region, reject the null hypothesis. Otherwise, fail to reject the null hypothesis.\n",
    "\n",
    "6. **Draw Conclusion:**\n",
    "   - Draw conclusions based on the statistical evidence. If the null hypothesis is rejected, it suggests evidence in favor of the alternative hypothesis. If the null hypothesis is not rejected, there is insufficient evidence to support the alternative hypothesis.\n",
    "\n",
    "**Importance of Hypothesis Testing:**\n",
    "\n",
    "1. **Scientific Inquiry:**\n",
    "   - Hypothesis testing is fundamental to the scientific method. It allows researchers to test hypotheses and draw conclusions about the underlying populations.\n",
    "\n",
    "2. **Decision Making:**\n",
    "   - Hypothesis testing provides a structured framework for making decisions based on data. It helps individuals and organizations make informed choices and take appropriate actions.\n",
    "\n",
    "3. **Statistical Inference:**\n",
    "   - Hypothesis testing is a key component of statistical inference. It allows researchers to generalize findings from a sample to a larger population.\n",
    "\n",
    "4. **Quality Control:**\n",
    "   - In manufacturing and industry, hypothesis testing is used for quality control purposes. It helps identify deviations from desired standards.\n",
    "\n",
    "5. **Medical Research:**\n",
    "   - In medical research, hypothesis testing is crucial for assessing the effectiveness of treatments, drugs, or interventions.\n",
    "\n",
    "6. **Policy Evaluation:**\n",
    "   - Hypothesis testing is used to evaluate the impact of policies, interventions, or changes in various fields.\n",
    "\n",
    "7. **Business Decision Making:**\n",
    "   - Businesses use hypothesis testing to make decisions about marketing strategies, product development, and other aspects of operations.\n",
    "\n",
    "8. **Legal and Criminal Justice:**\n",
    "   - Hypothesis testing is applied in legal settings to assess evidence and support or challenge legal claims.\n",
    "\n",
    "9. **Educational Research:**\n",
    "   - In educational research, hypothesis testing is used to assess the effectiveness of educational interventions and teaching methods.\n",
    "\n",
    "10. **Continuous Improvement:**\n",
    "    - Organizations use hypothesis testing to continuously improve processes, products, and services.\n",
    "\n",
    "In summary, hypothesis testing is a powerful tool for making informed decisions, drawing conclusions from data, and advancing scientific knowledge across various domains. It provides a systematic and rigorous approach to statistical inference."
   ]
  },
  {
   "cell_type": "markdown",
   "id": "2494c9f7-f456-4b34-b3e1-5f6ba38c7bc8",
   "metadata": {},
   "source": [
    "Q4. Create a hypothesis that states whether the average weight of male college students is greater than\n",
    "the average weight of female college students."
   ]
  },
  {
   "cell_type": "markdown",
   "id": "e28e0d39-0f8f-4974-a4b1-59121b65f6e1",
   "metadata": {},
   "source": [
    "Certainly! Let's formulate a hypothesis comparing the average weight of male college students to female college students:\n",
    "\n",
    "- **Null Hypothesis (\\(H_0\\)):**\n",
    "  - The average weight of male college students is equal to or less than the average weight of female college students (\\(\\mu_{\\text{male}} \\leq \\mu_{\\text{female}}\\)).\n",
    "\n",
    "- **Alternative Hypothesis (\\(H_1\\)):**\n",
    "  - The average weight of male college students is greater than the average weight of female college students (\\(\\mu_{\\text{male}} > \\mu_{\\text{female}}\\)).\n",
    "\n",
    "This hypothesis assumes that we are testing for the possibility that male college students, on average, have a greater weight than female college students. The null hypothesis sets the baseline assumption, and the alternative hypothesis suggests the specific direction of the expected difference.\n",
    "\n",
    "Researchers would use statistical methods, such as hypothesis testing and t-tests, to assess whether there is enough evidence in the sample data to reject the null hypothesis in favor of the alternative hypothesis."
   ]
  },
  {
   "cell_type": "markdown",
   "id": "04028a4a-5a10-43d0-b31a-d9104cae93ff",
   "metadata": {},
   "source": [
    "Q5. Write a Python script to conduct a hypothesis test on the difference between two population means,\n",
    "given a sample from each population."
   ]
  },
  {
   "cell_type": "code",
   "execution_count": 4,
   "id": "ce9cade0-4e24-4698-971d-c44aebc3591f",
   "metadata": {},
   "outputs": [
    {
     "name": "stdout",
     "output_type": "stream",
     "text": [
      "T-Statistic: 6.577267682006846\n",
      "P-Value: 1.234513168801854e-05\n",
      "Result: Reject the null hypothesis\n"
     ]
    }
   ],
   "source": [
    "import numpy as np\n",
    "from scipy import stats\n",
    "\n",
    "def two_sample_t_test(sample1, sample2, alpha=0.05):\n",
    "    \"\"\"\n",
    "    Perform a two-sample t-test for the difference between means.\n",
    "\n",
    "    Parameters:\n",
    "    - sample1: The first sample.\n",
    "    - sample2: The second sample.\n",
    "    - alpha: The significance level (default is 0.05).\n",
    "\n",
    "    Returns:\n",
    "    - t_statistic: The calculated t-statistic.\n",
    "    - p_value: The p-value for the test.\n",
    "    - result: A string indicating the result of the hypothesis test.\n",
    "    \"\"\"\n",
    "\n",
    "    # Calculate means and standard deviations\n",
    "    mean1, mean2 = np.mean(sample1), np.mean(sample2)\n",
    "    std1, std2 = np.std(sample1, ddof=1), np.std(sample2, ddof=1)\n",
    "    \n",
    "    # Calculate pooled standard deviation\n",
    "    pooled_std = np.sqrt((std1**2 / len(sample1)) + (std2**2 / len(sample2)))\n",
    "\n",
    "    # Calculate t-statistic\n",
    "    t_statistic = (mean1 - mean2) / pooled_std\n",
    "\n",
    "    # Degrees of freedom\n",
    "    degrees_of_freedom = len(sample1) + len(sample2) - 2\n",
    "\n",
    "    # Calculate p-value\n",
    "    p_value = 2 * (1 - stats.t.cdf(np.abs(t_statistic), df=degrees_of_freedom))\n",
    "\n",
    "    # Compare p-value to significance level\n",
    "    if p_value < alpha:\n",
    "        result = \"Reject the null hypothesis\"\n",
    "    else:\n",
    "        result = \"Fail to reject the null hypothesis\"\n",
    "\n",
    "    return t_statistic, p_value, result\n",
    "\n",
    "# Example usage:\n",
    "# Assume sample1 and sample2 are the weight data for male and female college students, respectively.\n",
    "sample1 = np.array([70, 72, 75, 68, 71, 73, 74, 72])\n",
    "sample2 = np.array([62, 65, 68, 60, 63, 65, 64, 66])\n",
    "\n",
    "t_statistic, p_value, result = two_sample_t_test(sample1, sample2)\n",
    "\n",
    "print(f\"T-Statistic: {t_statistic}\")\n",
    "print(f\"P-Value: {p_value}\")\n",
    "print(f\"Result: {result}\")\n"
   ]
  },
  {
   "cell_type": "markdown",
   "id": "15e01b17-56e1-4b6a-aaa1-5b641a4af397",
   "metadata": {},
   "source": [
    "Q6: What is a null and alternative hypothesis? Give some examples."
   ]
  },
  {
   "cell_type": "markdown",
   "id": "be4e88bd-e099-4c78-ba2c-1b1d4377c1ff",
   "metadata": {},
   "source": [
    "**Null Hypothesis (\\(H_0\\)):**\n",
    "The null hypothesis is a statement of no effect, no difference, or no relationship in a statistical hypothesis test. It is often denoted by \\(H_0\\) and represents the status quo or a baseline assumption. The null hypothesis is what the researcher tries to test against or challenge.\n",
    "\n",
    "**Example 1 (Population Mean):**\n",
    "\\[ H_0: \\mu = 50 \\]\n",
    "- Null hypothesis states that the population mean (\\(\\mu\\)) is equal to 50.\n",
    "\n",
    "**Example 2 (Proportion):**\n",
    "\\[ H_0: p = 0.75 \\]\n",
    "- Null hypothesis states that the population proportion (\\(p\\)) is equal to 0.75.\n",
    "\n",
    "**Example 3 (No Effect):**\n",
    "\\[ H_0: \\text{There is no effect of the treatment on the outcome} \\]\n",
    "- Null hypothesis asserts that a treatment has no effect on the outcome being measured.\n",
    "\n",
    "**Alternative Hypothesis (\\(H_1\\) or \\(H_a\\)):**\n",
    "The alternative hypothesis is a statement that contradicts the null hypothesis. It represents the researcher's hypothesis or the effect, difference, or relationship they are trying to establish. The alternative hypothesis is what the researcher hopes to support with evidence from the data.\n",
    "\n",
    "**Example 1 (Population Mean):**\n",
    "\\[ H_1: \\mu \\neq 50 \\]\n",
    "- Alternative hypothesis states that the population mean (\\(\\mu\\)) is not equal to 50.\n",
    "\n",
    "**Example 2 (Proportion):**\n",
    "\\[ H_1: p > 0.75 \\]\n",
    "- Alternative hypothesis states that the population proportion (\\(p\\)) is greater than 0.75.\n",
    "\n",
    "**Example 3 (Effect of Treatment):**\n",
    "\\[ H_1: \\text{The treatment has a significant effect on the outcome} \\]\n",
    "- Alternative hypothesis asserts that the treatment has a significant effect on the outcome being measured.\n",
    "\n",
    "In hypothesis testing, the goal is to collect evidence from sample data to decide whether to reject the null hypothesis in favor of the alternative hypothesis. The choice of the alternative hypothesis depends on the specific research question and the direction of the effect or difference being investigated. The null hypothesis serves as a baseline assumption that is subject to testing and potential rejection based on the observed data."
   ]
  },
  {
   "cell_type": "markdown",
   "id": "8390fe86-ea43-40d4-b195-d3d8a8cb07e9",
   "metadata": {},
   "source": [
    "Q7: Write down the steps involved in hypothesis testing."
   ]
  },
  {
   "cell_type": "markdown",
   "id": "a77af9cc-8e95-4189-9432-4816c8271aae",
   "metadata": {},
   "source": [
    "Hypothesis testing involves a series of steps to assess the evidence provided by sample data and make a decision regarding the null hypothesis. The following are the general steps involved in hypothesis testing:\n",
    "\n",
    "1. **Formulate Hypotheses:**\n",
    "   - Define the null hypothesis (\\(H_0\\)), representing the status quo or no effect, and the alternative hypothesis (\\(H_1\\) or \\(H_a\\)), representing the desired effect or difference.\n",
    "\n",
    "2. **Choose Significance Level (\\(\\alpha\\)):**\n",
    "   - Select the significance level (\\(\\alpha\\)), which represents the probability of rejecting the null hypothesis when it is true. Common choices include 0.05, 0.01, or 0.10.\n",
    "\n",
    "3. **Collect Data:**\n",
    "   - Collect a sample of data relevant to the hypothesis being tested. Ensure that the data collection process is randomized and unbiased.\n",
    "\n",
    "4. **Choose a Statistical Test:**\n",
    "   - Choose an appropriate statistical test based on the type of data and the hypothesis being tested. Common tests include t-tests, chi-square tests, ANOVA, and regression analysis.\n",
    "\n",
    "5. **Calculate Test Statistic:**\n",
    "   - Use the sample data to calculate the test statistic relevant to the chosen statistical test. The test statistic quantifies the difference or effect observed in the sample.\n",
    "\n",
    "6. **Determine Critical Region or P-Value:**\n",
    "   - Determine the critical region or calculate the p-value. The critical region is the range of values that, if the test statistic falls within it, leads to the rejection of the null hypothesis. The p-value represents the probability of obtaining a test statistic as extreme as, or more extreme than, the one observed, assuming the null hypothesis is true.\n",
    "\n",
    "7. **Make a Decision:**\n",
    "   - Compare the calculated test statistic to the critical value (if using critical regions) or compare the p-value to the significance level (\\(\\alpha\\)). If the test statistic falls in the critical region or the p-value is less than \\(\\alpha\\), reject the null hypothesis. Otherwise, fail to reject the null hypothesis.\n",
    "\n",
    "8. **Draw a Conclusion:**\n",
    "   - Based on the decision made in step 7, draw a conclusion about the null hypothesis. If rejected, provide evidence for the alternative hypothesis. If not rejected, state that there is insufficient evidence to support the alternative hypothesis.\n",
    "\n",
    "9. **Consider Practical Significance:**\n",
    "   - Even if the null hypothesis is rejected, consider the practical significance of the effect or difference observed. A statistically significant result may not always be practically significant.\n",
    "\n",
    "10. **Communicate Results:**\n",
    "    - Clearly communicate the results of the hypothesis test, including the decision made, the evidence provided by the data, and any implications for the research question.\n",
    "\n",
    "It's important to note that hypothesis testing is a tool for statistical inference, and the results are subject to uncertainty. The process aims to make informed decisions based on the available evidence, but conclusions are drawn with a certain level of confidence."
   ]
  },
  {
   "cell_type": "markdown",
   "id": "2ae8addd-5413-4de6-98bb-1e755a7f6d5b",
   "metadata": {},
   "source": [
    "Q8. Define p-value and explain its significance in hypothesis testing."
   ]
  },
  {
   "cell_type": "markdown",
   "id": "b45683f7-8937-4f2b-9080-09d0a6e72522",
   "metadata": {},
   "source": [
    "**P-Value Definition:**\n",
    "\n",
    "The p-value, or probability value, is a measure that helps assess the evidence against a null hypothesis in hypothesis testing. It quantifies the likelihood of obtaining a test statistic as extreme as, or more extreme than, the one observed in the sample data, assuming the null hypothesis is true. In simpler terms, the p-value indicates the probability of observing the observed results (or more extreme) under the assumption that there is no real effect or difference.\n",
    "\n",
    "**Significance of the P-Value:**\n",
    "\n",
    "1. **Decision Rule:**\n",
    "   - In hypothesis testing, the p-value is compared to the significance level (\\(\\alpha\\)), which is predetermined by the researcher. The decision rule is as follows:\n",
    "     - If \\(p \\leq \\alpha\\), reject the null hypothesis.\n",
    "     - If \\(p > \\alpha\\), fail to reject the null hypothesis.\n",
    "\n",
    "2. **Interpretation:**\n",
    "   - A small p-value (typically less than 0.05) suggests that the observed results are unlikely to have occurred by random chance alone. This provides evidence against the null hypothesis, supporting the alternative hypothesis.\n",
    "\n",
    "3. **Statistical Significance:**\n",
    "   - When the p-value is less than or equal to the significance level, the results are considered statistically significant. This indicates that there is enough evidence to reject the null hypothesis in favor of the alternative hypothesis.\n",
    "\n",
    "4. **Non-Significance:**\n",
    "   - When the p-value is greater than the significance level, the results are considered non-significant. This suggests that there is insufficient evidence to reject the null hypothesis.\n",
    "\n",
    "5. **Level of Confidence:**\n",
    "   - The p-value provides a quantitative measure of the level of confidence in the decision. A smaller p-value corresponds to higher confidence in rejecting the null hypothesis.\n",
    "\n",
    "6. **Effect Size Consideration:**\n",
    "   - While a small p-value indicates statistical significance, researchers should also consider the effect size (magnitude of the difference or effect). A statistically significant result may not always be practically significant.\n",
    "\n",
    "7. **Continuous Scale:**\n",
    "   - The p-value is on a continuous scale between 0 and 1. A p-value close to 0 indicates strong evidence against the null hypothesis, while a p-value close to 1 suggests weak evidence against the null hypothesis.\n",
    "\n",
    "8. **Subject to Type I Error Rate:**\n",
    "   - The choice of the significance level (\\(\\alpha\\)) is crucial, as it determines the threshold for rejecting the null hypothesis. A lower \\(\\alpha\\) decreases the likelihood of Type I errors but increases the likelihood of Type II errors.\n",
    "\n",
    "In summary, the p-value is a key component of hypothesis testing that allows researchers to quantify the strength of evidence against the null hypothesis. It serves as a basis for decision-making and provides a standardized measure to assess the statistical significance of observed results."
   ]
  },
  {
   "cell_type": "markdown",
   "id": "0e825cc2-c440-4fbd-b99a-9f4e0ee39209",
   "metadata": {},
   "source": [
    "Q9. Generate a Student's t-distribution plot using Python's matplotlib library, with the degrees of freedom\n",
    "parameter set to 10."
   ]
  },
  {
   "cell_type": "code",
   "execution_count": 6,
   "id": "fc700bae-ac8d-4511-b3e3-aa0379b7ad10",
   "metadata": {},
   "outputs": [
    {
     "data": {
      "image/png": "[encoded data removed]",
      "text/plain": [
       "<Figure size 640x480 with 1 Axes>"
      ]
     },
     "metadata": {},
     "output_type": "display_data"
    }
   ],
   "source": [
    "import numpy as np\n",
    "import matplotlib.pyplot as plt\n",
    "from scipy.stats import t\n",
    "\n",
    "# Degrees of freedom\n",
    "degrees_of_freedom = 10\n",
    "\n",
    "# Generate values for x-axis\n",
    "x_values = np.linspace(-4, 4, 1000)\n",
    "\n",
    "# Calculate probability density function (PDF) values for the t-distribution\n",
    "pdf_values = t.pdf(x_values, df=degrees_of_freedom)\n",
    "\n",
    "# Plot the t-distribution\n",
    "plt.plot(x_values, pdf_values, label=f't-Distribution (df={degrees_of_freedom})')\n",
    "plt.title(f'Student\\'s t-Distribution (df={degrees_of_freedom})')\n",
    "plt.xlabel('x')\n",
    "plt.ylabel('Probability Density Function (PDF)')\n",
    "plt.legend()\n",
    "plt.grid(True)\n",
    "plt.show()\n"
   ]
  },
  {
   "cell_type": "markdown",
   "id": "a5fd9cbf-ff29-49e9-82b3-8eb8580548c6",
   "metadata": {},
   "source": [
    "Q10. Write a Python program to calculate the two-sample t-test for independent samples, given two\n",
    "random samples of equal size and a null hypothesis that the population means are equal."
   ]
  },
  {
   "cell_type": "code",
   "execution_count": 7,
   "id": "b6e909a8-603f-4bfc-b304-f8fd20e54bb4",
   "metadata": {},
   "outputs": [
    {
     "name": "stdout",
     "output_type": "stream",
     "text": [
      "Two-Sample T-Test Results:\n",
      "T-Statistic: 1.7456025112852054\n",
      "P-Value: 0.08617561619553454\n",
      "Result: Fail to reject the null hypothesis\n"
     ]
    }
   ],
   "source": [
    "import numpy as np\n",
    "from scipy import stats\n",
    "\n",
    "def two_sample_t_test(sample1, sample2, alpha=0.05):\n",
    "    \"\"\"\n",
    "    Perform a two-sample t-test for independent samples.\n",
    "\n",
    "    Parameters:\n",
    "    - sample1: The first sample.\n",
    "    - sample2: The second sample.\n",
    "    - alpha: The significance level (default is 0.05).\n",
    "\n",
    "    Returns:\n",
    "    - t_statistic: The calculated t-statistic.\n",
    "    - p_value: The p-value for the test.\n",
    "    - result: A string indicating the result of the hypothesis test.\n",
    "    \"\"\"\n",
    "\n",
    "    # Perform the two-sample t-test\n",
    "    t_statistic, p_value = stats.ttest_ind(sample1, sample2)\n",
    "\n",
    "    # Compare p-value to significance level\n",
    "    if p_value < alpha:\n",
    "        result = \"Reject the null hypothesis\"\n",
    "    else:\n",
    "        result = \"Fail to reject the null hypothesis\"\n",
    "\n",
    "    return t_statistic, p_value, result\n",
    "\n",
    "# Example usage:\n",
    "# Generate two random samples with equal size\n",
    "np.random.seed(42)\n",
    "sample_size = 30\n",
    "sample1 = np.random.normal(50, 10, size=sample_size)\n",
    "sample2 = np.random.normal(45, 12, size=sample_size)\n",
    "\n",
    "# Perform two-sample t-test\n",
    "t_statistic, p_value, result = two_sample_t_test(sample1, sample2)\n",
    "\n",
    "# Print results\n",
    "print(f\"Two-Sample T-Test Results:\")\n",
    "print(f\"T-Statistic: {t_statistic}\")\n",
    "print(f\"P-Value: {p_value}\")\n",
    "print(f\"Result: {result}\")\n"
   ]
  },
  {
   "cell_type": "markdown",
   "id": "1f84e324-1710-44ac-a3fd-4a9ccb468b80",
   "metadata": {},
   "source": [
    "Q11: What is Student’s t distribution? When to use the t-Distribution."
   ]
  },
  {
   "cell_type": "markdown",
   "id": "c77beb52-8ab6-4be8-84a1-d47f9ab60a7f",
   "metadata": {},
   "source": [
    "**Student's t-Distribution:**\n",
    "\n",
    "Student's t-distribution, or simply the t-distribution, is a probability distribution that is used in statistical hypothesis testing when the sample size is small, and the population standard deviation is unknown. It is similar to the normal distribution but has heavier tails, allowing for greater variability in small samples.\n",
    "\n",
    "The t-distribution is characterized by its degrees of freedom (\\(df\\)), which determine its shape. As the degrees of freedom increase, the t-distribution approaches the shape of the standard normal distribution.\n",
    "\n",
    "**When to Use the t-Distribution:**\n",
    "\n",
    "The t-distribution is used in the following scenarios:\n",
    "\n",
    "1. **Small Sample Sizes:**\n",
    "   - The t-distribution is particularly useful when working with small sample sizes (typically when the sample size is less than 30). In situations where the sample size is larger, the t-distribution approaches the normal distribution.\n",
    "\n",
    "2. **Unknown Population Standard Deviation:**\n",
    "   - When the population standard deviation is unknown, and it needs to be estimated from the sample data, the t-distribution is preferred. In such cases, the sample standard deviation is used to estimate the population standard deviation.\n",
    "\n",
    "3. **Hypothesis Testing:**\n",
    "   - The t-distribution is commonly used in hypothesis testing, especially when performing t-tests. For example, in scenarios involving comparisons of means or when testing the significance of regression coefficients.\n",
    "\n",
    "4. **Confidence Intervals:**\n",
    "   - When constructing confidence intervals for population parameters (such as the mean) based on sample data, the t-distribution is used. This is crucial when dealing with small sample sizes.\n",
    "\n",
    "5. **Real-World Applications:**\n",
    "   - The t-distribution is applied in various real-world situations where the assumptions of normality and known population standard deviation are not met. Examples include medical research, educational studies, and quality control.\n",
    "\n",
    "**Key Characteristics:**\n",
    "\n",
    "- The t-distribution is symmetric and bell-shaped, like the normal distribution.\n",
    "- The shape of the t-distribution is determined by its degrees of freedom.\n",
    "- As the degrees of freedom increase, the t-distribution approaches the standard normal distribution.\n",
    "- The t-distribution has fatter tails compared to the normal distribution, accommodating greater variability in small samples.\n",
    "\n",
    "In summary, the t-distribution is a valuable tool in statistics when working with small sample sizes and dealing with situations where the population standard deviation is unknown. It provides a more accurate representation of the variability in the data under such conditions and is commonly used in hypothesis testing and constructing confidence intervals."
   ]
  },
  {
   "cell_type": "markdown",
   "id": "ab467cbe-75d0-4b7b-bf7d-9b62d919b777",
   "metadata": {},
   "source": [
    "Q12: What is t-statistic? State the formula for t-statistic."
   ]
  },
  {
   "cell_type": "markdown",
   "id": "1d2a16b6-3318-410d-92f7-fc95ddfcfdb9",
   "metadata": {},
   "source": [
    "The t-statistic is a measure used in statistical hypothesis testing to assess the evidence against the null hypothesis. It quantifies the difference between the sample mean and the hypothesized population mean in terms of the standard error of the sample mean. The t-statistic follows a Student's t-distribution, and its magnitude is compared to critical values or a p-value to make a decision about the null hypothesis.\n",
    "\n",
    "**Formula for t-Statistic:**\n",
    "\n",
    "The formula for the t-statistic depends on the context of the hypothesis test. Here are the formulas for two common scenarios:\n",
    "\n",
    "1. **One-Sample t-Test:**\n",
    "   - The t-statistic for a one-sample t-test, comparing the sample mean (\\(\\bar{x}\\)) to the hypothesized population mean (\\(\\mu_0\\)), is given by:\n",
    "     \\[ t = \\frac{\\bar{x} - \\mu_0}{\\frac{s}{\\sqrt{n}}} \\]\n",
    "   - Where:\n",
    "     - \\(\\bar{x}\\) is the sample mean.\n",
    "     - \\(\\mu_0\\) is the hypothesized population mean.\n",
    "     - \\(s\\) is the sample standard deviation.\n",
    "     - \\(n\\) is the sample size.\n",
    "\n",
    "2. **Two-Sample t-Test:**\n",
    "   - The t-statistic for a two-sample t-test, comparing the means of two independent samples, is given by:\n",
    "     \\[ t = \\frac{\\bar{x}_1 - \\bar{x}_2}{\\sqrt{\\frac{s_1^2}{n_1} + \\frac{s_2^2}{n_2}}} \\]\n",
    "   - Where:\n",
    "     - \\(\\bar{x}_1\\) and \\(\\bar{x}_2\\) are the sample means of the two samples.\n",
    "     - \\(s_1\\) and \\(s_2\\) are the sample standard deviations of the two samples.\n",
    "     - \\(n_1\\) and \\(n_2\\) are the sample sizes of the two samples.\n",
    "\n",
    "In both formulas, the numerator represents the difference between the sample mean and the hypothesized population mean or between the sample means, and the denominator represents the standard error of the mean. The t-statistic is then compared to critical values or a p-value to determine whether to reject the null hypothesis.\n",
    "\n",
    "The critical values or p-value are obtained from the t-distribution table or statistical software. If the calculated t-statistic falls in the critical region or if the p-value is less than the chosen significance level (\\(\\alpha\\)), the null hypothesis is rejected in favor of the alternative hypothesis."
   ]
  },
  {
   "cell_type": "markdown",
   "id": "88024067-3254-4646-ab29-01692130fdbf",
   "metadata": {},
   "source": [
    "Q13. A coffee shop owner wants to estimate the average daily revenue for their shop. They take a random\n",
    "sample of 50 days and find the sample mean revenue to be $500 with a standard deviation of $50.\n",
    "Estimate the population mean revenue with a 95% confidence interval."
   ]
  },
  {
   "cell_type": "code",
   "execution_count": 5,
   "id": "e09fed70-1b31-4402-be64-a71a7bcbd368",
   "metadata": {},
   "outputs": [
    {
     "name": "stdout",
     "output_type": "stream",
     "text": [
      "95% Confidence Interval for Population Mean Revenue: (485.79, 514.21)\n"
     ]
    }
   ],
   "source": [
    "import numpy as np\n",
    "from scipy.stats import t\n",
    "\n",
    "# Given values\n",
    "sample_mean_revenue = 500\n",
    "confidence_level = 0.95\n",
    "sample_size = 50\n",
    "\n",
    "# Degrees of freedom for a t-distribution\n",
    "degrees_of_freedom = sample_size - 1\n",
    "\n",
    "# Calculate the critical value for a two-tailed test\n",
    "alpha = 1 - confidence_level\n",
    "critical_value = t.ppf(1 - alpha/2, degrees_of_freedom)\n",
    "\n",
    "# Assume a certain sample standard deviation (e.g., 50 for illustration)\n",
    "sample_std_dev = 50\n",
    "\n",
    "# Calculate the margin of error\n",
    "margin_of_error = critical_value * (sample_std_dev / np.sqrt(sample_size))\n",
    "\n",
    "# Calculate confidence interval\n",
    "lower_bound = sample_mean_revenue - margin_of_error\n",
    "upper_bound = sample_mean_revenue + margin_of_error\n",
    "\n",
    "# Print the results\n",
    "print(f\"95% Confidence Interval for Population Mean Revenue: ({lower_bound:.2f}, {upper_bound:.2f})\")\n"
   ]
  },
  {
   "cell_type": "markdown",
   "id": "3b2ba7e1-a167-4550-ba01-07a31e87ce38",
   "metadata": {},
   "source": [
    "Q14. A researcher hypothesizes that a new drug will decrease blood pressure by 10 mmHg. They conduct a\n",
    "clinical trial with 100 patients and find that the sample mean decrease in blood pressure is 8 mmHg with a\n",
    "standard deviation of 3 mmHg. Test the hypothesis with a significance level of 0.05."
   ]
  },
  {
   "cell_type": "code",
   "execution_count": 12,
   "id": "150e5891-713e-46e8-a693-fbe55b14a7c4",
   "metadata": {},
   "outputs": [
    {
     "name": "stdout",
     "output_type": "stream",
     "text": [
      "T-Statistic: -6.6667\n",
      "Degrees of Freedom: 99\n",
      "Critical Values: -1.9842 and 1.9842\n",
      "Result: Reject the null hypothesis\n"
     ]
    }
   ],
   "source": [
    "import numpy as np\n",
    "from scipy.stats import t\n",
    "\n",
    "# Given values\n",
    "null_hypothesis_mean = 10\n",
    "sample_mean = 8\n",
    "sample_std_dev = 3\n",
    "sample_size = 100\n",
    "significance_level = 0.05\n",
    "\n",
    "# Calculate the t-statistic\n",
    "t_statistic = (sample_mean - null_hypothesis_mean) / (sample_std_dev / np.sqrt(sample_size))\n",
    "\n",
    "# Calculate degrees of freedom\n",
    "df = sample_size - 1\n",
    "\n",
    "# Calculate the critical values for a two-tailed test\n",
    "critical_value_lower = t.ppf(significance_level / 2, df)\n",
    "critical_value_upper = -critical_value_lower  # For symmetry in a two-tailed test\n",
    "\n",
    "# Compare the t-statistic with the critical values\n",
    "if t_statistic < critical_value_lower or t_statistic > critical_value_upper:\n",
    "    result = \"Reject the null hypothesis\"\n",
    "else:\n",
    "    result = \"Fail to reject the null hypothesis\"\n",
    "\n",
    "# Print the results\n",
    "print(f\"T-Statistic: {t_statistic:.4f}\")\n",
    "print(f\"Degrees of Freedom: {df}\")\n",
    "print(f\"Critical Values: {critical_value_lower:.4f} and {critical_value_upper:.4f}\")\n",
    "print(f\"Result: {result}\")\n"
   ]
  },
  {
   "cell_type": "markdown",
   "id": "7e188cf8-5551-4ad0-928c-6baee6ec348a",
   "metadata": {},
   "source": [
    "Q15. An electronics company produces a certain type of product with a mean weight of 5 pounds and a\n",
    "standard deviation of 0.5 pounds. A random sample of 25 products is taken, and the sample mean weight\n",
    "is found to be 4.8 pounds. Test the hypothesis that the true mean weight of the products is less than 5\n",
    "pounds with a significance level of 0.01."
   ]
  },
  {
   "cell_type": "code",
   "execution_count": 4,
   "id": "e29dbacc-03b3-4e27-833b-9e4b1aefe38f",
   "metadata": {},
   "outputs": [
    {
     "name": "stdout",
     "output_type": "stream",
     "text": [
      "Ho: Mean weight is 5 pounds\n",
      "Ha: Mean weight is less than 5 pounds\n",
      "T-Critical is: -2.492\n",
      "T-Statistic is: -2.0000000000000018\n",
      "Fail to reject the null hypothesis\n"
     ]
    }
   ],
   "source": [
    "popmean=5\n",
    "stddev=0.5\n",
    "n=25\n",
    "smean=4.8\n",
    "alpha=0.01\n",
    "dof=n-1 #25-1=24\n",
    "tcritical=-2.492\n",
    "print(\"Ho: Mean weight is 5 pounds\")\n",
    "print(\"Ha: Mean weight is less than 5 pounds\")\n",
    "tvalue=(smean-popmean)/(stddev/np.sqrt(n))\n",
    "print(\"T-Critical is: {}\".format(tcritical))\n",
    "print(\"T-Statistic is: {}\".format(tvalue))\n",
    "if tvalue<tcritical:\n",
    "    result = \"Reject the null hypothesis\"\n",
    "else:\n",
    "    result = \"Fail to reject the null hypothesis\"\n",
    "print(result)"
   ]
  },
  {
   "cell_type": "markdown",
   "id": "28f3b2c9-bb72-4c50-8721-02d81c7756b9",
   "metadata": {},
   "source": [
    "Q16. Two groups of students are given different study materials to prepare for a test. The first group (n1 =\n",
    "30) has a mean score of 80 with a standard deviation of 10, and the second group (n2 = 40) has a mean\n",
    "score of 75 with a standard deviation of 8. Test the hypothesis that the population means for the two\n",
    "groups are equal with a significance level of 0.01."
   ]
  },
  {
   "cell_type": "code",
   "execution_count": 8,
   "id": "6aeb0d5f-bf95-43cc-9a83-164f3267c7ed",
   "metadata": {},
   "outputs": [
    {
     "name": "stdout",
     "output_type": "stream",
     "text": [
      "T-Statistic: 2.2511258444537408\n",
      "Degrees of Freedom: 54\n",
      "Critical Value: 2.6695708569864056\n",
      "Result: Fail to reject the null hypothesis\n"
     ]
    }
   ],
   "source": [
    "import numpy as np\n",
    "from scipy.stats import t\n",
    "mean1 = 80\n",
    "std_dev1 = 10\n",
    "sample_size1 = 30\n",
    "mean2 = 75\n",
    "std_dev2 = 8\n",
    "sample_size2 = 40\n",
    "alpha = 0.01\n",
    "t_statistic = (mean1 - mean2) / np.sqrt((std_dev1**2 / sample_size1) + (std_dev2**2 / sample_size2))\n",
    "df = ((std_dev1**2 / sample_size1) + (std_dev2**2 / sample_size2))**2 / \\\n",
    "     (((std_dev1**2 / sample_size1)**2 / (sample_size1 - 1)) + ((std_dev2**2 / sample_size2)**2 / (sample_size2 - 1)))\n",
    "critical_value = t.ppf(1 - alpha / 2, df)\n",
    "if np.abs(t_statistic) > critical_value:\n",
    "    result = \"Reject the null hypothesis\"\n",
    "else:\n",
    "    result = \"Fail to reject the null hypothesis\"\n",
    "print(f\"T-Statistic: {t_statistic}\")\n",
    "print(f\"Degrees of Freedom: {df:.0f}\")\n",
    "print(f\"Critical Value: {critical_value}\")\n",
    "print(f\"Result: {result}\")"
   ]
  },
  {
   "cell_type": "markdown",
   "id": "d515daa8-d55a-42eb-9889-82f03d3b4e9c",
   "metadata": {},
   "source": [
    "Q17. A marketing company wants to estimate the average number of ads watched by viewers during a TV\n",
    "program. They take a random sample of 50 viewers and find that the sample mean is 4 with a standard\n",
    "deviation of 1.5. Estimate the population mean with a 99% confidence interval."
   ]
  },
  {
   "cell_type": "code",
   "execution_count": 5,
   "id": "9b4d0af1-5dbe-4f70-9fad-200695bae06a",
   "metadata": {},
   "outputs": [
    {
     "name": "stdout",
     "output_type": "stream",
     "text": [
      "Confidence Interval is from 3.453760011533392 to 4.546239988466608\n"
     ]
    }
   ],
   "source": [
    "import numpy as np\n",
    "from scipy import stats\n",
    "n=50\n",
    "sample_mean=4\n",
    "std_dev=1.5\n",
    "critical_value=2.575\n",
    "lowerbound=4-(2.575*1.5/(np.sqrt(50)))\n",
    "upperbound=4+(2.575*1.5/(np.sqrt(50)))\n",
    "print(\"Confidence Interval is from {} to {}\".format(lowerbound,upperbound))"
   ]
  }
 ],
 "metadata": {
  "kernelspec": {
   "display_name": "Python 3 (ipykernel)",
   "language": "python",
   "name": "python3"
  },
  "language_info": {
   "codemirror_mode": {
    "name": "ipython",
    "version": 3
   },
   "file_extension": ".py",
   "mimetype": "text/x-python",
   "name": "python",
   "nbconvert_exporter": "python",
   "pygments_lexer": "ipython3",
   "version": "3.10.8"
  }
 },
 "nbformat": 4,
 "nbformat_minor": 5
}
