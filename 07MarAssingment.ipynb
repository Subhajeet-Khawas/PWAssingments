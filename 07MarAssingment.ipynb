{
 "cells": [
  {
   "cell_type": "markdown",
   "id": "e2ee58f9-2acd-4073-9bd4-d95fd159aac6",
   "metadata": {},
   "source": [
    "Q1. What are the three measures of central tendency?"
   ]
  },
  {
   "cell_type": "markdown",
   "id": "527032a4-8c61-443b-b42f-0c0ff29ba954",
   "metadata": {},
   "source": [
    "The three measures of central tendency are:\n",
    "\n",
    "1. **Mean:**\n",
    "   - **Definition:** The arithmetic average of a set of values.\n",
    "   - **Calculation:** \\( \\bar{x} = \\frac{\\sum_{i=1}^{n} x_i}{n} \\)\n",
    "   - **Use:** Provides a balance point, representing the center of the distribution. Sensitive to outliers.\n",
    "\n",
    "2. **Median:**\n",
    "   - **Definition:** The middle value in a sorted dataset.\n",
    "   - **Calculation:** Identify the middle value or average the two middle values.\n",
    "   - **Use:** Less sensitive to outliers; represents the central position.\n",
    "\n",
    "3. **Mode:**\n",
    "   - **Definition:** The value(s) that occur most frequently in a dataset.\n",
    "   - **Use:** Identifies the most common values; applicable to nominal and ordinal data."
   ]
  },
  {
   "cell_type": "markdown",
   "id": "6b796d53-6b14-49b6-a4df-ebc73f05ed7b",
   "metadata": {},
   "source": [
    "Q2. What is the difference between the mean, median, and mode? How are they used to measure the\n",
    "central tendency of a dataset?"
   ]
  },
  {
   "cell_type": "markdown",
   "id": "ab124038-ccb0-464c-8728-c12cf0053392",
   "metadata": {},
   "source": [
    "### Mean:\n",
    "\n",
    "- **Definition:** The mean is the arithmetic average of a set of values.\n",
    "- **Calculation:** \\( \\bar{x} = \\frac{\\sum_{i=1}^{n} x_i}{n} \\)\n",
    "- **Use:** Represents the balance point of the distribution; sensitive to outliers.\n",
    "\n",
    "### Median:\n",
    "\n",
    "- **Definition:** The median is the middle value in a sorted dataset.\n",
    "- **Calculation:** Identify the middle value or average the two middle values.\n",
    "- **Use:** Less sensitive to outliers than the mean; represents the central position.\n",
    "\n",
    "### Mode:\n",
    "\n",
    "- **Definition:** The mode is the value(s) that occur most frequently in a dataset.\n",
    "- **Calculation:** Identify the most frequently occurring value(s).\n",
    "- **Use:** Identifies the most common values; applicable to nominal and ordinal data.\n",
    "\n",
    "### Differences:\n",
    "\n",
    "1. **Sensitivity to Outliers:**\n",
    "   - **Mean:** Sensitive to extreme values; outliers can significantly influence the mean.\n",
    "   - **Median:** Less sensitive to outliers; the middle value is not affected by extreme values.\n",
    "   - **Mode:** Not sensitive to outliers as it is based on frequencies.\n",
    "\n",
    "2. **Calculation Method:**\n",
    "   - **Mean:** Involves summing all values and dividing by the number of values.\n",
    "   - **Median:** Involves ordering the values and identifying the middle one or averaging the two middle values.\n",
    "   - **Mode:** Involves identifying the value(s) with the highest frequency.\n",
    "\n",
    "3. **Applicability to Data Types:**\n",
    "   - **Mean:** Suitable for interval and ratio data; requires numerical values.\n",
    "   - **Median:** Applicable to ordinal, interval, and ratio data; less affected by skewed distributions.\n",
    "   - **Mode:** Applicable to nominal and ordinal data; may be used for any data type.\n",
    "\n",
    "### Use in Measuring Central Tendency:\n",
    "\n",
    "- **Mean:**\n",
    "  - Provides a measure of the center by considering the sum of all values.\n",
    "  - Influenced by the magnitude of values.\n",
    "\n",
    "- **Median:**\n",
    "  - Represents the center by identifying the middle position.\n",
    "  - Less affected by extreme values, making it suitable for skewed distributions.\n",
    "\n",
    "- **Mode:**\n",
    "  - Identifies the most frequently occurring values.\n",
    "  - Useful for identifying common patterns or modes in the data."
   ]
  },
  {
   "cell_type": "markdown",
   "id": "f965df26-a02d-4d7c-8551-3b19273dde67",
   "metadata": {},
   "source": [
    "Q3. Measure the three measures of central tendency for the given height data:\n",
    "\n",
    "[178,177,176,177,178.2,178,175,179,180,175,178.9,176.2,177,172.5,178,176.5]"
   ]
  },
  {
   "cell_type": "code",
   "execution_count": 1,
   "id": "c9d2de1f-ff87-489b-ad6a-c817d9f3cfd8",
   "metadata": {},
   "outputs": [],
   "source": [
    "l=[178,177,176,177,178.2,178,175,179,180,175,178.9,176.2,177,172.5,178,176.5]"
   ]
  },
  {
   "cell_type": "code",
   "execution_count": 2,
   "id": "9c5b0208-5f99-4bb1-a819-6adc7a104760",
   "metadata": {},
   "outputs": [],
   "source": [
    "import numpy as np"
   ]
  },
  {
   "cell_type": "code",
   "execution_count": 3,
   "id": "2ea28bc2-4776-4cff-a185-bd18406adc76",
   "metadata": {},
   "outputs": [
    {
     "data": {
      "text/plain": [
       "177.01875"
      ]
     },
     "execution_count": 3,
     "metadata": {},
     "output_type": "execute_result"
    }
   ],
   "source": [
    "np.mean(l)"
   ]
  },
  {
   "cell_type": "code",
   "execution_count": 4,
   "id": "8e0d2926-180c-4bd2-a542-0c5b3dfc6af7",
   "metadata": {},
   "outputs": [
    {
     "data": {
      "text/plain": [
       "177.0"
      ]
     },
     "execution_count": 4,
     "metadata": {},
     "output_type": "execute_result"
    }
   ],
   "source": [
    "np.median(l)"
   ]
  },
  {
   "cell_type": "code",
   "execution_count": 5,
   "id": "8b69ebce-1ee8-4cd4-97cf-af425a006709",
   "metadata": {},
   "outputs": [],
   "source": [
    "from scipy import stats"
   ]
  },
  {
   "cell_type": "code",
   "execution_count": 6,
   "id": "4ecb798d-5535-48b5-a1c3-52441e32b126",
   "metadata": {},
   "outputs": [
    {
     "name": "stderr",
     "output_type": "stream",
     "text": [
      "/tmp/ipykernel_1163/2919890712.py:1: FutureWarning: Unlike other reduction functions (e.g. `skew`, `kurtosis`), the default behavior of `mode` typically preserves the axis it acts along. In SciPy 1.11.0, this behavior will change: the default value of `keepdims` will become False, the `axis` over which the statistic is taken will be eliminated, and the value None will no longer be accepted. Set `keepdims` to True or False to avoid this warning.\n",
      "  stats.mode(l)\n"
     ]
    },
    {
     "data": {
      "text/plain": [
       "ModeResult(mode=array([177.]), count=array([3]))"
      ]
     },
     "execution_count": 6,
     "metadata": {},
     "output_type": "execute_result"
    }
   ],
   "source": [
    "stats.mode(l)"
   ]
  },
  {
   "cell_type": "markdown",
   "id": "e65a872b-33a8-46a6-8e5c-a82d53f2c41a",
   "metadata": {},
   "source": [
    "Q4. Find the standard deviation for the given data:\n",
    "\n",
    "[178,177,176,177,178.2,178,175,179,180,175,178.9,176.2,177,172.5,178,176.5]"
   ]
  },
  {
   "cell_type": "code",
   "execution_count": 7,
   "id": "7b81a198-2a5d-4066-89a6-5110e7cfa2ec",
   "metadata": {},
   "outputs": [],
   "source": [
    "l1=[178,177,176,177,178.2,178,175,179,180,175,178.9,176.2,177,172.5,178,176.5]"
   ]
  },
  {
   "cell_type": "code",
   "execution_count": 8,
   "id": "1fd116d3-95f5-442b-886a-5cc077ac473a",
   "metadata": {},
   "outputs": [
    {
     "data": {
      "text/plain": [
       "1.7885814036548633"
      ]
     },
     "execution_count": 8,
     "metadata": {},
     "output_type": "execute_result"
    }
   ],
   "source": [
    "np.std(l)"
   ]
  },
  {
   "cell_type": "markdown",
   "id": "09300cec-5801-481c-94d0-bded32d7022a",
   "metadata": {},
   "source": [
    "Q5. How are measures of dispersion such as range, variance, and standard deviation used to describe\n",
    "the spread of a dataset? Provide an example."
   ]
  },
  {
   "cell_type": "markdown",
   "id": "7e673d20-3404-468f-96f4-b062a3bb1b7b",
   "metadata": {},
   "source": [
    "### Measures of Dispersion:\n",
    "\n",
    "1. **Range:**\n",
    "   - **Definition:** The difference between the maximum and minimum values in a dataset.\n",
    "   - **Calculation:** \\( \\text{Range} = \\text{Max} - \\text{Min} \\)\n",
    "   - **Use:** Provides a quick assessment of the spread of data.\n",
    "\n",
    "2. **Variance:**\n",
    "   - **Definition:** The average of the squared differences from the mean.\n",
    "   - **Calculation:** \\( \\sigma^2 = \\frac{\\sum_{i=1}^{n} (x_i - \\bar{x})^2}{n} \\) (for population) or \\( s^2 = \\frac{\\sum_{i=1}^{n} (x_i - \\bar{x})^2}{n-1} \\) (for sample)\n",
    "   - **Use:** Quantifies the overall variability in a dataset.\n",
    "\n",
    "3. **Standard Deviation:**\n",
    "   - **Definition:** The square root of the variance.\n",
    "   - **Calculation:** \\( \\sigma = \\sqrt{\\sigma^2} \\) (for population) or \\( s = \\sqrt{s^2} \\) (for sample)\n",
    "   - **Use:** Provides a measure of the average distance of data points from the mean; more interpretable than variance.\n",
    "\n",
    "### How They Describe the Spread:\n",
    "\n",
    "- **Range:**\n",
    "  - **Use:** Describes the overall range or extent of values in a dataset.\n",
    "  - **Example:** For a dataset of daily temperatures in Celsius, if the range is 20°C, it indicates that temperatures vary by 20 degrees between the coldest and warmest days.\n",
    "\n",
    "- **Variance:**\n",
    "  - **Use:** Quantifies the average squared deviation of each data point from the mean.\n",
    "  - **Example:** In a dataset of exam scores, a high variance suggests that scores deviate more from the average, indicating greater variability in performance.\n",
    "\n",
    "- **Standard Deviation:**\n",
    "  - **Use:** Provides a more interpretable measure of variability, as it is in the same units as the data.\n",
    "  - **Example:** In a dataset of product weights, a standard deviation of 2 grams suggests that most products deviate from the mean weight by approximately 2 grams."
   ]
  },
  {
   "cell_type": "code",
   "execution_count": 9,
   "id": "275ecd74-fe95-46bd-96e2-7843998e614e",
   "metadata": {},
   "outputs": [],
   "source": [
    "a=[20, 25, 18, 22, 28, 24]\n",
    "b=[15, 30, 20, 25, 22, 18]"
   ]
  },
  {
   "cell_type": "code",
   "execution_count": 10,
   "id": "56a5d047-2e3a-469d-b19e-6d6142b2875d",
   "metadata": {},
   "outputs": [
    {
     "name": "stdout",
     "output_type": "stream",
     "text": [
      "Range of a is 10\n"
     ]
    }
   ],
   "source": [
    "print(\"Range of a is {}\".format(max(a)-min(a)))"
   ]
  },
  {
   "cell_type": "code",
   "execution_count": 11,
   "id": "f190e410-7002-4c43-8291-834b4b18cbef",
   "metadata": {},
   "outputs": [
    {
     "name": "stdout",
     "output_type": "stream",
     "text": [
      "Range of b is 15\n"
     ]
    }
   ],
   "source": [
    "print(\"Range of b is {}\".format(max(b)-min(b)))"
   ]
  },
  {
   "cell_type": "code",
   "execution_count": 12,
   "id": "8dede918-f193-4747-bd70-fab93d2268c5",
   "metadata": {},
   "outputs": [
    {
     "name": "stdout",
     "output_type": "stream",
     "text": [
      "Var of a is 10.805555555555555\n"
     ]
    }
   ],
   "source": [
    "print(\"Var of a is {}\".format(np.var(a)))"
   ]
  },
  {
   "cell_type": "code",
   "execution_count": 13,
   "id": "5b8aa11e-4431-4b88-80fe-0aae0da82a30",
   "metadata": {},
   "outputs": [
    {
     "name": "stdout",
     "output_type": "stream",
     "text": [
      "Var of b is 23.555555555555557\n"
     ]
    }
   ],
   "source": [
    "print(\"Var of b is {}\".format(np.var(b)))"
   ]
  },
  {
   "cell_type": "code",
   "execution_count": 14,
   "id": "5c333ba9-5b95-4f7a-9a79-2da6826218ff",
   "metadata": {},
   "outputs": [
    {
     "name": "stdout",
     "output_type": "stream",
     "text": [
      "Std dev of a is 3.2871804872193366\n"
     ]
    }
   ],
   "source": [
    "print(\"Std dev of a is {}\".format(np.std(a)))"
   ]
  },
  {
   "cell_type": "code",
   "execution_count": 15,
   "id": "555df65c-c84d-498b-bf68-b7aacc4785d4",
   "metadata": {},
   "outputs": [
    {
     "name": "stdout",
     "output_type": "stream",
     "text": [
      "Std dev of b is 4.853406592853679\n"
     ]
    }
   ],
   "source": [
    "print(\"Std dev of b is {}\".format(np.std(b)))"
   ]
  },
  {
   "cell_type": "markdown",
   "id": "9312a27b-6d14-4059-b8ef-e9c4201401b9",
   "metadata": {},
   "source": [
    "Q6. What is a Venn diagram?"
   ]
  },
  {
   "cell_type": "markdown",
   "id": "ef91877e-3555-48d1-97b6-dc25e4c27936",
   "metadata": {},
   "source": [
    "A Venn diagram is a visual representation of the relationships between different sets or groups of items. It consists of overlapping circles, each representing a set, and the overlapping regions represent the elements shared between those sets. Venn diagrams are widely used to illustrate the intersections and differences between various categories or groups.\n",
    "\n",
    "Key features of a Venn diagram:\n",
    "\n",
    "Sets Representation: Each circle in a Venn diagram represents a set, and the elements within that set are contained within the circle.\n",
    "\n",
    "Overlap Regions: The overlapping areas between circles represent the elements that are common to multiple sets. The size of the overlap corresponds to the degree of intersection between sets.\n",
    "\n",
    "Distinct Regions: The non-overlapping portions of the circles represent elements that are unique to each set and do not belong to any other set.\n",
    "\n",
    "Universal Set: In some cases, a rectangle or another shape is used to enclose all the circles, representing the universal set from which the individual sets are drawn."
   ]
  },
  {
   "cell_type": "markdown",
   "id": "045cc896-fb68-46a2-9367-87d8630e7428",
   "metadata": {},
   "source": [
    "Q7. For the two given sets A = (2,3,4,5,6,7) & B = (0,2,6,8,10). Find:"
   ]
  },
  {
   "cell_type": "markdown",
   "id": "01e34af9-c610-4a3a-8680-be9a2cbbbe30",
   "metadata": {},
   "source": [
    "(i) A ∩ B"
   ]
  },
  {
   "cell_type": "code",
   "execution_count": 16,
   "id": "ecef25c2-ae8d-43d1-b91e-bf65960fc0f7",
   "metadata": {},
   "outputs": [
    {
     "data": {
      "text/plain": [
       "{2, 6}"
      ]
     },
     "execution_count": 16,
     "metadata": {},
     "output_type": "execute_result"
    }
   ],
   "source": [
    "a=set((2,3,4,5,6,7))\n",
    "b=set((0,2,6,8,10))\n",
    "a.intersection(b)"
   ]
  },
  {
   "cell_type": "markdown",
   "id": "9673cc3a-a7d0-417d-bbb3-ba04b6a75e2c",
   "metadata": {},
   "source": [
    "(ii) A ⋃ B"
   ]
  },
  {
   "cell_type": "code",
   "execution_count": 17,
   "id": "d2000561-8c2b-4ae5-b984-35db73d9a0cb",
   "metadata": {},
   "outputs": [
    {
     "data": {
      "text/plain": [
       "{0, 2, 3, 4, 5, 6, 7, 8, 10}"
      ]
     },
     "execution_count": 17,
     "metadata": {},
     "output_type": "execute_result"
    }
   ],
   "source": [
    "a.union(b)"
   ]
  },
  {
   "cell_type": "markdown",
   "id": "014aa445-2c49-4fa8-b606-e2589521a34f",
   "metadata": {},
   "source": [
    "Q8. What do you understand about skewness in data?"
   ]
  },
  {
   "cell_type": "markdown",
   "id": "eca86d60-f660-4321-8389-5e1be5477b08",
   "metadata": {},
   "source": [
    "Skewness is a statistical measure that describes the asymmetry or lack of symmetry in a dataset's distribution. In other words, it quantifies the degree and direction of skew (departure from horizontal symmetry) in the data. Skewness provides insights into the shape of the distribution, particularly regarding the concentration of values on one side of the mean compared to the other.\n",
    "\n",
    "### Characteristics of Skewness:\n",
    "\n",
    "1. **Positively Skewed (Right Skewed):**\n",
    "   - The right tail of the distribution is longer or fatter than the left.\n",
    "   - Most values are concentrated on the left side of the mean.\n",
    "   - The mean is typically greater than the median.\n",
    "\n",
    "2. **Negatively Skewed (Left Skewed):**\n",
    "   - The left tail of the distribution is longer or fatter than the right.\n",
    "   - Most values are concentrated on the right side of the mean.\n",
    "   - The mean is typically less than the median.\n",
    "\n",
    "3. **Symmetrical (Zero Skewness):**\n",
    "   - The distribution is perfectly balanced, with equal tail lengths on both sides of the mean.\n",
    "   - The mean and median are equal.\n",
    "\n",
    "### Calculation of Skewness:\n",
    "\n",
    "The skewness of a dataset (denoted as \\( \\text{Skewness} \\)) can be calculated using the formula:\n",
    "\n",
    "\\[ \\text{Skewness} = \\frac{\\sum_{i=1}^{n} (x_i - \\bar{x})^3}{n \\cdot \\sigma^3} \\]\n",
    "\n",
    "Where:\n",
    "- \\( n \\) is the number of data points.\n",
    "- \\( x_i \\) is each individual data point.\n",
    "- \\( \\bar{x} \\) is the mean of the dataset.\n",
    "- \\( \\sigma \\) is the standard deviation of the dataset.\n",
    "\n",
    "### Interpretation:\n",
    "\n",
    "1. **Skewness = 0:**\n",
    "   - The distribution is perfectly symmetrical.\n",
    "\n",
    "2. **Skewness > 0:**\n",
    "   - Positively skewed distribution.\n",
    "   - The tail on the right side is longer or fatter.\n",
    "\n",
    "3. **Skewness < 0:**\n",
    "   - Negatively skewed distribution.\n",
    "   - The tail on the left side is longer or fatter.\n",
    "\n",
    "### Example:\n",
    "\n",
    "Consider two datasets:\n",
    "\n",
    "1. Positively Skewed:\n",
    "   - Data: [5, 8, 10, 12, 15, 20, 25, 30]\n",
    "   - Mean > Median\n",
    "   - Right tail is longer.\n",
    "\n",
    "2. Negatively Skewed:\n",
    "   - Data: [30, 25, 20, 15, 12, 10, 8, 5]\n",
    "   - Mean < Median\n",
    "   - Left tail is longer.\n",
    "\n",
    "Skewness provides a quantitative measure to confirm visual observations about the symmetry of a distribution. It is a valuable tool in exploratory data analysis, helping to understand the shape and characteristics of the data distribution."
   ]
  },
  {
   "cell_type": "markdown",
   "id": "94a1f1ae-15bf-41a9-be6f-66ca102e4a1c",
   "metadata": {},
   "source": [
    "Q9. If a data is right skewed then what will be the position of median with respect to mean?"
   ]
  },
  {
   "cell_type": "markdown",
   "id": "a2281c41-6e71-42b7-927e-a0bd776aa1c9",
   "metadata": {},
   "source": [
    "In a right-skewed distribution (positively skewed), the right tail of the distribution is longer or fatter than the left tail. This means that the majority of values are concentrated on the left side of the distribution, and there are a few larger values on the right side. In such a distribution:\n",
    "\n",
    "1. **Position of Mean:**\n",
    "   - The mean is influenced by the presence of larger values in the right tail.\n",
    "   - The mean will be pulled in the direction of the skewness, toward the larger values.\n",
    "\n",
    "2. **Position of Median:**\n",
    "   - The median, being the middle value when the data is ordered, is less affected by extreme values in the right tail.\n",
    "   - The median remains closer to the bulk of the data, reflecting the central tendency of the majority of values.\n",
    "\n",
    "3. **Relationship Between Mean and Median:**\n",
    "   - In a right-skewed distribution, the mean is typically greater than the median.\n",
    "   - This is because the mean is being influenced by the larger values in the right tail, pulling it in that direction.\n",
    "\n",
    "Mathematically, the relationship can be summarized as follows:\n",
    "\n",
    "- If \\( \\text{Skewness} > 0 \\) (right-skewed),\n",
    "  - \\( \\text{Mean} > \\text{Median} \\)\n",
    "\n",
    "The difference between the mean and median in a right-skewed distribution indicates the direction and extent of skewness. The larger the difference, the more pronounced the skewness toward the right side of the distribution."
   ]
  },
  {
   "cell_type": "markdown",
   "id": "b2184df4-fc6c-44a8-b8e1-46f8b497b36d",
   "metadata": {},
   "source": [
    "Q10. Explain the difference between covariance and correlation. How are these measures used in\n",
    "statistical analysis?"
   ]
  },
  {
   "cell_type": "markdown",
   "id": "44475c96-d3b2-4e0e-97a7-2a2b4da91644",
   "metadata": {},
   "source": [
    "### Covariance:\n",
    "\n",
    "1. **Definition:**\n",
    "   - Covariance measures the degree to which two variables change together.\n",
    "   - It indicates whether an increase in one variable corresponds to an increase or decrease in another.\n",
    "\n",
    "2. **Calculation:**\n",
    "   - For two variables \\(X\\) and \\(Y\\):\n",
    "   \\[ \\text{Cov}(X, Y) = \\frac{\\sum_{i=1}^{n} (X_i - \\bar{X})(Y_i - \\bar{Y})}{n} \\]\n",
    "   - \\(n\\) is the number of data points.\n",
    "   - \\(\\bar{X}\\) and \\(\\bar{Y}\\) are the means of \\(X\\) and \\(Y\\), respectively.\n",
    "\n",
    "3. **Interpretation:**\n",
    "   - Positive covariance: Indicates a positive relationship (as one variable increases, the other tends to increase).\n",
    "   - Negative covariance: Indicates a negative relationship (as one variable increases, the other tends to decrease).\n",
    "   - Covariance is not standardized, so its magnitude is influenced by the scale of the variables.\n",
    "\n",
    "### Correlation:\n",
    "\n",
    "1. **Definition:**\n",
    "   - Correlation is a standardized measure of the strength and direction of the linear relationship between two variables.\n",
    "   - It ranges from -1 to 1, where:\n",
    "     - \\( \\text{Correlation} = 1 \\) indicates a perfect positive linear relationship.\n",
    "     - \\( \\text{Correlation} = -1 \\) indicates a perfect negative linear relationship.\n",
    "     - \\( \\text{Correlation} = 0 \\) indicates no linear relationship.\n",
    "\n",
    "2. **Calculation:**\n",
    "   - For two variables \\(X\\) and \\(Y\\):\n",
    "   \\[ \\text{Corr}(X, Y) = \\frac{\\text{Cov}(X, Y)}{\\sigma_X \\cdot \\sigma_Y} \\]\n",
    "   - \\(\\sigma_X\\) and \\(\\sigma_Y\\) are the standard deviations of \\(X\\) and \\(Y\\), respectively.\n",
    "\n",
    "3. **Interpretation:**\n",
    "   - The correlation coefficient is dimensionless and always falls between -1 and 1.\n",
    "   - Positive correlation: \\(0 < \\text{Correlation} < 1\\)\n",
    "   - Negative correlation: \\(-1 < \\text{Correlation} < 0\\)\n",
    "   - Correlation provides a standardized measure, making it easier to compare relationships across different pairs of variables.\n",
    "\n",
    "### Use in Statistical Analysis:\n",
    "\n",
    "- **Covariance:**\n",
    "  - Provides information about the direction of the relationship between variables but does not indicate the strength or the degree of the relationship.\n",
    "  - Sensitive to the scale of the variables.\n",
    "\n",
    "- **Correlation:**\n",
    "  - Standardized measure, making it suitable for comparing relationships.\n",
    "  - Provides information about both the direction and strength of the linear relationship.\n",
    "  - Ranges from -1 to 1, offering a more interpretable measure.\n",
    "\n",
    "In statistical analysis, covariance and correlation are used to understand the relationship between two variables. Correlation is often preferred in practice because of its standardized nature, which allows for easier comparison between different pairs of variables and is not influenced by the scale of the variables. Both measures are valuable tools in regression analysis, portfolio management, and various fields where understanding relationships between variables is essential."
   ]
  },
  {
   "cell_type": "markdown",
   "id": "e01fdc55-5a7a-4bf0-b5a2-62c4a7518398",
   "metadata": {},
   "source": [
    "Q11. What is the formula for calculating the sample mean? Provide an example calculation for a\n",
    "dataset."
   ]
  },
  {
   "cell_type": "markdown",
   "id": "4e8d76cb-a469-41e0-b922-9293c5a72c2c",
   "metadata": {},
   "source": [
    "The sample mean (\\( \\bar{x} \\)) is calculated by summing up all the values in a dataset and dividing the sum by the number of observations. The formula for the sample mean is as follows:\n",
    "\n",
    "\\[ \\bar{x} = \\frac{\\sum_{i=1}^{n} x_i}{n} \\]\n",
    "\n",
    "Where:\n",
    "- \\( \\bar{x} \\) is the sample mean.\n",
    "- \\( x_i \\) represents each individual value in the dataset.\n",
    "- \\( n \\) is the number of observations in the dataset."
   ]
  },
  {
   "cell_type": "code",
   "execution_count": null,
   "id": "15d42562-ab55-4239-8c5e-706b8cf32cbb",
   "metadata": {},
   "outputs": [],
   "source": [
    "import seaborn as sns"
   ]
  },
  {
   "cell_type": "code",
   "execution_count": null,
   "id": "a1336f5d-13b3-4214-b5dd-aa12278242a1",
   "metadata": {},
   "outputs": [],
   "source": [
    "flights=sns.load_dataset(\"flights\")"
   ]
  },
  {
   "cell_type": "code",
   "execution_count": null,
   "id": "70a24027-caaf-4841-9598-379806dac80f",
   "metadata": {},
   "outputs": [],
   "source": [
    "flights.head()"
   ]
  },
  {
   "cell_type": "code",
   "execution_count": null,
   "id": "ce81b26c-15ea-4f35-88b1-823ed41aa5c1",
   "metadata": {},
   "outputs": [],
   "source": [
    "np.mean(flights[\"passengers\"])"
   ]
  },
  {
   "cell_type": "markdown",
   "id": "3c0e8c10-e122-4f24-80b0-596451c690a6",
   "metadata": {},
   "source": [
    "Q12. For a normal distribution data what is the relationship between its measure of central tendency?"
   ]
  },
  {
   "cell_type": "markdown",
   "id": "a93e6a09-0456-4e00-b366-dfcb274190c2",
   "metadata": {},
   "source": [
    "For a normal distribution, which is a symmetric distribution, the relationship between its measures of central tendency (mean, median, and mode) is as follows:\n",
    "\n",
    "1. **Mean (μ):**\n",
    "   - The mean of a normal distribution is located at the center.\n",
    "   - In a perfectly symmetrical normal distribution, the mean is equal to the median.\n",
    "   - The mean is the point of balance, and the tails on both sides are of equal length.\n",
    "\n",
    "2. **Median:**\n",
    "   - The median of a normal distribution is also located at the center.\n",
    "   - In a perfectly symmetrical normal distribution, the median is equal to the mean.\n",
    "   - The median is the middle value when the data is ordered.\n",
    "\n",
    "3. **Mode:**\n",
    "   - In a normal distribution, the mode is also at the center.\n",
    "   - In a perfectly symmetrical normal distribution, the mode is equal to both the mean and the median.\n",
    "   - The mode represents the most frequently occurring value.\n",
    "\n",
    "### Mathematical Precision:\n",
    "\n",
    "For a truly normal distribution, where the probability density function is given by the bell-shaped curve, the mean, median, and mode coincide at the center. Mathematically, the equality holds:\n",
    "\n",
    "\\[ \\text{Mean} = \\text{Median} = \\text{Mode} \\]\n",
    "\n",
    "This relationship is a characteristic property of a perfectly symmetric normal distribution. However, in real-world data, distributions may deviate slightly from perfect symmetry due to factors such as skewness. In such cases, while the mean and median may still be close, the mode might not necessarily coincide with them.\n",
    "\n",
    "### Visualization:\n",
    "\n",
    "A visual representation of a normal distribution shows a symmetric bell-shaped curve, and the measures of central tendency are concentrated at the peak of the curve, representing the center of the distribution. The tails on both sides of the distribution extend equally from the center.\n",
    "\n",
    "It's important to note that deviations from perfect symmetry may occur in practice, and the relationship between mean, median, and mode may vary in non-ideal cases."
   ]
  },
  {
   "cell_type": "markdown",
   "id": "d604ef60-f7f5-49db-9d16-6f2f58f319bd",
   "metadata": {},
   "source": [
    "Q13. How is covariance different from correlation?"
   ]
  },
  {
   "cell_type": "markdown",
   "id": "0ed01a9d-fa3b-4a6a-b8c7-2091ab3d2065",
   "metadata": {},
   "source": [
    "Covariance and correlation are both measures that describe the relationship between two variables, but they differ in terms of scale, interpretation, and standardization:\n",
    "\n",
    "### Covariance:\n",
    "\n",
    "1. **Scale:**\n",
    "   - Covariance is not standardized and can take any value, positive or negative.\n",
    "   - The magnitude of covariance depends on the scales of the variables being measured.\n",
    "\n",
    "2. **Interpretation:**\n",
    "   - Covariance measures the direction of the linear relationship between two variables.\n",
    "   - A positive covariance indicates a positive relationship, and a negative covariance indicates a negative relationship.\n",
    "\n",
    "3. **Formula:**\n",
    "   - For two variables \\(X\\) and \\(Y\\):\n",
    "     \\[ \\text{Cov}(X, Y) = \\frac{\\sum_{i=1}^{n} (X_i - \\bar{X})(Y_i - \\bar{Y})}{n} \\]\n",
    "\n",
    "4. **Units:**\n",
    "   - The unit of covariance is the product of the units of the two variables.\n",
    "\n",
    "### Correlation:\n",
    "\n",
    "1. **Scale:**\n",
    "   - Correlation is standardized and always falls between -1 and 1.\n",
    "   - A correlation coefficient of 1 indicates a perfect positive linear relationship, -1 indicates a perfect negative linear relationship, and 0 indicates no linear relationship.\n",
    "\n",
    "2. **Interpretation:**\n",
    "   - Correlation not only measures the direction but also the strength of the linear relationship.\n",
    "   - It provides a standardized measure, allowing for easier comparison between different pairs of variables.\n",
    "\n",
    "3. **Formula:**\n",
    "   - For two variables \\(X\\) and \\(Y\\):\n",
    "     \\[ \\text{Corr}(X, Y) = \\frac{\\text{Cov}(X, Y)}{\\sigma_X \\cdot \\sigma_Y} \\]\n",
    "   - \\(\\sigma_X\\) and \\(\\sigma_Y\\) are the standard deviations of \\(X\\) and \\(Y\\), respectively.\n",
    "\n",
    "4. **Units:**\n",
    "   - Correlation is dimensionless, making it easier to compare relationships between variables.\n",
    "\n",
    "### Use Cases:\n",
    "\n",
    "- **Covariance:**\n",
    "  - Used to identify the direction of the linear relationship.\n",
    "  - Sensitive to changes in scale.\n",
    "\n",
    "- **Correlation:**\n",
    "  - Provides a standardized measure of both direction and strength.\n",
    "  - Facilitates comparison between different pairs of variables."
   ]
  },
  {
   "cell_type": "markdown",
   "id": "fb8202ba-4dca-4761-88a2-f0465519c12f",
   "metadata": {},
   "source": [
    "Q14. How do outliers affect measures of central tendency and dispersion? Provide an example."
   ]
  },
  {
   "cell_type": "markdown",
   "id": "ea5c7a1e-7c4e-4d96-8aed-819815b900c0",
   "metadata": {},
   "source": [
    "Outliers, which are extreme values in a dataset, can have a significant impact on measures of central tendency (mean, median, mode) and dispersion (range, variance, standard deviation). Their influence depends on the extent of their deviation from the rest of the data. Here's how outliers affect these measures:\n",
    "\n",
    "### Measures of Central Tendency:\n",
    "\n",
    "1. **Mean:**\n",
    "   - **Impact:** Outliers can heavily influence the mean, pulling it in the direction of the outliers.\n",
    "   - **Example:** Consider the dataset [10, 12, 14, 15, 100]. The mean is significantly affected by the outlier \"100.\"\n",
    "\n",
    "2. **Median:**\n",
    "   - **Impact:** Less affected by outliers since it represents the middle value.\n",
    "   - **Example:** Using the same dataset [10, 12, 14, 15, 100], the median remains close to the bulk of the data.\n",
    "\n",
    "3. **Mode:**\n",
    "   - **Impact:** Typically not influenced by outliers since it represents the most frequent value.\n",
    "   - **Example:** The mode of [10, 12, 14, 15, 100] remains unaffected by the outlier.\n",
    "\n",
    "### Measures of Dispersion:\n",
    "\n",
    "1. **Range:**\n",
    "   - **Impact:** Outliers can significantly increase the range.\n",
    "   - **Example:** For [10, 12, 14, 15, 100], the range is affected by the outlier \"100.\"\n",
    "\n",
    "2. **Variance and Standard Deviation:**\n",
    "   - **Impact:** Outliers can inflate both variance and standard deviation.\n",
    "   - **Example:** In the dataset [10, 12, 14, 15, 100], the variance and standard deviation will be influenced by the outlier.\n",
    "\n",
    "3. **Interquartile Range (IQR):**\n",
    "   - **Impact:** Less affected by outliers as it focuses on the central portion of the data.\n",
    "   - **Example:** The IQR of [10, 12, 14, 15, 100] is less influenced by the outlier.\n",
    "\n",
    "### Example:\n",
    "\n",
    "Consider the following dataset representing the incomes of a group of individuals (in thousands of dollars):\n",
    "\n",
    "\\[ [30, 35, 40, 45, 50, 500] \\]\n",
    "\n",
    "- **Mean:** The mean is heavily influenced by the outlier \"500.\"\n",
    "- **Median:** The median is less affected and remains closer to the center of the data.\n",
    "- **Mode:** The mode is not influenced by outliers.\n",
    "\n",
    "- **Range:** The range is affected by the extreme value \"500.\"\n",
    "- **Variance and Standard Deviation:** Both will be influenced by the outlier.\n",
    "- **IQR:** Less affected, as it focuses on the central portion of the data.\n",
    "\n",
    "In summary, outliers can distort measures of central tendency and dispersion, particularly the mean, range, variance, and standard deviation. Using robust measures like the median and interquartile range can be more appropriate when dealing with datasets containing outliers."
   ]
  },
  {
   "cell_type": "code",
   "execution_count": null,
   "id": "a00dd8fb-8e1e-4b61-88e5-741d0d7a4726",
   "metadata": {},
   "outputs": [],
   "source": []
  }
 ],
 "metadata": {
  "kernelspec": {
   "display_name": "Python 3 (ipykernel)",
   "language": "python",
   "name": "python3"
  },
  "language_info": {
   "codemirror_mode": {
    "name": "ipython",
    "version": 3
   },
   "file_extension": ".py",
   "mimetype": "text/x-python",
   "name": "python",
   "nbconvert_exporter": "python",
   "pygments_lexer": "ipython3",
   "version": "3.10.8"
  }
 },
 "nbformat": 4,
 "nbformat_minor": 5
}
