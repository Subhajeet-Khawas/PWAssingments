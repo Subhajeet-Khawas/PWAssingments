{
 "cells": [
  {
   "cell_type": "markdown",
   "id": "8afd8d63-f214-4044-9ce3-c4bca824559a",
   "metadata": {},
   "source": [
    "Q1. Pearson correlation coefficient is a measure of the linear relationship between two variables. Suppose\n",
    "you have collected data on the amount of time students spend studying for an exam and their final exam\n",
    "scores. Calculate the Pearson correlation coefficient between these two variables and interpret the result."
   ]
  },
  {
   "cell_type": "code",
   "execution_count": 1,
   "id": "683e4db5-6a93-455e-8655-285743e20c66",
   "metadata": {},
   "outputs": [],
   "source": [
    "time_spent_studying = [10, 15, 20, 25, 30]\n",
    "final_exam_scores = [60, 70, 80, 90, 95]"
   ]
  },
  {
   "cell_type": "code",
   "execution_count": 2,
   "id": "0a1de054-e867-4803-9aa1-45adef663a85",
   "metadata": {},
   "outputs": [],
   "source": [
    "import numpy as np"
   ]
  },
  {
   "cell_type": "code",
   "execution_count": 3,
   "id": "cb9483ad-cb17-4e95-a8f5-57ee2cf96874",
   "metadata": {},
   "outputs": [
    {
     "data": {
      "text/plain": [
       "array([[1.        , 0.99388373],\n",
       "       [0.99388373, 1.        ]])"
      ]
     },
     "execution_count": 3,
     "metadata": {},
     "output_type": "execute_result"
    }
   ],
   "source": [
    "np.corrcoef(time_spent_studying,final_exam_scores)"
   ]
  },
  {
   "cell_type": "markdown",
   "id": "8dd6f893-d81a-44e5-918c-9a61b6b33bd7",
   "metadata": {},
   "source": [
    "Interpretation:\n",
    "\n",
    "If the Pearson correlation coefficient is close to 1, it indicates a strong positive linear relationship. In the context of the example, it would suggest that as the time spent studying increases, final exam scores tend to increase.\n",
    "If the coefficient is close to -1, it indicates a strong negative linear relationship. In this case, it would suggest that as the time spent studying increases, final exam scores tend to decrease.\n",
    "If the coefficient is close to 0, it indicates a weak or no linear relationship between the two variables."
   ]
  },
  {
   "cell_type": "markdown",
   "id": "f079feb7-c357-4718-b107-db3a847e4f4d",
   "metadata": {},
   "source": [
    "Q2. Spearman's rank correlation is a measure of the monotonic relationship between two variables.\n",
    "Suppose you have collected data on the amount of sleep individuals get each night and their overall job\n",
    "satisfaction level on a scale of 1 to 10. Calculate the Spearman's rank correlation between these two\n",
    "variables and interpret the result."
   ]
  },
  {
   "cell_type": "code",
   "execution_count": 5,
   "id": "05108821-84a1-41d1-93b7-400204f7f5e0",
   "metadata": {},
   "outputs": [
    {
     "data": {
      "text/plain": [
       "array([ 5, 10,  9,  1,  8,  5,  1,  5,  7,  4])"
      ]
     },
     "execution_count": 5,
     "metadata": {},
     "output_type": "execute_result"
    }
   ],
   "source": [
    "job_satisfaction=np.random.randint(1,11,10)\n",
    "job_satisfaction"
   ]
  },
  {
   "cell_type": "code",
   "execution_count": 6,
   "id": "b6c913d4-7d47-4a9f-92ab-fe1f371fb481",
   "metadata": {},
   "outputs": [
    {
     "data": {
      "text/plain": [
       "array([ 9,  5,  9,  8,  3,  2, 10,  1,  3,  1])"
      ]
     },
     "execution_count": 6,
     "metadata": {},
     "output_type": "execute_result"
    }
   ],
   "source": [
    "sleep_data=np.random.randint(1,11,10)\n",
    "sleep_data"
   ]
  },
  {
   "cell_type": "code",
   "execution_count": 7,
   "id": "54e57e09-9d39-4fab-a183-5749a5f5a1f7",
   "metadata": {},
   "outputs": [],
   "source": [
    "from scipy.stats import spearmanr"
   ]
  },
  {
   "cell_type": "code",
   "execution_count": 12,
   "id": "33af9cbc-10fe-44c8-8fb4-2eafc7e1e5ca",
   "metadata": {},
   "outputs": [
    {
     "data": {
      "text/plain": [
       "-0.043479099562495904"
      ]
     },
     "execution_count": 12,
     "metadata": {},
     "output_type": "execute_result"
    }
   ],
   "source": [
    "spearmanr(sleep_data,job_satisfaction)[0]"
   ]
  },
  {
   "cell_type": "markdown",
   "id": "26a21413-aafb-4392-96bf-e31507af9b2e",
   "metadata": {},
   "source": [
    "Q3. Suppose you are conducting a study to examine the relationship between the number of hours of\n",
    "exercise per week and body mass index (BMI) in a sample of adults. You collected data on both variables\n",
    "for 50 participants. Calculate the Pearson correlation coefficient and the Spearman's rank correlation\n",
    "between these two variables and compare the results."
   ]
  },
  {
   "cell_type": "code",
   "execution_count": 13,
   "id": "ac7a6f24-3b56-4b9b-8f53-04fa1a21d878",
   "metadata": {},
   "outputs": [
    {
     "data": {
      "text/plain": [
       "array([ 9,  5,  7,  1,  3,  9,  2,  2, 10,  2,  9,  5,  5,  2,  9,  8,  3,\n",
       "        6,  8,  2,  9,  4,  4,  3,  6,  8,  9, 10,  7,  7,  9,  3,  1,  8,\n",
       "        8,  8,  3, 10,  4,  9,  3,  2,  5,  4,  1,  9,  3,  2,  1,  4])"
      ]
     },
     "execution_count": 13,
     "metadata": {},
     "output_type": "execute_result"
    }
   ],
   "source": [
    "exercise=np.random.randint(1,11,50)\n",
    "exercise"
   ]
  },
  {
   "cell_type": "code",
   "execution_count": 16,
   "id": "64fe15cf-126f-4d24-bf6c-6fdb4a5aae88",
   "metadata": {},
   "outputs": [
    {
     "data": {
      "text/plain": [
       "array([23.11422233, 19.72967184, 21.10469114, 23.7592216 , 19.90940891,\n",
       "       23.52480254, 24.06753965, 22.62610305, 23.85984273, 21.76742146,\n",
       "       20.39083958, 21.27382161, 20.82398377, 21.96765745, 24.05725655,\n",
       "       20.12549546, 20.09474673, 20.80909914, 22.37301306, 23.39330881,\n",
       "       20.90024537, 21.02963944, 21.33519434, 21.2545728 , 22.74426976,\n",
       "       24.81339663, 22.95308257, 22.60440022, 20.89709666, 24.13450304,\n",
       "       23.77360501, 20.55254638, 22.42815438, 23.78139729, 21.87747106,\n",
       "       22.76103209, 21.62448518, 22.98622563, 24.61110135, 23.78444688,\n",
       "       19.614994  , 19.58751188, 23.72778204, 20.97385567, 19.30875262,\n",
       "       21.64937742, 23.16663454, 19.32233924, 22.31684682, 23.62449636])"
      ]
     },
     "execution_count": 16,
     "metadata": {},
     "output_type": "execute_result"
    }
   ],
   "source": [
    "bmi=np.random.uniform(18.5,24.9,50)\n",
    "bmi"
   ]
  },
  {
   "cell_type": "code",
   "execution_count": 19,
   "id": "ce0509c5-b7ac-4321-9a5d-61f3cb3e3279",
   "metadata": {},
   "outputs": [
    {
     "data": {
      "text/plain": [
       "array([[1.        , 0.30928039],\n",
       "       [0.30928039, 1.        ]])"
      ]
     },
     "execution_count": 19,
     "metadata": {},
     "output_type": "execute_result"
    }
   ],
   "source": [
    "np.corrcoef(exercise,bmi)"
   ]
  },
  {
   "cell_type": "code",
   "execution_count": 18,
   "id": "e71dc4aa-8cfc-49c0-99c7-bc4c96750be4",
   "metadata": {},
   "outputs": [
    {
     "data": {
      "text/plain": [
       "0.29598774697730706"
      ]
     },
     "execution_count": 18,
     "metadata": {},
     "output_type": "execute_result"
    }
   ],
   "source": [
    "spearmanr(exercise,bmi)[0]"
   ]
  },
  {
   "cell_type": "markdown",
   "id": "5e90351f-ac64-408c-9ae9-092874291d9b",
   "metadata": {},
   "source": [
    "Q4. A researcher is interested in examining the relationship between the number of hours individuals\n",
    "spend watching television per day and their level of physical activity. The researcher collected data on\n",
    "both variables from a sample of 50 participants. Calculate the Pearson correlation coefficient between\n",
    "these two variables."
   ]
  },
  {
   "cell_type": "code",
   "execution_count": 20,
   "id": "c566c9ba-060f-4d68-8691-6bf0cfaf54a3",
   "metadata": {},
   "outputs": [
    {
     "data": {
      "text/plain": [
       "array([ 9.81839659,  1.32055232,  2.96094687,  8.42149484,  3.1530179 ,\n",
       "        1.79647643,  5.47618307,  2.89127235,  5.73323911, 10.21626243,\n",
       "       10.92418684,  3.23580779, 10.88691281,  6.51467335,  8.26896789,\n",
       "        1.67861001,  7.41695073,  2.33400543,  5.16013704,  5.70438718,\n",
       "        6.47824463,  7.91092097,  1.04620854,  2.80352682,  8.0315888 ,\n",
       "       10.50150766,  7.41650374,  4.61455007,  3.22205043,  1.89722232,\n",
       "        1.26565014,  3.27023378,  8.91616596,  7.52746633,  4.10916394,\n",
       "        6.48845592,  4.21548928,  3.64970017,  8.58843592,  8.45817153,\n",
       "        4.49000974,  4.76241948,  6.17842495,  3.84686415,  7.19561336,\n",
       "        4.38708505,  6.14360622,  3.62504091,  9.41166445,  9.19176667])"
      ]
     },
     "execution_count": 20,
     "metadata": {},
     "output_type": "execute_result"
    }
   ],
   "source": [
    "tv=np.random.uniform(1,11,50)\n",
    "tv"
   ]
  },
  {
   "cell_type": "code",
   "execution_count": 21,
   "id": "d27f1d38-0a8b-4f85-9884-7620fa80dc13",
   "metadata": {},
   "outputs": [
    {
     "data": {
      "text/plain": [
       "array([ 4.7450082 ,  6.99039265,  4.02158029,  4.58156462,  1.37368352,\n",
       "        9.46450751,  7.0860169 ,  3.44561755,  3.08855075,  5.99074347,\n",
       "        7.3801214 ,  3.25173672,  9.50535752,  9.05709539,  4.59680502,\n",
       "       10.92091399,  4.79205252,  7.80760192,  5.72462386,  3.13144515,\n",
       "        6.38044661,  8.92832958,  8.55132253,  1.49048834,  9.16111822,\n",
       "        8.08633099,  8.86946913,  4.97102146,  6.96319049,  2.68146708,\n",
       "        3.97399703,  8.70127721,  9.62618145,  2.20305884,  6.98496386,\n",
       "        4.3110614 ,  6.98218955,  7.0063454 ,  1.83566576,  6.65843474,\n",
       "        2.9749866 ,  6.95149736,  7.96513961,  5.15745436, 10.20425205,\n",
       "       10.26338943,  6.54658767,  7.77791289,  1.4362873 ,  4.77201677])"
      ]
     },
     "execution_count": 21,
     "metadata": {},
     "output_type": "execute_result"
    }
   ],
   "source": [
    "physicalact=np.random.uniform(1,11,50)\n",
    "physicalact"
   ]
  },
  {
   "cell_type": "code",
   "execution_count": null,
   "id": "10fa9495-e1e1-4a65-9d5f-b08428f52985",
   "metadata": {},
   "outputs": [
    {
     "data": {
      "text/plain": [
       "array([[1.        , 0.03819087],\n",
       "       [0.03819087, 1.        ]])"
      ]
     },
     "execution_count": 22,
     "metadata": {},
     "output_type": "execute_result"
    }
   ],
   "source": [
    "np.corrcoef(tv,physicalact)"
   ]
  },
  {
   "cell_type": "markdown",
   "id": "fe934174-3020-461b-beb7-c2f0de2bae90",
   "metadata": {},
   "source": [
    "Q6. A company is interested in examining the relationship between the number of sales calls made per day\n",
    "and the number of sales made per week. The company collected data on both variables from a sample of\n",
    "30 sales representatives. Calculate the Pearson correlation coefficient between these two variables."
   ]
  },
  {
   "cell_type": "code",
   "execution_count": 33,
   "id": "7fed90a1-6fe3-4231-9ad8-224bdff2d997",
   "metadata": {},
   "outputs": [
    {
     "data": {
      "text/plain": [
       "array([34, 94, 66, 88, 98, 64, 23, 15, 59, 30, 72, 31, 59, 10, 68, 37, 72,\n",
       "       16, 87, 48, 87, 79, 59, 18, 75, 55, 54, 40, 34, 54])"
      ]
     },
     "execution_count": 33,
     "metadata": {},
     "output_type": "execute_result"
    }
   ],
   "source": [
    "salesperday=np.random.randint(10,100,30)\n",
    "salesperday"
   ]
  },
  {
   "cell_type": "code",
   "execution_count": 34,
   "id": "b0009fa9-08bd-4db6-90ad-650e0a7f432d",
   "metadata": {},
   "outputs": [
    {
     "data": {
      "text/plain": [
       "array([823, 438, 685, 310, 171, 384, 171, 623, 283, 467, 185, 991, 110,\n",
       "       549, 434, 466, 688, 118, 776, 920, 708, 487, 998, 803, 618, 339,\n",
       "       274, 138, 706, 798])"
      ]
     },
     "execution_count": 34,
     "metadata": {},
     "output_type": "execute_result"
    }
   ],
   "source": [
    "salesperweek=np.random.randint(100,1000,30)\n",
    "salesperweek"
   ]
  },
  {
   "cell_type": "code",
   "execution_count": 35,
   "id": "ba5a60e0-e5f2-4f0a-9f40-7f5b2d76654a",
   "metadata": {},
   "outputs": [],
   "source": [
    "from scipy.stats import pearsonr"
   ]
  },
  {
   "cell_type": "code",
   "execution_count": 37,
   "id": "19ad498d-1c90-486e-b4ba-07673154edfb",
   "metadata": {},
   "outputs": [
    {
     "data": {
      "text/plain": [
       "-0.09683074597890218"
      ]
     },
     "execution_count": 37,
     "metadata": {},
     "output_type": "execute_result"
    }
   ],
   "source": [
    "pearsonr(salesperday,salesperweek)[0]"
   ]
  },
  {
   "cell_type": "code",
   "execution_count": 38,
   "id": "28c347fd-41cc-4a7a-be9e-52c7539cce66",
   "metadata": {},
   "outputs": [
    {
     "data": {
      "text/plain": [
       "array([[ 1.        , -0.09683075],\n",
       "       [-0.09683075,  1.        ]])"
      ]
     },
     "execution_count": 38,
     "metadata": {},
     "output_type": "execute_result"
    }
   ],
   "source": [
    "np.corrcoef(salesperday,salesperweek)"
   ]
  },
  {
   "cell_type": "code",
   "execution_count": null,
   "id": "4ff99daa-3d24-43cd-b7ef-ee95686a3178",
   "metadata": {},
   "outputs": [],
   "source": []
  }
 ],
 "metadata": {
  "kernelspec": {
   "display_name": "Python 3 (ipykernel)",
   "language": "python",
   "name": "python3"
  },
  "language_info": {
   "codemirror_mode": {
    "name": "ipython",
    "version": 3
   },
   "file_extension": ".py",
   "mimetype": "text/x-python",
   "name": "python",
   "nbconvert_exporter": "python",
   "pygments_lexer": "ipython3",
   "version": "3.10.8"
  }
 },
 "nbformat": 4,
 "nbformat_minor": 5
}
