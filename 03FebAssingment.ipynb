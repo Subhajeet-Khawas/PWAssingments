{
 "cells": [
  {
   "cell_type": "markdown",
   "id": "8025afb8-5b0a-4020-a51f-7304f26964a5",
   "metadata": {},
   "source": [
    "Q1. Which keyword is used to create a function? Create a function to return a list of odd numbers in the\n",
    "range of 1 to 25."
   ]
  },
  {
   "cell_type": "markdown",
   "id": "2634a909-b1a3-4676-8927-d6dcdd143411",
   "metadata": {},
   "source": [
    "def keyword is used to create a function in python"
   ]
  },
  {
   "cell_type": "code",
   "execution_count": 1,
   "id": "555b5256-2a85-4d84-a08d-33704bfe8e4d",
   "metadata": {},
   "outputs": [],
   "source": [
    "#required function\n",
    "def odd_num():\n",
    "    l=[]\n",
    "    for i in range(1,26):\n",
    "        if i%2!=0:\n",
    "            l.append(i)\n",
    "    return l"
   ]
  },
  {
   "cell_type": "code",
   "execution_count": 2,
   "id": "ae4865bc-6785-42af-abe7-00f60ca64768",
   "metadata": {},
   "outputs": [
    {
     "data": {
      "text/plain": [
       "[1, 3, 5, 7, 9, 11, 13, 15, 17, 19, 21, 23, 25]"
      ]
     },
     "execution_count": 2,
     "metadata": {},
     "output_type": "execute_result"
    }
   ],
   "source": [
    "odd_num()"
   ]
  },
  {
   "cell_type": "markdown",
   "id": "5d780ee7-713e-4fe1-8a2f-b443da4f68f3",
   "metadata": {},
   "source": [
    "Q2. Why *args and **kwargs is used in some functions? Create a function each for *args and **kwargs\n",
    "to demonstrate their use."
   ]
  },
  {
   "cell_type": "markdown",
   "id": "950196ba-a5ef-4ca0-89e4-40296ace6488",
   "metadata": {},
   "source": [
    "The *args syntax allows you to pass an arbitrary number of positional arguments to a function, which are then collected into a tuple.\n",
    "\n",
    "The **kwargs syntax, on the other hand, allows you to pass an arbitrary number of keyword arguments to a function, which are then collected into a dictionary. \n",
    "\n",
    "In other words: *args is used to pass values to a function when the no. of values to be passed are dynamic in nature and **kwargs is used to pass values to a function when the no. of values to be passed are dynamic in nature and nature of values to be passed are in the form of dictionaries."
   ]
  },
  {
   "cell_type": "code",
   "execution_count": 4,
   "id": "c4e4a804-ba34-4551-b1bc-18e43db7b258",
   "metadata": {},
   "outputs": [
    {
     "data": {
      "text/plain": [
       "(1, 2, 5, 'subh')"
      ]
     },
     "execution_count": 4,
     "metadata": {},
     "output_type": "execute_result"
    }
   ],
   "source": [
    "#required *args function\n",
    "def func1(*args):\n",
    "    return args\n",
    "func1(1,2,5,\"subh\")"
   ]
  },
  {
   "cell_type": "code",
   "execution_count": 6,
   "id": "dfe8b7c8-b8c6-4cd6-b078-6f93811b8e11",
   "metadata": {},
   "outputs": [
    {
     "data": {
      "text/plain": [
       "{'a': 1, 'b': 2, 'c': 3}"
      ]
     },
     "execution_count": 6,
     "metadata": {},
     "output_type": "execute_result"
    }
   ],
   "source": [
    "#required **kwargs function\n",
    "def func2(**kwargs):\n",
    "    return kwargs\n",
    "func2(a=1,b=2,c=3)"
   ]
  },
  {
   "cell_type": "markdown",
   "id": "30bfd77e-7328-4359-b161-99d9dc03c92a",
   "metadata": {},
   "source": [
    "Q3. What is an iterator in python? Name the method used to initialise the iterator object and the method\n",
    "used for iteration. Use these methods to print the first five elements of the given list [2, 4, 6, 8, 10, 12, 14,16, 18, 20]."
   ]
  },
  {
   "cell_type": "markdown",
   "id": "5565fe9a-5e75-4e30-937d-f18f544060d6",
   "metadata": {},
   "source": [
    "In Python, an iterator is an object that implements the iterator protocol, which consists of two methods: __iter__() and __next__(). An iterator is an object that can be iterated upon, meaning that you can use a loop to repeatedly call the __next__() method to get the next item in the sequence until the end of the sequence is reached."
   ]
  },
  {
   "cell_type": "code",
   "execution_count": 10,
   "id": "cead6315-ca1d-45b7-a5ae-5dc47db619d9",
   "metadata": {},
   "outputs": [
    {
     "name": "stdout",
     "output_type": "stream",
     "text": [
      "2\n",
      "4\n",
      "6\n",
      "8\n",
      "10\n"
     ]
    }
   ],
   "source": [
    "l=[2, 4, 6, 8, 10, 12, 14,16, 18, 20]\n",
    "l1=iter(l)\n",
    "for i in range(1,6):\n",
    "    print(next(l1))"
   ]
  },
  {
   "cell_type": "markdown",
   "id": "d9d290e5-29b7-43c7-9d48-347568bc3618",
   "metadata": {},
   "source": [
    "Q4. What is a generator function in python? Why yield keyword is used? Give an example of a generator\n",
    "function."
   ]
  },
  {
   "cell_type": "markdown",
   "id": "fa27280e-f387-4b08-8f59-ad3daa20ff33",
   "metadata": {},
   "source": [
    "In Python, a generator function is a special type of function that uses the yield statement to return an iterator object that can be used to generate a sequence of values on-the-fly, rather than generating the entire sequence in memory all at once.\n",
    "\n",
    "The yield statement in the generator function is used to temporarily suspend execution of the function and return a value to the caller. When the next value in the sequence is requested, the function resumes execution from where it left off and continues generating values."
   ]
  },
  {
   "cell_type": "code",
   "execution_count": 11,
   "id": "43a5fe1b-f366-4709-b42d-b782c589528b",
   "metadata": {},
   "outputs": [
    {
     "name": "stdout",
     "output_type": "stream",
     "text": [
      "1\n",
      "4\n",
      "9\n",
      "16\n",
      "25\n"
     ]
    }
   ],
   "source": [
    "def genfun(l):\n",
    "    for e in l:\n",
    "        yield e**2\n",
    "l=[1,2,3,4,5]\n",
    "for e in genfun(l):\n",
    "    print(e)"
   ]
  },
  {
   "cell_type": "markdown",
   "id": "f254969a-e424-4d0c-a4a7-96964a3aa138",
   "metadata": {},
   "source": [
    "Q5. Create a generator function for prime numbers less than 1000. Use the next() method to print the\n",
    "first 20 prime numbers."
   ]
  },
  {
   "cell_type": "code",
   "execution_count": 14,
   "id": "80b265df-34ca-4915-8b49-fb262ea3893d",
   "metadata": {},
   "outputs": [
    {
     "name": "stdout",
     "output_type": "stream",
     "text": [
      "2\n",
      "3\n",
      "5\n",
      "7\n",
      "11\n",
      "13\n",
      "17\n",
      "19\n",
      "23\n",
      "29\n",
      "31\n",
      "37\n",
      "41\n",
      "43\n",
      "47\n",
      "53\n",
      "59\n",
      "61\n",
      "67\n",
      "71\n"
     ]
    }
   ],
   "source": [
    "def primegen():\n",
    "    c=0\n",
    "    for i in range(1,1000):\n",
    "        for j in range(1,i+1):\n",
    "            if i%j==0:\n",
    "                c=c+1\n",
    "        if c==2:\n",
    "            yield i\n",
    "        c=0\n",
    "pr=primegen()\n",
    "for i in range(1,21):\n",
    "    print(next(pr))          \n"
   ]
  },
  {
   "cell_type": "markdown",
   "id": "df01cbe6-49cb-4ca0-b53c-5142a9e2f85a",
   "metadata": {},
   "source": [
    "Q6. Write a python program to print the first 10 Fibonacci numbers using a while loop."
   ]
  },
  {
   "cell_type": "code",
   "execution_count": 16,
   "id": "4453c49e-9b9b-4641-b780-5922d3eb95cb",
   "metadata": {},
   "outputs": [
    {
     "name": "stdout",
     "output_type": "stream",
     "text": [
      "0\n",
      "1\n",
      "1\n",
      "2\n",
      "3\n",
      "5\n",
      "8\n",
      "13\n",
      "21\n",
      "34\n"
     ]
    }
   ],
   "source": [
    "def fib():\n",
    "    i=1\n",
    "    a,b=0,1\n",
    "    while(i<=10):\n",
    "        yield a\n",
    "        a,b=b,a+b\n",
    "        i=i+1\n",
    "l=fib()\n",
    "for e in l:\n",
    "    print(e)\n"
   ]
  },
  {
   "cell_type": "markdown",
   "id": "d2bb741f-c779-41f2-8d1f-5233a4ce6597",
   "metadata": {},
   "source": [
    "Q7. Write a List Comprehension to iterate through the given string: ‘pwskills’.\n",
    "Expected output: ['p', 'w', 's', 'k', 'i', 'l', 'l', 's']"
   ]
  },
  {
   "cell_type": "code",
   "execution_count": 2,
   "id": "c4f6c371-7953-4bcc-a35d-80ce0d8ba9cc",
   "metadata": {},
   "outputs": [
    {
     "data": {
      "text/plain": [
       "['p', 'w', 's', 'k', 'i', 'l', 'l', 's']"
      ]
     },
     "execution_count": 2,
     "metadata": {},
     "output_type": "execute_result"
    }
   ],
   "source": [
    "s=\"pwskills\"\n",
    "l=[e for e in s]\n",
    "l"
   ]
  },
  {
   "cell_type": "markdown",
   "id": "65d3f4e1-f1da-40fa-b6a1-bab1c92b43ce",
   "metadata": {},
   "source": [
    "Q8. Write a python program to check whether a given number is Palindrome or not using a while loop."
   ]
  },
  {
   "cell_type": "code",
   "execution_count": 8,
   "id": "367d7739-fa01-4642-87f4-371d00e3b9a5",
   "metadata": {},
   "outputs": [
    {
     "name": "stdin",
     "output_type": "stream",
     "text": [
      "Enter no. to check:  456\n"
     ]
    },
    {
     "name": "stdout",
     "output_type": "stream",
     "text": [
      "456 is not palindrome\n"
     ]
    }
   ],
   "source": [
    "n= int(input(\"Enter no. to check: \"))\n",
    "x=n\n",
    "a=0\n",
    "rev=0\n",
    "while(n!=0):\n",
    "    a=n%10\n",
    "    rev=rev*10+a\n",
    "    n=n//10\n",
    "if rev==x:\n",
    "    print(\"{} is palindrome\".format(x))\n",
    "else:\n",
    "    print(\"{} is not palindrome\".format(x))"
   ]
  },
  {
   "cell_type": "markdown",
   "id": "2e6ffd17-4de1-41b2-948b-e12f98c5fe62",
   "metadata": {},
   "source": [
    "Q9. Write a code to print odd numbers from 1 to 100 using list comprehension.\n",
    "Note: Use a list comprehension to create a list from 1 to 100 and use another List comprehension to filter out odd numbers."
   ]
  },
  {
   "cell_type": "code",
   "execution_count": 13,
   "id": "ad25ae95-c8c2-499b-99f9-3b775e2c1f29",
   "metadata": {},
   "outputs": [
    {
     "data": {
      "text/plain": [
       "[1,\n",
       " 3,\n",
       " 5,\n",
       " 7,\n",
       " 9,\n",
       " 11,\n",
       " 13,\n",
       " 15,\n",
       " 17,\n",
       " 19,\n",
       " 21,\n",
       " 23,\n",
       " 25,\n",
       " 27,\n",
       " 29,\n",
       " 31,\n",
       " 33,\n",
       " 35,\n",
       " 37,\n",
       " 39,\n",
       " 41,\n",
       " 43,\n",
       " 45,\n",
       " 47,\n",
       " 49,\n",
       " 51,\n",
       " 53,\n",
       " 55,\n",
       " 57,\n",
       " 59,\n",
       " 61,\n",
       " 63,\n",
       " 65,\n",
       " 67,\n",
       " 69,\n",
       " 71,\n",
       " 73,\n",
       " 75,\n",
       " 77,\n",
       " 79,\n",
       " 81,\n",
       " 83,\n",
       " 85,\n",
       " 87,\n",
       " 89,\n",
       " 91,\n",
       " 93,\n",
       " 95,\n",
       " 97,\n",
       " 99]"
      ]
     },
     "execution_count": 13,
     "metadata": {},
     "output_type": "execute_result"
    }
   ],
   "source": [
    "from functools import *\n",
    "l1=[i for i in range(1,101)]\n",
    "l2=list(filter(lambda x:x%2!=0, l1))\n",
    "l2"
   ]
  },
  {
   "cell_type": "code",
   "execution_count": null,
   "id": "58fd160d-00ae-4ba8-884a-a12eaabbe4e8",
   "metadata": {},
   "outputs": [],
   "source": []
  }
 ],
 "metadata": {
  "kernelspec": {
   "display_name": "Python 3 (ipykernel)",
   "language": "python",
   "name": "python3"
  },
  "language_info": {
   "codemirror_mode": {
    "name": "ipython",
    "version": 3
   },
   "file_extension": ".py",
   "mimetype": "text/x-python",
   "name": "python",
   "nbconvert_exporter": "python",
   "pygments_lexer": "ipython3",
   "version": "3.10.8"
  }
 },
 "nbformat": 4,
 "nbformat_minor": 5
}
