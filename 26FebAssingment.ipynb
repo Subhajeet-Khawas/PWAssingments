{
 "cells": [
  {
   "cell_type": "code",
   "execution_count": 1,
   "id": "38599ba9-27af-42c9-9cab-98b3b2251445",
   "metadata": {},
   "outputs": [],
   "source": [
    "import numpy as np\n",
    "list_ = [ \"1\" , \"2\" , \"3\" , \"4\" , \"5\" ]\n",
    "array_list = np.array(object = list_)"
   ]
  },
  {
   "cell_type": "markdown",
   "id": "20b9efd6-7dd9-4526-bbd0-198d67aab99c",
   "metadata": {},
   "source": [
    "Q1. Is there any difference in the data type of variables list_ and array_list? If there is then write a code to print the data types of both the variables."
   ]
  },
  {
   "cell_type": "markdown",
   "id": "2b1c9588-42e8-464e-85a3-b05353f1c5c4",
   "metadata": {},
   "source": [
    "There is a difference between the datatypes of variables list_ and array_list\n",
    "The list_ variable is of type list whearas the variable array_list is of type numpy.ndarray"
   ]
  },
  {
   "cell_type": "code",
   "execution_count": 2,
   "id": "b2d5c0ad-3f52-4106-90aa-45f6f3fbf5d2",
   "metadata": {},
   "outputs": [
    {
     "data": {
      "text/plain": [
       "list"
      ]
     },
     "execution_count": 2,
     "metadata": {},
     "output_type": "execute_result"
    }
   ],
   "source": [
    "type(list_)"
   ]
  },
  {
   "cell_type": "code",
   "execution_count": 3,
   "id": "e2e7f2c7-1b0c-4347-99d2-c97cc3893d1e",
   "metadata": {},
   "outputs": [
    {
     "data": {
      "text/plain": [
       "numpy.ndarray"
      ]
     },
     "execution_count": 3,
     "metadata": {},
     "output_type": "execute_result"
    }
   ],
   "source": [
    "type(array_list)"
   ]
  },
  {
   "cell_type": "markdown",
   "id": "784b9e02-5abe-4533-b4eb-d181e866dac9",
   "metadata": {},
   "source": [
    "Q2. Write a code to print the data type of each and every element of both the variables list_ and\n",
    "array_list."
   ]
  },
  {
   "cell_type": "code",
   "execution_count": 4,
   "id": "f263a8f1-ca1a-4e7d-9989-c9c0938bcb87",
   "metadata": {},
   "outputs": [
    {
     "name": "stdout",
     "output_type": "stream",
     "text": [
      "<class 'str'>\n",
      "<class 'str'>\n",
      "<class 'str'>\n",
      "<class 'str'>\n",
      "<class 'str'>\n"
     ]
    }
   ],
   "source": [
    "for e in list_:\n",
    "    print(type(e))"
   ]
  },
  {
   "cell_type": "code",
   "execution_count": 5,
   "id": "91d64879-1e7a-44df-bfba-903b0ec1f9fc",
   "metadata": {},
   "outputs": [
    {
     "name": "stdout",
     "output_type": "stream",
     "text": [
      "<class 'numpy.str_'>\n",
      "<class 'numpy.str_'>\n",
      "<class 'numpy.str_'>\n",
      "<class 'numpy.str_'>\n",
      "<class 'numpy.str_'>\n"
     ]
    }
   ],
   "source": [
    "for e in array_list:\n",
    "    print(type(e))"
   ]
  },
  {
   "cell_type": "markdown",
   "id": "29c46a8d-6267-4460-8bf2-edf6a834316c",
   "metadata": {},
   "source": [
    "Q3. Considering the following changes in the variable, array_list:"
   ]
  },
  {
   "cell_type": "code",
   "execution_count": 6,
   "id": "381116d6-35a8-414f-8142-25512c5bfe18",
   "metadata": {},
   "outputs": [],
   "source": [
    "array_list = np.array(object = list_, dtype = int)"
   ]
  },
  {
   "cell_type": "markdown",
   "id": "81509252-ba4c-40a8-8011-8fb985b56bfd",
   "metadata": {},
   "source": [
    "Will there be any difference in the data type of the elements present in both the variables, list_ and\n",
    "arra_list? If so then print the data types of each and every element present in both the variables, list_ and array_list."
   ]
  },
  {
   "cell_type": "markdown",
   "id": "b126f1cb-fdde-4419-a0c5-6c73a8996e6b",
   "metadata": {},
   "source": [
    "There is a difference between the datatypes of elements of variables list_ and array_list\n",
    "The elements of list_ variable are of type \"str\" whearas the elements of variable array_list are of type \"numpy.int64\""
   ]
  },
  {
   "cell_type": "code",
   "execution_count": 9,
   "id": "9e8624cb-1ee3-40bf-af4a-10b8093cc3fb",
   "metadata": {},
   "outputs": [
    {
     "name": "stdout",
     "output_type": "stream",
     "text": [
      "<class 'str'>\n",
      "<class 'str'>\n",
      "<class 'str'>\n",
      "<class 'str'>\n",
      "<class 'str'>\n"
     ]
    }
   ],
   "source": [
    "for e in list_:\n",
    "    print(type(e))"
   ]
  },
  {
   "cell_type": "code",
   "execution_count": 10,
   "id": "6619859a-182d-4d03-8f12-453db6cb6825",
   "metadata": {},
   "outputs": [
    {
     "name": "stdout",
     "output_type": "stream",
     "text": [
      "<class 'numpy.int64'>\n",
      "<class 'numpy.int64'>\n",
      "<class 'numpy.int64'>\n",
      "<class 'numpy.int64'>\n",
      "<class 'numpy.int64'>\n"
     ]
    }
   ],
   "source": [
    "for e in array_list:\n",
    "    print(type(e))"
   ]
  },
  {
   "cell_type": "markdown",
   "id": "f2951e45-fbbf-48d0-b1f7-01c9468ae52d",
   "metadata": {},
   "source": [
    "Consider the below code to answer further questions:"
   ]
  },
  {
   "cell_type": "code",
   "execution_count": 11,
   "id": "600747ff-711b-4ffb-a2b2-441cdd7965d5",
   "metadata": {},
   "outputs": [],
   "source": [
    "import numpy as np\n",
    "num_list = [ [ 1 , 2 , 3 ] , [ 4 , 5 , 6 ] ]\n",
    "num_array = np.array(object = num_list)"
   ]
  },
  {
   "cell_type": "markdown",
   "id": "50ff42a9-6caf-48bc-9595-1c2ac2cc8776",
   "metadata": {},
   "source": [
    "Q4. Write a code to find the following characteristics of variable, num_array:"
   ]
  },
  {
   "cell_type": "markdown",
   "id": "1fedc08a-d994-4091-86ea-780413a2db92",
   "metadata": {},
   "source": [
    "(i) shape"
   ]
  },
  {
   "cell_type": "code",
   "execution_count": 13,
   "id": "c31dc0e0-817d-4853-94b2-737e2a5b897b",
   "metadata": {},
   "outputs": [
    {
     "data": {
      "text/plain": [
       "(2, 3)"
      ]
     },
     "execution_count": 13,
     "metadata": {},
     "output_type": "execute_result"
    }
   ],
   "source": [
    "num_array.shape"
   ]
  },
  {
   "cell_type": "markdown",
   "id": "dc5472c8-271a-4d56-a5d1-5b202f0973c9",
   "metadata": {},
   "source": [
    "(ii) size"
   ]
  },
  {
   "cell_type": "code",
   "execution_count": 14,
   "id": "ad39ef28-4fb9-4ddf-8d21-494a922bb9db",
   "metadata": {},
   "outputs": [
    {
     "data": {
      "text/plain": [
       "6"
      ]
     },
     "execution_count": 14,
     "metadata": {},
     "output_type": "execute_result"
    }
   ],
   "source": [
    "num_array.size"
   ]
  },
  {
   "cell_type": "markdown",
   "id": "2fa5b20b-696f-4f52-abf6-f17751dc965f",
   "metadata": {},
   "source": [
    "Q5. Write a code to create numpy array of 3*3 matrix containing zeros only, using a numpy array\n",
    "creation function."
   ]
  },
  {
   "cell_type": "code",
   "execution_count": 16,
   "id": "8829ff7f-ef51-4eeb-8fd9-b7aea9ddd832",
   "metadata": {},
   "outputs": [],
   "source": [
    "arr1=np.zeros((3,3))"
   ]
  },
  {
   "cell_type": "code",
   "execution_count": 17,
   "id": "d81f7519-3e02-4da1-b866-c02119b45cdd",
   "metadata": {},
   "outputs": [
    {
     "data": {
      "text/plain": [
       "array([[0., 0., 0.],\n",
       "       [0., 0., 0.],\n",
       "       [0., 0., 0.]])"
      ]
     },
     "execution_count": 17,
     "metadata": {},
     "output_type": "execute_result"
    }
   ],
   "source": [
    "arr1"
   ]
  },
  {
   "cell_type": "markdown",
   "id": "0c54517f-262f-43f7-bcf0-8045a13e5446",
   "metadata": {},
   "source": [
    "Q6. Create an identity matrix of shape (5,5) using numpy functions?"
   ]
  },
  {
   "cell_type": "code",
   "execution_count": 19,
   "id": "fe56867e-4d35-458f-9e14-b35ed01a72e6",
   "metadata": {},
   "outputs": [],
   "source": [
    "arr2=np.eye(5,5)"
   ]
  },
  {
   "cell_type": "code",
   "execution_count": 20,
   "id": "295a04b9-f9b2-40b1-89c6-297464f3f1e8",
   "metadata": {},
   "outputs": [
    {
     "data": {
      "text/plain": [
       "array([[1., 0., 0., 0., 0.],\n",
       "       [0., 1., 0., 0., 0.],\n",
       "       [0., 0., 1., 0., 0.],\n",
       "       [0., 0., 0., 1., 0.],\n",
       "       [0., 0., 0., 0., 1.]])"
      ]
     },
     "execution_count": 20,
     "metadata": {},
     "output_type": "execute_result"
    }
   ],
   "source": [
    "arr2"
   ]
  },
  {
   "cell_type": "code",
   "execution_count": null,
   "id": "db9919ba-44c9-4538-858b-0235914c44f3",
   "metadata": {},
   "outputs": [],
   "source": []
  }
 ],
 "metadata": {
  "kernelspec": {
   "display_name": "Python 3 (ipykernel)",
   "language": "python",
   "name": "python3"
  },
  "language_info": {
   "codemirror_mode": {
    "name": "ipython",
    "version": 3
   },
   "file_extension": ".py",
   "mimetype": "text/x-python",
   "name": "python",
   "nbconvert_exporter": "python",
   "pygments_lexer": "ipython3",
   "version": "3.10.8"
  }
 },
 "nbformat": 4,
 "nbformat_minor": 5
}
