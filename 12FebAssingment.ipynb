{
 "cells": [
  {
   "cell_type": "markdown",
   "id": "c96e19b9-03a9-4fc5-a5ea-c82ff11aa321",
   "metadata": {},
   "source": [
    "Q1. What is an Exception in python? Write the difference between Exceptions and Syntax errors?"
   ]
  },
  {
   "cell_type": "markdown",
   "id": "676ef3a9-0ff5-46de-934f-b8064b626775",
   "metadata": {},
   "source": [
    "In Python, an exception is an event that occurs during the execution of a program, which disrupts the normal flow of the program's instructions. It is a mechanism for handling and responding to errors and exceptional situations that may arise during runtime. When an exception occurs, it can be caught and handled by appropriate code, preventing the program from crashing and allowing for graceful error handling.\n",
    "\n",
    "Syntax errors, on the other hand, are errors that occur when the Python interpreter encounters invalid syntax in the code. These errors are detected during the parsing phase, before the program is executed. Syntax errors typically occur due to mistakes in the code structure, such as missing or mismatched parentheses, incorrect indentation, or using an undefined variable."
   ]
  },
  {
   "cell_type": "code",
   "execution_count": 1,
   "id": "c126f3b1-fbe5-41a0-8730-e880b87df96e",
   "metadata": {},
   "outputs": [
    {
     "name": "stdout",
     "output_type": "stream",
     "text": [
      "division by zero\n"
     ]
    }
   ],
   "source": [
    "#example of exception handling\n",
    "try:\n",
    "    a=10/0\n",
    "except ZeroDivisionError as e:\n",
    "    print(e)"
   ]
  },
  {
   "cell_type": "code",
   "execution_count": 2,
   "id": "9374ebd2-11cc-4c3b-8c18-d60e33de3d91",
   "metadata": {},
   "outputs": [
    {
     "ename": "SyntaxError",
     "evalue": "unterminated string literal (detected at line 1) (2279948052.py, line 1)",
     "output_type": "error",
     "traceback": [
      "\u001b[0;36m  Cell \u001b[0;32mIn[2], line 1\u001b[0;36m\u001b[0m\n\u001b[0;31m    print(\"data science)\u001b[0m\n\u001b[0m          ^\u001b[0m\n\u001b[0;31mSyntaxError\u001b[0m\u001b[0;31m:\u001b[0m unterminated string literal (detected at line 1)\n"
     ]
    }
   ],
   "source": [
    "#example of syntax error\n",
    "print(\"data science)"
   ]
  },
  {
   "cell_type": "markdown",
   "id": "1b04e6d2-3669-4ff0-a769-c4147a9817c8",
   "metadata": {},
   "source": [
    "Q2. What happens when an exception is not handled? Explain with an example."
   ]
  },
  {
   "cell_type": "markdown",
   "id": "06d9675b-3957-4281-bb80-3540119b64fa",
   "metadata": {},
   "source": [
    "When an exception is not handled in Python, it leads to an \"unhandled exception\" or an \"exception traceback.\" The program execution is halted, and an error message is displayed, indicating the type of exception and the traceback, which is a list of function calls that led to the exception."
   ]
  },
  {
   "cell_type": "code",
   "execution_count": 4,
   "id": "cd2cc7d2-d196-4141-bb66-dc6cd2f84944",
   "metadata": {},
   "outputs": [
    {
     "ename": "ZeroDivisionError",
     "evalue": "division by zero",
     "output_type": "error",
     "traceback": [
      "\u001b[0;31m---------------------------------------------------------------------------\u001b[0m",
      "\u001b[0;31mZeroDivisionError\u001b[0m                         Traceback (most recent call last)",
      "Cell \u001b[0;32mIn[4], line 5\u001b[0m\n\u001b[1;32m      3\u001b[0m a\u001b[38;5;241m=\u001b[39m\u001b[38;5;241m10\u001b[39m\n\u001b[1;32m      4\u001b[0m b\u001b[38;5;241m=\u001b[39m\u001b[38;5;241m0\u001b[39m\n\u001b[0;32m----> 5\u001b[0m c\u001b[38;5;241m=\u001b[39m\u001b[43mdividefun\u001b[49m\u001b[43m(\u001b[49m\u001b[43ma\u001b[49m\u001b[43m,\u001b[49m\u001b[43mb\u001b[49m\u001b[43m)\u001b[49m\n\u001b[1;32m      6\u001b[0m \u001b[38;5;28mprint\u001b[39m(c)\n",
      "Cell \u001b[0;32mIn[4], line 2\u001b[0m, in \u001b[0;36mdividefun\u001b[0;34m(a, b)\u001b[0m\n\u001b[1;32m      1\u001b[0m \u001b[38;5;28;01mdef\u001b[39;00m \u001b[38;5;21mdividefun\u001b[39m(a,b):\n\u001b[0;32m----> 2\u001b[0m     \u001b[38;5;28;01mreturn\u001b[39;00m \u001b[43ma\u001b[49m\u001b[38;5;241;43m/\u001b[39;49m\u001b[43mb\u001b[49m\n",
      "\u001b[0;31mZeroDivisionError\u001b[0m: division by zero"
     ]
    }
   ],
   "source": [
    "def dividefun(a,b):\n",
    "    return a/b\n",
    "a=10\n",
    "b=0\n",
    "c=dividefun(a,b)\n",
    "print(c)"
   ]
  },
  {
   "cell_type": "markdown",
   "id": "4d6c9a3c-9c98-430c-8fee-39fb946248e3",
   "metadata": {},
   "source": [
    "Q3. Which Python statements are used to catch and handle exceptions? Explain with an exmple."
   ]
  },
  {
   "cell_type": "markdown",
   "id": "113f19df-d1fa-4175-9ed9-dcc5d8d498fe",
   "metadata": {},
   "source": [
    "In Python, the try and except statements are used to catch and handle exceptions. The try block contains the code that may raise an exception, and the except block specifies the code to be executed when a specific exception occurs."
   ]
  },
  {
   "cell_type": "code",
   "execution_count": 6,
   "id": "8e09a257-a786-4cf6-84b8-d0566a60efe0",
   "metadata": {},
   "outputs": [
    {
     "name": "stdout",
     "output_type": "stream",
     "text": [
      "division by zero\n",
      "Execution complete\n"
     ]
    }
   ],
   "source": [
    "try:\n",
    "    def dividefun(a,b):\n",
    "        return a/b\n",
    "    a=10\n",
    "    b=0\n",
    "    c=dividefun(a,b)\n",
    "    print(c)\n",
    "except Exception as e:\n",
    "    print(e)\n",
    "finally:\n",
    "    print(\"Execution complete\")"
   ]
  },
  {
   "cell_type": "markdown",
   "id": "6838917f-5fe2-401c-97a2-3bb58f8cd065",
   "metadata": {},
   "source": [
    "Q4. Explain with an example:\n",
    "a. try and else\n",
    "b. finally\n",
    "c. raise "
   ]
  },
  {
   "cell_type": "markdown",
   "id": "34f4ffdb-173d-4d4a-b228-44c2ea20b885",
   "metadata": {},
   "source": [
    "a. try and else"
   ]
  },
  {
   "cell_type": "markdown",
   "id": "9d4cc1da-6d6f-4cc5-bebd-20edfa883bbd",
   "metadata": {},
   "source": [
    "In Python, the try and else statements are used together to define a block of code that is executed if no exception occurs within the try block. The else block is optional and follows the except block(s) in the exception handling structure."
   ]
  },
  {
   "cell_type": "code",
   "execution_count": 7,
   "id": "ebba6962-9883-4b5e-8e31-45da6ca04be9",
   "metadata": {},
   "outputs": [
    {
     "name": "stdout",
     "output_type": "stream",
     "text": [
      "5.0\n",
      "Execution complete\n"
     ]
    }
   ],
   "source": [
    "try:\n",
    "    def dividefun(a,b):\n",
    "        return a/b\n",
    "    a=10\n",
    "    b=2\n",
    "    c=dividefun(a,b)\n",
    "    print(c)\n",
    "except Exception as e:\n",
    "    print(e)\n",
    "else:\n",
    "    print(\"Execution complete\")"
   ]
  },
  {
   "cell_type": "code",
   "execution_count": 8,
   "id": "b109c9bd-29a5-4f7c-9314-f500e80721d6",
   "metadata": {},
   "outputs": [
    {
     "name": "stdout",
     "output_type": "stream",
     "text": [
      "division by zero\n"
     ]
    }
   ],
   "source": [
    "try:\n",
    "    def dividefun(a,b):\n",
    "        return a/b\n",
    "    a=10\n",
    "    b=0\n",
    "    c=dividefun(a,b)\n",
    "    print(c)\n",
    "except Exception as e:\n",
    "    print(e)\n",
    "else:\n",
    "    print(\"Execution complete\")"
   ]
  },
  {
   "cell_type": "markdown",
   "id": "0578e3ac-8134-4ca9-9df5-7153fcc4893b",
   "metadata": {},
   "source": [
    "b. finally"
   ]
  },
  {
   "cell_type": "markdown",
   "id": "a02e009d-1d2a-4b12-9785-fc411e79b3f9",
   "metadata": {},
   "source": [
    "In Python, the finally keyword is used in exception handling to define a block of code that is always executed, regardless of whether an exception occurred or not. The finally block is optional and follows the try and except block(s) in the exception handling structure.\n",
    "\n",
    "The finally block is useful for performing cleanup tasks, releasing resources, or ensuring that certain code is executed regardless of exceptions. It can be used to close files, release locks, terminate connections, or perform any necessary cleanup operations, even if an exception occurred."
   ]
  },
  {
   "cell_type": "code",
   "execution_count": 9,
   "id": "45630275-cd6a-43da-b3e4-4815e868589d",
   "metadata": {},
   "outputs": [
    {
     "name": "stdout",
     "output_type": "stream",
     "text": [
      "division by zero\n",
      "Execution complete\n"
     ]
    }
   ],
   "source": [
    "try:\n",
    "    def dividefun(a,b):\n",
    "        return a/b\n",
    "    a=10\n",
    "    b=0\n",
    "    c=dividefun(a,b)\n",
    "    print(c)\n",
    "except Exception as e:\n",
    "    print(e)\n",
    "finally:\n",
    "    print(\"Execution complete\")"
   ]
  },
  {
   "cell_type": "markdown",
   "id": "9f06b8fd-95fa-4c7c-93be-9ed5370917dc",
   "metadata": {},
   "source": [
    "c. raise"
   ]
  },
  {
   "cell_type": "markdown",
   "id": "cabb5085-f33d-46c0-b5e4-bc5971def7cb",
   "metadata": {},
   "source": [
    "In Python, the raise keyword is used to explicitly raise an exception. It allows the programmer to create and raise custom exceptions or propagate existing exceptions to higher levels of the program for handling.\n",
    "\n",
    "By using the raise keyword, we can signal exceptional conditions or errors within our code explicitly. This allows us to create custom exception types or propagate existing exceptions, providing more control over the flow of the program and enabling more granular exception handling."
   ]
  },
  {
   "cell_type": "code",
   "execution_count": 1,
   "id": "791f70f5-fc3b-47cc-86bd-e1b673f67b21",
   "metadata": {},
   "outputs": [
    {
     "name": "stdin",
     "output_type": "stream",
     "text": [
      "Enter age:  12\n"
     ]
    },
    {
     "ename": "TooYoungException",
     "evalue": "Age is very less",
     "output_type": "error",
     "traceback": [
      "\u001b[0;31m---------------------------------------------------------------------------\u001b[0m",
      "\u001b[0;31mTooYoungException\u001b[0m                         Traceback (most recent call last)",
      "Cell \u001b[0;32mIn[1], line 11\u001b[0m\n\u001b[1;32m      9\u001b[0m age\u001b[38;5;241m=\u001b[39m\u001b[38;5;28mint\u001b[39m(\u001b[38;5;28minput\u001b[39m(\u001b[38;5;124m\"\u001b[39m\u001b[38;5;124mEnter age: \u001b[39m\u001b[38;5;124m\"\u001b[39m))\n\u001b[1;32m     10\u001b[0m \u001b[38;5;28;01mif\u001b[39;00m age\u001b[38;5;241m<\u001b[39m\u001b[38;5;241m18\u001b[39m:\n\u001b[0;32m---> 11\u001b[0m     \u001b[38;5;28;01mraise\u001b[39;00m TooYoungException(\u001b[38;5;124m\"\u001b[39m\u001b[38;5;124mAge is very less\u001b[39m\u001b[38;5;124m\"\u001b[39m)\n\u001b[1;32m     12\u001b[0m \u001b[38;5;28;01melif\u001b[39;00m age\u001b[38;5;241m>\u001b[39m\u001b[38;5;241m60\u001b[39m:\n\u001b[1;32m     13\u001b[0m     \u001b[38;5;28;01mraise\u001b[39;00m TooOldException(\u001b[38;5;124m\"\u001b[39m\u001b[38;5;124mAge is very high\u001b[39m\u001b[38;5;124m\"\u001b[39m)\n",
      "\u001b[0;31mTooYoungException\u001b[0m: Age is very less"
     ]
    }
   ],
   "source": [
    "class TooYoungException(Exception):\n",
    "    def __init__(self, msg):\n",
    "        self.msg=msg\n",
    "\n",
    "class TooOldException(Exception):\n",
    "    def __init__(self, msg):\n",
    "        self.msg=msg    \n",
    "        \n",
    "age=int(input(\"Enter age: \"))\n",
    "if age<18:\n",
    "    raise TooYoungException(\"Age is very less\")\n",
    "elif age>60:\n",
    "    raise TooOldException(\"Age is very high\")\n",
    "else:\n",
    "    print(\"Valid age\")"
   ]
  },
  {
   "cell_type": "markdown",
   "id": "b4f96241-dd63-44f1-88c5-812e7e1676eb",
   "metadata": {},
   "source": [
    "Q5. What are Custom Exceptions in python? Why do we need Custom Exceptions? Explain with an example."
   ]
  },
  {
   "cell_type": "markdown",
   "id": "013fbff1-f7a6-4ae8-80db-b98464410c1e",
   "metadata": {},
   "source": [
    "Also known as Customisex Exceptions or Programmatic Exceptions.\n",
    "\n",
    "Sometimes we have to define and raise exceptions explicitly to indicate that something goes wrong, such type of exceptions are called user defined exceptions or Customised Exceptions or Programmatci Exceptions.\n",
    "\n",
    "Programmer is responsible to define these eceptions and Python Virtual Machine not having any idea about these. Hence we have t raise explicitly based on our requirement by using 'raise' keyword."
   ]
  },
  {
   "cell_type": "code",
   "execution_count": 2,
   "id": "b29837e9-dd2a-4645-9ab9-797177fd93eb",
   "metadata": {},
   "outputs": [
    {
     "name": "stdin",
     "output_type": "stream",
     "text": [
      "Enter age:  99\n"
     ]
    },
    {
     "ename": "TooOldException",
     "evalue": "Age is very high",
     "output_type": "error",
     "traceback": [
      "\u001b[0;31m---------------------------------------------------------------------------\u001b[0m",
      "\u001b[0;31mTooOldException\u001b[0m                           Traceback (most recent call last)",
      "Cell \u001b[0;32mIn[2], line 13\u001b[0m\n\u001b[1;32m     11\u001b[0m     \u001b[38;5;28;01mraise\u001b[39;00m TooYoungException(\u001b[38;5;124m\"\u001b[39m\u001b[38;5;124mAge is very less\u001b[39m\u001b[38;5;124m\"\u001b[39m)\n\u001b[1;32m     12\u001b[0m \u001b[38;5;28;01melif\u001b[39;00m age\u001b[38;5;241m>\u001b[39m\u001b[38;5;241m60\u001b[39m:\n\u001b[0;32m---> 13\u001b[0m     \u001b[38;5;28;01mraise\u001b[39;00m TooOldException(\u001b[38;5;124m\"\u001b[39m\u001b[38;5;124mAge is very high\u001b[39m\u001b[38;5;124m\"\u001b[39m)\n\u001b[1;32m     14\u001b[0m \u001b[38;5;28;01melse\u001b[39;00m:\n\u001b[1;32m     15\u001b[0m     \u001b[38;5;28mprint\u001b[39m(\u001b[38;5;124m\"\u001b[39m\u001b[38;5;124mValid age\u001b[39m\u001b[38;5;124m\"\u001b[39m)\n",
      "\u001b[0;31mTooOldException\u001b[0m: Age is very high"
     ]
    }
   ],
   "source": [
    "class TooYoungException(Exception):\n",
    "    def __init__(self, msg):\n",
    "        self.msg=msg\n",
    "\n",
    "class TooOldException(Exception):\n",
    "    def __init__(self, msg):\n",
    "        self.msg=msg    \n",
    "        \n",
    "age=int(input(\"Enter age: \"))\n",
    "if age<18:\n",
    "    raise TooYoungException(\"Age is very less\")\n",
    "elif age>60:\n",
    "    raise TooOldException(\"Age is very high\")\n",
    "else:\n",
    "    print(\"Valid age\")"
   ]
  },
  {
   "cell_type": "markdown",
   "id": "b42977cc-65fb-49dc-81ac-f47f4eef1673",
   "metadata": {},
   "source": [
    "Q6. Create a custom exception class. Use this class to handle an exception."
   ]
  },
  {
   "cell_type": "code",
   "execution_count": 3,
   "id": "3c0d8875-74fe-4d04-bf91-26dcf67597a7",
   "metadata": {},
   "outputs": [
    {
     "name": "stdin",
     "output_type": "stream",
     "text": [
      "Enter age:  89\n"
     ]
    },
    {
     "name": "stdout",
     "output_type": "stream",
     "text": [
      "Age is very high\n",
      "execution complete\n"
     ]
    }
   ],
   "source": [
    "class TooYoungException(Exception):\n",
    "    def __init__(self, msg):\n",
    "        self.msg=msg\n",
    "\n",
    "class TooOldException(Exception):\n",
    "    def __init__(self, msg):\n",
    "        self.msg=msg    \n",
    "        \n",
    "age=int(input(\"Enter age: \"))\n",
    "try:\n",
    "    if age<18:\n",
    "        raise TooYoungException(\"Age is very less\")\n",
    "    elif age>60:\n",
    "        raise TooOldException(\"Age is very high\")\n",
    "    else:\n",
    "        print(\"Valid age\")\n",
    "\n",
    "except TooYoungException as e:\n",
    "    print(e)\n",
    "    \n",
    "except TooOldException as e:\n",
    "    print(e)    \n",
    "    \n",
    "finally:\n",
    "    print(\"execution complete\")"
   ]
  },
  {
   "cell_type": "code",
   "execution_count": null,
   "id": "be5aa46a-ecf0-4a9a-9204-a790cac9e5b2",
   "metadata": {},
   "outputs": [],
   "source": []
  }
 ],
 "metadata": {
  "kernelspec": {
   "display_name": "Python 3 (ipykernel)",
   "language": "python",
   "name": "python3"
  },
  "language_info": {
   "codemirror_mode": {
    "name": "ipython",
    "version": 3
   },
   "file_extension": ".py",
   "mimetype": "text/x-python",
   "name": "python",
   "nbconvert_exporter": "python",
   "pygments_lexer": "ipython3",
   "version": "3.10.8"
  }
 },
 "nbformat": 4,
 "nbformat_minor": 5
}
