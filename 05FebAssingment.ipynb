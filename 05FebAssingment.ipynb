{
 "cells": [
  {
   "cell_type": "markdown",
   "id": "77447ba6-b36b-4ce5-b0e5-064991710591",
   "metadata": {},
   "source": [
    "Q1. Explain Class and Object with respect to Object-Oriented Programming. Give a suitable example."
   ]
  },
  {
   "cell_type": "markdown",
   "id": "cac95e46-b555-47e6-bc17-372cbb1d48fd",
   "metadata": {},
   "source": [
    "In object-oriented programming (OOP), a class is a blueprint for creating objects, while an object is an instance of a class.\n",
    "\n",
    "A class defines a set of attributes and methods that are shared by all objects created from the class. The attributes are data members that define the state of the object, while the methods are functions that define the behavior of the object.\n",
    "\n",
    "When a new object is created from a class, it inherits all the attributes and methods defined by the class. However, each object has its own unique set of values for its attributes, which gives it a distinct state. Objects can also have their own methods, which can be used to modify their state or perform other actions."
   ]
  },
  {
   "cell_type": "code",
   "execution_count": 3,
   "id": "a204c108-6e7b-4e0b-bbd0-d2f80a9bdc38",
   "metadata": {},
   "outputs": [
    {
     "data": {
      "text/plain": [
       "('Subh', 'CSE', 1001)"
      ]
     },
     "execution_count": 3,
     "metadata": {},
     "output_type": "execute_result"
    }
   ],
   "source": [
    "class University: #class creation\n",
    "    def __init__(self, name, dept, roll): #constructor\n",
    "        self.name= name\n",
    "        self.dept= dept\n",
    "        self.roll =roll\n",
    "        return\n",
    "    def stud_details(self): #method\n",
    "        return self.name, self.dept, self.roll\n",
    "subh=University(\"Subh\", \"CSE\", 1001) #object creation\n",
    "subh.stud_details()"
   ]
  },
  {
   "cell_type": "markdown",
   "id": "a833604b-69ee-4b2f-ae1b-872954762d39",
   "metadata": {},
   "source": [
    "Q2. Name the four pillars of OOPs."
   ]
  },
  {
   "cell_type": "markdown",
   "id": "1c430880-de8e-4c8d-9550-f2c0774b20ef",
   "metadata": {},
   "source": [
    "The four pillars of OOPs are:\n",
    "1. Encapsulation\n",
    "2. Abstraction\n",
    "3. Polymorphism\n",
    "4. Inheritance"
   ]
  },
  {
   "cell_type": "markdown",
   "id": "d71fd5ca-9187-4aca-9c92-bb316b420414",
   "metadata": {},
   "source": [
    "Q3. Explain why the __init__() function is used. Give a suitable example."
   ]
  },
  {
   "cell_type": "markdown",
   "id": "fada0f24-6f23-4556-8054-354483421915",
   "metadata": {},
   "source": [
    "The main purpose of the __init__() function is to set up the initial state of an object by initializing its attributes. When a new object is created, it is usually created with some initial state, such as a default value for each attribute. The __init__() function provides a way to set up this initial state by initializing the attributes with specific values.\n",
    "\n",
    "In summary, the __init__() function is used to initialize the attributes of new objects created from a class. It sets up the initial state of the object, and is automatically called when a new object is created from the class."
   ]
  },
  {
   "cell_type": "code",
   "execution_count": 4,
   "id": "9231aa9d-161b-40c9-aa5b-de995baa67fb",
   "metadata": {},
   "outputs": [],
   "source": [
    "class Cricket:\n",
    "    def __init__(self, name, age, player_type):\n",
    "        self.name=name\n",
    "        self.age=age\n",
    "        self.player_type=player_type\n",
    "        return\n",
    "    def get_player_details(self):\n",
    "        return self.name, self.age, self.player_type\n",
    "obj1=Cricket(\"Virat\", 34, \"batsman\")\n",
    "obj2=Cricket(\"Bumrah\", 28, \"bowler\")"
   ]
  },
  {
   "cell_type": "code",
   "execution_count": 5,
   "id": "79628f8a-a0ff-48f3-aa61-143c73423460",
   "metadata": {},
   "outputs": [
    {
     "data": {
      "text/plain": [
       "('Virat', 34, 'batsman')"
      ]
     },
     "execution_count": 5,
     "metadata": {},
     "output_type": "execute_result"
    }
   ],
   "source": [
    "obj1.get_player_details()"
   ]
  },
  {
   "cell_type": "code",
   "execution_count": 6,
   "id": "c258f9d7-ddc3-4977-b419-74b3518c6c99",
   "metadata": {},
   "outputs": [
    {
     "data": {
      "text/plain": [
       "('Bumrah', 28, 'bowler')"
      ]
     },
     "execution_count": 6,
     "metadata": {},
     "output_type": "execute_result"
    }
   ],
   "source": [
    "obj2.get_player_details()"
   ]
  },
  {
   "cell_type": "markdown",
   "id": "4a5d3698-8619-4de6-a626-1bb38e38cd7d",
   "metadata": {},
   "source": [
    "Q4. Why self is used in OOPs?"
   ]
  },
  {
   "cell_type": "markdown",
   "id": "fd906e1c-779b-4399-b86d-e693af348ff0",
   "metadata": {},
   "source": [
    "In object-oriented programming (OOP), self is a special keyword used to refer to the instance of a class. It is used as the first argument to instance methods defined in the class, and it represents the object that the method is being called on.\n",
    "\n",
    "self is not a keyword\n",
    "self is the most recommended variable to define object level methods"
   ]
  },
  {
   "cell_type": "markdown",
   "id": "dd02f593-46e7-4987-9440-94a221f55f2d",
   "metadata": {},
   "source": [
    "Q5. What is inheritance? Give an example for each type of inheritance."
   ]
  },
  {
   "cell_type": "markdown",
   "id": "56f44aa2-a2e0-4da1-9194-0c659024c38b",
   "metadata": {},
   "source": [
    "Defining an object by reusing the functionality f existing object is konwn as inheritance in OOPs\n",
    "Inheritance basically comprises of:\n",
    "1. Access existing object functionality\n",
    "2. Adding new functionality\n",
    "3. Update existing functionality\n",
    "\n",
    "Types of inheritance:\n",
    "1. Single\n",
    "2. Multilevel\n",
    "3. Multiple\n",
    "4. Hybrid-Diamond\n",
    "5. Hierarchial"
   ]
  },
  {
   "cell_type": "code",
   "execution_count": 9,
   "id": "c8e9cb13-2953-4253-b341-b3a31663f3d9",
   "metadata": {},
   "outputs": [
    {
     "name": "stdout",
     "output_type": "stream",
     "text": [
      "Parent fun\n",
      "Child fun\n",
      "Parent fun\n"
     ]
    }
   ],
   "source": [
    "#Single Inheritance example\n",
    "class Parent:\n",
    "    def fun1(self):\n",
    "        print(\"Parent fun\")\n",
    "        return\n",
    "class Child(Parent):\n",
    "    def fun(self):\n",
    "        print(\"Child fun\")\n",
    "        return\n",
    "    def main():\n",
    "        p=Parent()\n",
    "        c=Child()\n",
    "        p.fun1()\n",
    "        c.fun()\n",
    "        c.fun1()\n",
    "        return\n",
    "Child.main()"
   ]
  },
  {
   "cell_type": "code",
   "execution_count": 11,
   "id": "d3b52843-59cf-4c9e-8e7d-445081821c50",
   "metadata": {},
   "outputs": [
    {
     "name": "stdout",
     "output_type": "stream",
     "text": [
      "Superior fun\n",
      "Parent fun\n",
      "Superior fun\n",
      "Child fun\n",
      "Parent fun\n",
      "Superior fun\n"
     ]
    }
   ],
   "source": [
    "#Multilevel Inheritance example\n",
    "class Superior:\n",
    "    def fun2(self):\n",
    "        print(\"Superior fun\")\n",
    "        return\n",
    "class Parent(Superior):\n",
    "    def fun1(self):\n",
    "        print(\"Parent fun\")\n",
    "        return\n",
    "class Child(Parent):\n",
    "    def fun(self):\n",
    "        print(\"Child fun\")\n",
    "        return\n",
    "    def main():\n",
    "        s=Superior()\n",
    "        p=Parent()\n",
    "        c=Child()\n",
    "        s.fun2()\n",
    "        p.fun1()\n",
    "        p.fun2()\n",
    "        c.fun()\n",
    "        c.fun1()\n",
    "        c.fun2()\n",
    "        return\n",
    "Child.main()"
   ]
  },
  {
   "cell_type": "code",
   "execution_count": 13,
   "id": "af8bdaf1-2155-4be4-a998-c4f3b2c9bbc0",
   "metadata": {},
   "outputs": [
    {
     "name": "stdout",
     "output_type": "stream",
     "text": [
      "Parent fun\n",
      "Child1 fun\n",
      "Parent fun\n",
      "Child2 fun\n",
      "Parent fun\n",
      "Child3 fun\n",
      "Parent fun\n"
     ]
    }
   ],
   "source": [
    "#Hierarchial Inheritance example\n",
    "class Parent:\n",
    "    def fun1(self):\n",
    "        print(\"Parent fun\")\n",
    "        return\n",
    "class Child1(Parent):\n",
    "    def fun2(self):\n",
    "        print(\"Child1 fun\")\n",
    "        return\n",
    "class Child2(Parent):\n",
    "    def fun3(self):\n",
    "        print(\"Child2 fun\")\n",
    "        return\n",
    "class Child3(Parent):\n",
    "    def fun4(self):\n",
    "        print(\"Child3 fun\")\n",
    "        return\n",
    "    def main():\n",
    "        p=Parent()\n",
    "        c1=Child1()\n",
    "        c2=Child2()\n",
    "        c3=Child3()\n",
    "        p.fun1()\n",
    "        c1.fun2()\n",
    "        c1.fun1()\n",
    "        c2.fun3()\n",
    "        c2.fun1()\n",
    "        c3.fun4()\n",
    "        c3.fun1()\n",
    "        return\n",
    "Child3.main()"
   ]
  },
  {
   "cell_type": "code",
   "execution_count": 15,
   "id": "3adba26a-4993-49bd-be35-14ce471f82bd",
   "metadata": {},
   "outputs": [
    {
     "name": "stdout",
     "output_type": "stream",
     "text": [
      "Parent1 fun\n",
      "Parent2 fun\n",
      "Parent1 fun\n",
      "Parent2 fun\n",
      "Child fun\n"
     ]
    }
   ],
   "source": [
    "#Multiple Inheritance example\n",
    "class Parent1:\n",
    "    def fun1(self):\n",
    "        print(\"Parent1 fun\")\n",
    "        return\n",
    "class Parent2:\n",
    "    def fun2(self):\n",
    "        print(\"Parent2 fun\")\n",
    "        return \n",
    "class Child(Parent1, Parent2):\n",
    "    def fun3(self):\n",
    "        print(\"Child fun\")\n",
    "        return \n",
    "    def main():\n",
    "        p1=Parent1()\n",
    "        p2=Parent2()\n",
    "        c=Child()\n",
    "        p1.fun1()\n",
    "        p2.fun2()\n",
    "        c.fun1()\n",
    "        c.fun2()\n",
    "        c.fun3()\n",
    "        return\n",
    "Child.main()"
   ]
  },
  {
   "cell_type": "code",
   "execution_count": 17,
   "id": "f9273117-3aa0-4508-85d4-959c3995197c",
   "metadata": {},
   "outputs": [
    {
     "name": "stdout",
     "output_type": "stream",
     "text": [
      "Method of class A\n",
      "Method of class A\n",
      "Method of class B\n",
      "Method of class A\n",
      "Method of class C\n",
      "Method of class A\n",
      "Method of class B\n",
      "Method of class C\n",
      "Method of class d\n"
     ]
    }
   ],
   "source": [
    "#Hybrid-Diamond Inheritance example\n",
    "class A:\n",
    "    def a(self):\n",
    "        print(\"Method of class A\")\n",
    "        return\n",
    "class B(A):\n",
    "    def b(self):\n",
    "        print(\"Method of class B\")\n",
    "        return\n",
    "class C(A):\n",
    "    def c(self):\n",
    "        print(\"Method of class C\")\n",
    "        return\n",
    "class D(B,C):\n",
    "    def d(self):\n",
    "        print(\"Method of class d\")\n",
    "        return\n",
    "    def main():\n",
    "        a1=A()\n",
    "        b1=B()\n",
    "        c1=C()\n",
    "        d1=D()\n",
    "        a1.a()\n",
    "        b1.a()\n",
    "        b1.b()\n",
    "        c1.a()\n",
    "        c1.c()\n",
    "        d1.a()\n",
    "        d1.b()\n",
    "        d1.c()\n",
    "        d1.d()\n",
    "        return\n",
    "D.main()"
   ]
  },
  {
   "cell_type": "code",
   "execution_count": null,
   "id": "06c0673c-2ea7-4f36-a4be-4de1817ae804",
   "metadata": {},
   "outputs": [],
   "source": []
  }
 ],
 "metadata": {
  "kernelspec": {
   "display_name": "Python 3 (ipykernel)",
   "language": "python",
   "name": "python3"
  },
  "language_info": {
   "codemirror_mode": {
    "name": "ipython",
    "version": 3
   },
   "file_extension": ".py",
   "mimetype": "text/x-python",
   "name": "python",
   "nbconvert_exporter": "python",
   "pygments_lexer": "ipython3",
   "version": "3.10.8"
  }
 },
 "nbformat": 4,
 "nbformat_minor": 5
}
