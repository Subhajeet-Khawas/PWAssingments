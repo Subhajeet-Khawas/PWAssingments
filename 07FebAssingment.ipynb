{
 "cells": [
  {
   "cell_type": "markdown",
   "id": "59435a30-39e0-4002-801d-1d0e6040647d",
   "metadata": {},
   "source": [
    "Q1. You are writing code for a company. The requirement of the company is that you create a python\n",
    "function that will check whether the password entered by the user is correct or not. The function should\n",
    "take the password as input and return the string “Valid Password” if the entered password follows the\n",
    "below-given password guidelines else it should return “Invalid Password”.\n",
    "Note: \n",
    "1. The Password should contain at least two uppercase letters and at least two lowercase letters.\n",
    "2. The Password should contain at least a number and three special characters.\n",
    "3. The length of the password should be 10 characters long."
   ]
  },
  {
   "cell_type": "code",
   "execution_count": 30,
   "id": "ace44a8c-b136-46ef-933e-0431daf62bab",
   "metadata": {},
   "outputs": [
    {
     "name": "stdin",
     "output_type": "stream",
     "text": [
      "Enter Password:  SUbh@*&88t\n"
     ]
    },
    {
     "name": "stdout",
     "output_type": "stream",
     "text": [
      "Valid Password\n"
     ]
    }
   ],
   "source": [
    "def passwordcheck(s):\n",
    "    l=[]\n",
    "    lower=0\n",
    "    upper=0\n",
    "    digit=0\n",
    "    specialchar=0\n",
    "    for e in s:\n",
    "        l.append(ord(e))\n",
    "    for e in l:\n",
    "        if e>=97 and e<=122:\n",
    "            lower=lower+1\n",
    "        elif e>=65 and e<=90:\n",
    "            upper=upper+1\n",
    "        elif e>=48 and e<=57:\n",
    "            digit=digit+1\n",
    "        elif ((e>=32 and e<=47) or (e>=58 and e<=64) or (e>=91 and e<=96) or (e>=123 and e<=126)):\n",
    "            specialchar=specialchar+1\n",
    "    if(upper>=2 and lower>=2 and digit>=1 and specialchar==3 and len(s)==10):\n",
    "        return \"Valid Password\"\n",
    "    else:\n",
    "        return \"Invalid Password\"\n",
    "s=input(\"Enter Password: \")\n",
    "result= passwordcheck(s)\n",
    "print(result)"
   ]
  },
  {
   "cell_type": "markdown",
   "id": "e3621551-2a15-4f8a-9696-2d8448045871",
   "metadata": {},
   "source": [
    "Q2. Solve the below-given questions using at least one of the following:\n",
    "1. Lambda function\n",
    "2. Filter function\n",
    "3. Map function\n",
    "4. List Comprehension\n",
    ". Check if the string starts with a particular letter\n",
    ". Check if the string is numeric\n",
    ". Sort a list of tuples having fruit names and their quantity. [(\"mango\",99),(\"orange\",80),(\"grapes\",1000)]\n",
    ". Find the squares of numbers from 1 to 10\n",
    ". Find the cube root of numbers from 1 to 10\n",
    ". Check if a given number is even\n",
    ". Filter odd numbers from the given list.\n",
    "[1,2,3,4,5,6,7,8,9,10]\n",
    ". Sort a list of integers into positive and negative integers lists.\n",
    "[1,2,3,4,5,6,-1,-2,-3,-4,-5,0]"
   ]
  },
  {
   "cell_type": "code",
   "execution_count": 7,
   "id": "65ef508e-43bd-4360-93a9-07ae41a0426c",
   "metadata": {},
   "outputs": [
    {
     "data": {
      "text/plain": [
       "'True'"
      ]
     },
     "execution_count": 7,
     "metadata": {},
     "output_type": "execute_result"
    }
   ],
   "source": [
    "res=lambda s: \"True\" if s[0]==\"a\" else \"False\"\n",
    "res(\"aabcd\")"
   ]
  },
  {
   "cell_type": "code",
   "execution_count": 18,
   "id": "005dc406-26d1-4b57-a934-7fa6665b2fac",
   "metadata": {},
   "outputs": [
    {
     "data": {
      "text/plain": [
       "'Numeric'"
      ]
     },
     "execution_count": 18,
     "metadata": {},
     "output_type": "execute_result"
    }
   ],
   "source": [
    "res=lambda s: \"Numeric\" if s.isdigit()==True else \"Not numeric\"\n",
    "res(\"1234\")\n"
   ]
  },
  {
   "cell_type": "code",
   "execution_count": 21,
   "id": "2e3f50a9-c921-4271-a066-081a57219f8a",
   "metadata": {},
   "outputs": [
    {
     "data": {
      "text/plain": [
       "[('orange', 80), ('mango', 99), ('grapes', 1000)]"
      ]
     },
     "execution_count": 21,
     "metadata": {},
     "output_type": "execute_result"
    }
   ],
   "source": [
    "l=[(\"mango\",99),(\"orange\",80),(\"grapes\",1000)]\n",
    "l.sort(key=lambda x: x[1])\n",
    "l"
   ]
  },
  {
   "cell_type": "code",
   "execution_count": 25,
   "id": "46d961ad-1537-44cf-a401-49cf943a6add",
   "metadata": {},
   "outputs": [
    {
     "data": {
      "text/plain": [
       "[1, 4, 9, 16, 25, 36, 49, 64, 81, 100]"
      ]
     },
     "execution_count": 25,
     "metadata": {},
     "output_type": "execute_result"
    }
   ],
   "source": [
    "l=[]\n",
    "for i in range(1,11):\n",
    "    l.append(i)\n",
    "res=list(map(lambda x:x**2,l))\n",
    "res"
   ]
  },
  {
   "cell_type": "code",
   "execution_count": 27,
   "id": "036a7c79-a9d8-4ed1-a28c-fdd9579fc1a6",
   "metadata": {},
   "outputs": [
    {
     "data": {
      "text/plain": [
       "[1.0,\n",
       " 1.2599210498948732,\n",
       " 1.4422495703074083,\n",
       " 1.5874010519681994,\n",
       " 1.7099759466766968,\n",
       " 1.8171205928321397,\n",
       " 1.912931182772389,\n",
       " 2.0,\n",
       " 2.080083823051904,\n",
       " 2.154434690031884]"
      ]
     },
     "execution_count": 27,
     "metadata": {},
     "output_type": "execute_result"
    }
   ],
   "source": [
    "l=[]\n",
    "for i in range(1,11):\n",
    "    l.append(i)\n",
    "res= list(map(lambda x:x**(1/3),l))\n",
    "res"
   ]
  },
  {
   "cell_type": "code",
   "execution_count": 28,
   "id": "0351f0f1-9d63-4c37-97a3-d83f6612a483",
   "metadata": {},
   "outputs": [
    {
     "data": {
      "text/plain": [
       "'Even'"
      ]
     },
     "execution_count": 28,
     "metadata": {},
     "output_type": "execute_result"
    }
   ],
   "source": [
    "res=lambda x:\"Even\" if x%2==0 else \"Odd\"\n",
    "res(24)"
   ]
  },
  {
   "cell_type": "code",
   "execution_count": 31,
   "id": "b31c4b51-9d0c-4fec-970a-2001920a7bf9",
   "metadata": {},
   "outputs": [
    {
     "data": {
      "text/plain": [
       "[1, 3, 5, 7, 9]"
      ]
     },
     "execution_count": 31,
     "metadata": {},
     "output_type": "execute_result"
    }
   ],
   "source": [
    "l=[1,2,3,4,5,6,7,8,9,10]\n",
    "res=list(filter(lambda x:x%2!=0,l))\n",
    "res"
   ]
  },
  {
   "cell_type": "code",
   "execution_count": 34,
   "id": "62763356-9604-45a5-b674-3c00b53fc334",
   "metadata": {},
   "outputs": [
    {
     "data": {
      "text/plain": [
       "[-5, -4, -3, -2, -1, 0, 1, 2, 3, 4, 5, 6]"
      ]
     },
     "execution_count": 34,
     "metadata": {},
     "output_type": "execute_result"
    }
   ],
   "source": [
    "l=[1,2,3,4,5,6,-1,-2,-3,-4,-5,0]\n",
    "res=sorted(list(filter(lambda x:x<0,l)))+sorted(list(filter(lambda x:x>=0,l)))\n",
    "res"
   ]
  }
 ],
 "metadata": {
  "kernelspec": {
   "display_name": "Python 3 (ipykernel)",
   "language": "python",
   "name": "python3"
  },
  "language_info": {
   "codemirror_mode": {
    "name": "ipython",
    "version": 3
   },
   "file_extension": ".py",
   "mimetype": "text/x-python",
   "name": "python",
   "nbconvert_exporter": "python",
   "pygments_lexer": "ipython3",
   "version": "3.10.8"
  }
 },
 "nbformat": 4,
 "nbformat_minor": 5
}
