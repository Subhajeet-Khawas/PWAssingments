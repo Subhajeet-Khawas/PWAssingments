{
 "cells": [
  {
   "cell_type": "markdown",
   "id": "84da30a4-2df6-44e0-a52e-4b6103a34725",
   "metadata": {},
   "source": [
    "Q1. What is the mathematical formula for a linear SVM?"
   ]
  },
  {
   "cell_type": "markdown",
   "id": "274fbb8d-85cb-4da6-824a-e1194334575f",
   "metadata": {},
   "source": [
    "A linear Support Vector Machine (SVM) aims to find a hyperplane that best separates the data into different classes. The decision function of a linear SVM can be expressed as:\n",
    "\n",
    "\\[ f(x) = \\text{sign}(\\mathbf{w} \\cdot \\mathbf{x} + b) \\]\n",
    "\n",
    "Here:\n",
    "- \\( f(x) \\) is the decision function.\n",
    "- \\( \\mathbf{w} \\) is the weight vector perpendicular to the hyperplane.\n",
    "- \\( \\mathbf{x} \\) is the input feature vector.\n",
    "- \\( b \\) is the bias term.\n",
    "\n",
    "The decision function computes the dot product of the weight vector and the input feature vector, and then the sign function is applied. The sign of the result determines the predicted class: positive or negative. If \\( f(x) \\) is positive, the sample is classified as one class; if negative, it's classified as the other class.\n",
    "\n",
    "In vectorized form, where \\( \\mathbf{X} \\) is a matrix of feature vectors (each row corresponds to a feature vector) and \\( \\mathbf{b} \\) is a column vector of bias terms, the decision function for multiple samples can be expressed as:\n",
    "\n",
    "\\[ \\mathbf{f}(\\mathbf{X}) = \\text{sign}(\\mathbf{X} \\cdot \\mathbf{w} + \\mathbf{b}) \\]\n",
    "\n",
    "Training a linear SVM involves finding the optimal \\( \\mathbf{w} \\) and \\( b \\) that maximize the margin between the two classes while satisfying certain constraints. This optimization problem is typically solved using techniques such as quadratic programming. The resulting weight vector \\( \\mathbf{w} \\) defines the orientation of the hyperplane, and \\( b \\) adjusts its position.\n",
    "\n",
    "The decision boundary (hyperplane) is given by:\n",
    "\n",
    "\\[ \\mathbf{w} \\cdot \\mathbf{x} + b = 0 \\]\n",
    "\n",
    "This equation represents a linear decision boundary that separates the data into different classes in the feature space. The support vectors lie on the boundaries of the margin, and the distance between the positive and negative hyperplanes is maximized."
   ]
  },
  {
   "cell_type": "markdown",
   "id": "d5ab35dc-c969-47cd-809e-cea791b3cdb8",
   "metadata": {},
   "source": [
    "Q2. What is the objective function of a linear SVM?"
   ]
  },
  {
   "cell_type": "markdown",
   "id": "bf89a040-7a3e-41b5-bbb3-b599fd696ef9",
   "metadata": {},
   "source": [
    "The objective function of a linear Support Vector Machine (SVM) is formulated to find the hyperplane that maximizes the margin between different classes while correctly classifying the training data. The objective involves minimizing the norm of the weight vector (\\(\\|\\mathbf{w}\\|\\)) subject to the constraint that each sample is correctly classified within a certain margin.\n",
    "\n",
    "The primal form of the objective function for a linear SVM can be expressed as follows:\n",
    "\n",
    "\\[ \\min_{\\mathbf{w}, b} \\frac{1}{2} \\|\\mathbf{w}\\|^2 + C \\sum_{i=1}^{N} \\xi_i \\]\n",
    "\n",
    "subject to the constraints:\n",
    "\n",
    "\\[ y_i(\\mathbf{w} \\cdot \\mathbf{x}_i + b) \\geq 1 - \\xi_i, \\quad \\text{for } i = 1, 2, \\ldots, N \\]\n",
    "\n",
    "where:\n",
    "- \\( \\mathbf{w} \\) is the weight vector.\n",
    "- \\( b \\) is the bias term.\n",
    "- \\( \\|\\mathbf{w}\\| \\) is the Euclidean norm of the weight vector.\n",
    "- \\( C \\) is a regularization parameter that controls the trade-off between achieving a low training error and a large margin. It is a hyperparameter set by the user.\n",
    "- \\( \\xi_i \\) are slack variables that allow for the possibility of misclassifications. They measure the degree of misclassification for each sample.\n",
    "- \\( (\\mathbf{x}_i, y_i) \\) are the training samples and their corresponding labels.\n",
    "\n",
    "The goal is to minimize \\( \\frac{1}{2} \\|\\mathbf{w}\\|^2 \\), representing the square of the Euclidean norm of the weight vector, which is equivalent to maximizing the margin. The second term \\( C \\sum_{i=1}^{N} \\xi_i \\) penalizes misclassifications, and the constraints \\( y_i(\\mathbf{w} \\cdot \\mathbf{x}_i + b) \\geq 1 - \\xi_i \\) ensure that each sample is correctly classified within a margin of at least 1.\n",
    "\n",
    "In practice, the optimization problem is often solved in its dual form using techniques such as quadratic programming. The dual form involves expressing the problem in terms of Lagrange multipliers, and the support vectors play a crucial role in the solution. The resulting hyperplane is determined by a subset of training samples, the support vectors, which lie on the boundaries of the margin."
   ]
  },
  {
   "cell_type": "markdown",
   "id": "18457cf9-a8ee-42bf-9a7c-37776090f78e",
   "metadata": {},
   "source": [
    "Q3. What is the kernel trick in SVM?"
   ]
  },
  {
   "cell_type": "markdown",
   "id": "4ae81375-ac75-49f1-a4c2-2370293c37d7",
   "metadata": {},
   "source": [
    "The kernel trick is a powerful concept in Support Vector Machines (SVMs) that allows SVMs to handle non-linearly separable data by implicitly mapping the input features into a higher-dimensional space without explicitly computing the transformation. The idea is to use a kernel function to measure the similarity (dot product) between pairs of data points in this higher-dimensional space.\n",
    "\n",
    "The standard linear SVM uses a linear kernel, which corresponds to a linear decision boundary in the original feature space. However, by using non-linear kernel functions, SVMs can implicitly operate in a high-dimensional space, enabling them to capture complex relationships in the data.\n",
    "\n",
    "The general form of the SVM decision function with a kernel is:\n",
    "\n",
    "\\[ f(\\mathbf{x}) = \\text{sign}\\left(\\sum_{i=1}^{N} \\alpha_i y_i K(\\mathbf{x}_i, \\mathbf{x}) + b\\right) \\]\n",
    "\n",
    "Here:\n",
    "- \\( f(\\mathbf{x}) \\) is the decision function.\n",
    "- \\( \\mathbf{x} \\) is the input feature vector.\n",
    "- \\( \\alpha_i \\) are the Lagrange multipliers.\n",
    "- \\( y_i \\) are the class labels.\n",
    "- \\( \\mathbf{x}_i \\) are the support vectors.\n",
    "- \\( K(\\mathbf{x}_i, \\mathbf{x}) \\) is the kernel function.\n",
    "\n",
    "The kernel function \\( K(\\mathbf{x}_i, \\mathbf{x}) \\) computes the dot product between the transformed feature vectors \\(\\phi(\\mathbf{x}_i)\\) and \\(\\phi(\\mathbf{x})\\) in the higher-dimensional space without explicitly calculating the transformation. The decision boundary in this space can be non-linear, allowing SVMs to handle more complex patterns in the data.\n",
    "\n",
    "Commonly used kernel functions include:\n",
    "1. **Linear Kernel (No Kernel Trick):** \\( K(\\mathbf{x}_i, \\mathbf{x}) = \\mathbf{x}_i \\cdot \\mathbf{x} \\)\n",
    "2. **Polynomial Kernel:** \\( K(\\mathbf{x}_i, \\mathbf{x}) = (\\mathbf{x}_i \\cdot \\mathbf{x} + c)^d \\)\n",
    "3. **Radial Basis Function (RBF) or Gaussian Kernel:** \\( K(\\mathbf{x}_i, \\mathbf{x}) = \\exp\\left(-\\frac{\\|\\mathbf{x}_i - \\mathbf{x}\\|^2}{2\\sigma^2}\\right) \\)\n",
    "4. **Sigmoid Kernel:** \\( K(\\mathbf{x}_i, \\mathbf{x}) = \\tanh(\\alpha \\mathbf{x}_i \\cdot \\mathbf{x} + c) \\)\n",
    "\n",
    "The choice of the kernel depends on the characteristics of the data, and different kernels may be more suitable for different types of patterns. The kernel trick is instrumental in extending SVMs to handle non-linearly separable datasets efficiently."
   ]
  },
  {
   "cell_type": "markdown",
   "id": "b43b9ead-859e-41e2-a2e7-08721577940e",
   "metadata": {},
   "source": [
    "Q4. What is the role of support vectors in SVM Explain with example"
   ]
  },
  {
   "cell_type": "markdown",
   "id": "d9d37e82-afd4-4c74-b19b-48531bbd2b0d",
   "metadata": {},
   "source": [
    "Support vectors are the key elements in a Support Vector Machine (SVM) algorithm. They are the data points that lie closest to the decision boundary (hyperplane) and influence the placement and orientation of the hyperplane. Support vectors play a crucial role in defining the margin and, therefore, the overall performance of the SVM.\n",
    "\n",
    "Here's the role of support vectors in SVM:\n",
    "\n",
    "1. **Defining the Decision Boundary:**\n",
    "   - The decision boundary is determined by the support vectors. These are the instances that are the most challenging to classify correctly or are on or near the margin.\n",
    "   - The hyperplane is positioned to maximize the margin between classes while ensuring that the support vectors are correctly classified.\n",
    "\n",
    "2. **Determining the Margin:**\n",
    "   - The margin is the distance between the hyperplane and the nearest data point from either class. Support vectors are the data points that define this distance.\n",
    "   - The larger the margin, the more robust the model is to variations in the data. Support vectors are the critical points that ensure a maximal margin.\n",
    "\n",
    "3. **Incorporating Non-Linearity:**\n",
    "   - In the context of the kernel trick, support vectors play a crucial role in implicitly mapping the data into a higher-dimensional space.\n",
    "   - The decision function depends on the dot product between the transformed feature vectors of support vectors and test instances.\n",
    "\n",
    "4. **Support Vector Weighting:**\n",
    "   - Support vectors are assigned non-zero Lagrange multipliers (\\(\\alpha_i\\)) during the training process. These coefficients determine the importance or \"weight\" of each support vector in the decision function.\n",
    "   - Only the support vectors contribute to the decision function, making SVM memory-efficient.\n",
    "\n",
    "5. **Handling Outliers and Ambiguous Points:**\n",
    "   - Support vectors are typically instances that are either on or close to the decision boundary or are misclassified.\n",
    "   - They are crucial for ensuring that the model generalizes well to new data, especially in situations where the classes are not perfectly separable.\n",
    "\n",
    "### Example:\n",
    "\n",
    "Consider a 2D binary classification problem with two classes (positive and negative) and a linear decision boundary. The support vectors are the instances closest to the decision boundary. In the following example, \"x\" denotes support vectors:\n",
    "\n",
    "```\n",
    "    +  +  +  +\n",
    "        x x\n",
    "    +  +  +  +\n",
    "            x x\n",
    "    -  -  -  -  -\n",
    "```\n",
    "\n",
    "In this example:\n",
    "- The instances marked with \"x\" are the support vectors.\n",
    "- The decision boundary is positioned to maximize the margin between the classes.\n",
    "- The support vectors define the position of the hyperplane, and their removal would alter the decision boundary and margin.\n",
    "\n",
    "Support vectors are essential for the SVM to generalize well to new, unseen data and to maintain the maximum margin between classes. They contribute significantly to the overall performance and robustness of the SVM model."
   ]
  },
  {
   "cell_type": "markdown",
   "id": "a77bc653-67b3-4bf9-8067-42ff8e79baf2",
   "metadata": {},
   "source": [
    "Q5. Illustrate with examples and graphs of Hyperplane, Marginal plane, Soft margin and Hard margin in\n",
    "SVM?"
   ]
  },
  {
   "cell_type": "code",
   "execution_count": 1,
   "id": "22a20346-1195-44b1-9427-3fbb32e33dfc",
   "metadata": {},
   "outputs": [
    {
     "data": {
      "image/png": "[encoded data removed]",
      "text/plain": [
       "<Figure size 640x480 with 1 Axes>"
      ]
     },
     "metadata": {},
     "output_type": "display_data"
    }
   ],
   "source": [
    "import numpy as np\n",
    "import matplotlib.pyplot as plt\n",
    "from sklearn import svm\n",
    "\n",
    "# Sample data\n",
    "X = np.array([[1, 2], [2, 3], [2, 5], [4, 5], [5, 5], [6, 5], [4, 2], [3, 2], [6, 3]])\n",
    "y = np.array([1, 1, 1, 1, 1, 1, -1, -1, -1])\n",
    "\n",
    "# Fit SVM with a linear kernel\n",
    "clf = svm.SVC(kernel='linear', C=10)\n",
    "clf.fit(X, y)\n",
    "\n",
    "# Plotting the data points\n",
    "plt.scatter(X[:, 0], X[:, 1], c=y, cmap=plt.cm.Paired, marker='o', s=100)\n",
    "\n",
    "# Plotting the hyperplane and marginal planes\n",
    "ax = plt.gca()\n",
    "xlim = ax.get_xlim()\n",
    "ylim = ax.get_ylim()\n",
    "\n",
    "# Create grid to evaluate model\n",
    "xx, yy = np.meshgrid(np.linspace(xlim[0], xlim[1], 50), np.linspace(ylim[0], ylim[1], 50))\n",
    "Z = clf.decision_function(np.c_[xx.ravel(), yy.ravel()])\n",
    "\n",
    "# Plot decision boundary and margins\n",
    "Z = Z.reshape(xx.shape)\n",
    "plt.contour(xx, yy, Z, colors='k', levels=[-1, 0, 1], alpha=0.5, linestyles=['--', '-', '--'])\n",
    "\n",
    "# Plot support vectors\n",
    "plt.scatter(clf.support_vectors_[:, 0], clf.support_vectors_[:, 1], s=200, facecolors='none', edgecolors='k')\n",
    "plt.title('Hyperplane and Marginal Planes')\n",
    "plt.show()\n"
   ]
  },
  {
   "cell_type": "markdown",
   "id": "40819b27-45fe-4544-a32f-04499fb06b92",
   "metadata": {},
   "source": [
    "In this example:\n",
    "\n",
    "The hyperplane (solid line) separates the two classes.\n",
    "The dashed lines represent the marginal planes parallel to the hyperplane.\n",
    "Support vectors are denoted by larger circles."
   ]
  },
  {
   "cell_type": "code",
   "execution_count": 2,
   "id": "267cbe3d-f0a7-4a5f-bf40-f5684411e5ec",
   "metadata": {},
   "outputs": [
    {
     "data": {
      "image/png": "[encoded data removed]",
      "text/plain": [
       "<Figure size 640x480 with 1 Axes>"
      ]
     },
     "metadata": {},
     "output_type": "display_data"
    }
   ],
   "source": [
    "# Sample data for non-separable classes\n",
    "X_soft = np.array([[1, 2], [2, 3], [2, 5], [4, 5], [5, 5], [6, 5], [4, 2], [3, 2], [6, 3], [5, 3]])\n",
    "y_soft = np.array([1, 1, 1, 1, 1, 1, -1, -1, -1, -1])\n",
    "\n",
    "# Fit SVM with a linear kernel and a soft margin\n",
    "clf_soft = svm.SVC(kernel='linear', C=0.1)\n",
    "clf_soft.fit(X_soft, y_soft)\n",
    "\n",
    "# Plotting the data points\n",
    "plt.scatter(X_soft[:, 0], X_soft[:, 1], c=y_soft, cmap=plt.cm.Paired, marker='o', s=100)\n",
    "\n",
    "# Plotting the hyperplane and marginal planes with a soft margin\n",
    "ax = plt.gca()\n",
    "xlim = ax.get_xlim()\n",
    "ylim = ax.get_ylim()\n",
    "\n",
    "# Create grid to evaluate model\n",
    "xx, yy = np.meshgrid(np.linspace(xlim[0], xlim[1], 50), np.linspace(ylim[0], ylim[1], 50))\n",
    "Z_soft = clf_soft.decision_function(np.c_[xx.ravel(), yy.ravel()])\n",
    "\n",
    "# Plot decision boundary and margins\n",
    "Z_soft = Z_soft.reshape(xx.shape)\n",
    "plt.contour(xx, yy, Z_soft, colors='k', levels=[-1, 0, 1], alpha=0.5, linestyles=['--', '-', '--'])\n",
    "\n",
    "# Plot support vectors\n",
    "plt.scatter(clf_soft.support_vectors_[:, 0], clf_soft.support_vectors_[:, 1], s=200, facecolors='none', edgecolors='k')\n",
    "plt.title('Soft Margin SVM')\n",
    "plt.show()\n"
   ]
  },
  {
   "cell_type": "markdown",
   "id": "9d48e763-88f1-4138-a78d-32fc86e630dc",
   "metadata": {},
   "source": [
    "In this example:\n",
    "\n",
    "The soft margin SVM allows for some misclassifications (points within the margin or on the wrong side of the hyperplane).\n",
    "The hyperplane is adjusted to accommodate these misclassifications.\n",
    "The C parameter in the SVC constructor controls the trade-off between having a smooth decision boundary and classifying training points correctly. A smaller C allows for a wider margin and more misclassifications (soft margin), while a larger C enforces a stricter margin (hard margin).\n",
    "\n",
    "These examples illustrate the concepts of hyperplane, marginal planes, soft margin, and hard margin in SVM using both separable and non-separable datasets."
   ]
  },
  {
   "cell_type": "markdown",
   "id": "2eb68d3b-d1fa-4187-b600-1af012234701",
   "metadata": {},
   "source": [
    "Q6. SVM Implementation through Iris dataset.\n",
    "\n",
    "~ Load the iris dataset from the scikit-learn library and split it into a training set and a testing set\n",
    "\n",
    "~ Train a linear SVM classifier on the training set and predict the labels for the testing set\n",
    "\n",
    "~ Compute the accuracy of the model on the testing set\n",
    "\n",
    "~ Plot the decision boundaries of the trained model using two of the features\n",
    "\n",
    "~ Try different values of the regularisation parameter C and see how it affects the performance of\n",
    "the model."
   ]
  },
  {
   "cell_type": "code",
   "execution_count": 38,
   "id": "4e7c541a-a9eb-4762-a159-37f9b353b638",
   "metadata": {},
   "outputs": [],
   "source": [
    "import pandas as pd\n",
    "import numpy as np\n",
    "import seaborn as sns\n",
    "import matplotlib.pyplot as plt\n",
    "%matplotlib inline\n",
    "import warnings\n",
    "warnings.filterwarnings(\"ignore\")"
   ]
  },
  {
   "cell_type": "markdown",
   "id": "bc70011e-c9e8-4445-8936-09ef12189f49",
   "metadata": {},
   "source": [
    "## Importing the dataset"
   ]
  },
  {
   "cell_type": "code",
   "execution_count": 4,
   "id": "ab4141f9-703f-43db-8c25-415c2affad79",
   "metadata": {},
   "outputs": [],
   "source": [
    "df=sns.load_dataset(\"iris\")"
   ]
  },
  {
   "cell_type": "code",
   "execution_count": 5,
   "id": "30328924-f9a6-49f8-aa3f-eda814c40103",
   "metadata": {},
   "outputs": [
    {
     "data": {
      "text/html": [
       "<div>\n",
       "<style scoped>\n",
       "    .dataframe tbody tr th:only-of-type {\n",
       "        vertical-align: middle;\n",
       "    }\n",
       "\n",
       "    .dataframe tbody tr th {\n",
       "        vertical-align: top;\n",
       "    }\n",
       "\n",
       "    .dataframe thead th {\n",
       "        text-align: right;\n",
       "    }\n",
       "</style>\n",
       "<table border=\"1\" class=\"dataframe\">\n",
       "  <thead>\n",
       "    <tr style=\"text-align: right;\">\n",
       "      <th></th>\n",
       "      <th>sepal_length</th>\n",
       "      <th>sepal_width</th>\n",
       "      <th>petal_length</th>\n",
       "      <th>petal_width</th>\n",
       "      <th>species</th>\n",
       "    </tr>\n",
       "  </thead>\n",
       "  <tbody>\n",
       "    <tr>\n",
       "      <th>0</th>\n",
       "      <td>5.1</td>\n",
       "      <td>3.5</td>\n",
       "      <td>1.4</td>\n",
       "      <td>0.2</td>\n",
       "      <td>setosa</td>\n",
       "    </tr>\n",
       "    <tr>\n",
       "      <th>1</th>\n",
       "      <td>4.9</td>\n",
       "      <td>3.0</td>\n",
       "      <td>1.4</td>\n",
       "      <td>0.2</td>\n",
       "      <td>setosa</td>\n",
       "    </tr>\n",
       "    <tr>\n",
       "      <th>2</th>\n",
       "      <td>4.7</td>\n",
       "      <td>3.2</td>\n",
       "      <td>1.3</td>\n",
       "      <td>0.2</td>\n",
       "      <td>setosa</td>\n",
       "    </tr>\n",
       "    <tr>\n",
       "      <th>3</th>\n",
       "      <td>4.6</td>\n",
       "      <td>3.1</td>\n",
       "      <td>1.5</td>\n",
       "      <td>0.2</td>\n",
       "      <td>setosa</td>\n",
       "    </tr>\n",
       "    <tr>\n",
       "      <th>4</th>\n",
       "      <td>5.0</td>\n",
       "      <td>3.6</td>\n",
       "      <td>1.4</td>\n",
       "      <td>0.2</td>\n",
       "      <td>setosa</td>\n",
       "    </tr>\n",
       "  </tbody>\n",
       "</table>\n",
       "</div>"
      ],
      "text/plain": [
       "   sepal_length  sepal_width  petal_length  petal_width species\n",
       "0           5.1          3.5           1.4          0.2  setosa\n",
       "1           4.9          3.0           1.4          0.2  setosa\n",
       "2           4.7          3.2           1.3          0.2  setosa\n",
       "3           4.6          3.1           1.5          0.2  setosa\n",
       "4           5.0          3.6           1.4          0.2  setosa"
      ]
     },
     "execution_count": 5,
     "metadata": {},
     "output_type": "execute_result"
    }
   ],
   "source": [
    "df.head()"
   ]
  },
  {
   "cell_type": "markdown",
   "id": "0047de67-1ff3-4e2e-9ab0-d5a926cf36d0",
   "metadata": {},
   "source": [
    "## Preprocessing"
   ]
  },
  {
   "cell_type": "code",
   "execution_count": 6,
   "id": "5f2f19ac-760f-42a2-915b-956e69cfa474",
   "metadata": {},
   "outputs": [
    {
     "data": {
      "text/plain": [
       "setosa        50\n",
       "versicolor    50\n",
       "virginica     50\n",
       "Name: species, dtype: int64"
      ]
     },
     "execution_count": 6,
     "metadata": {},
     "output_type": "execute_result"
    }
   ],
   "source": [
    "df[\"species\"].value_counts()"
   ]
  },
  {
   "cell_type": "code",
   "execution_count": 7,
   "id": "7e2d6ece-4a96-484c-adec-edb8b26b226d",
   "metadata": {},
   "outputs": [],
   "source": [
    "from sklearn.preprocessing import LabelEncoder"
   ]
  },
  {
   "cell_type": "code",
   "execution_count": 8,
   "id": "9a635767-4446-4567-a007-4f63f4a90404",
   "metadata": {},
   "outputs": [],
   "source": [
    "enc=LabelEncoder()"
   ]
  },
  {
   "cell_type": "code",
   "execution_count": 25,
   "id": "65732429-e178-4531-98fd-25702ea45ccd",
   "metadata": {},
   "outputs": [],
   "source": [
    "encoded=enc.fit_transform(df[\"species\"])"
   ]
  },
  {
   "cell_type": "code",
   "execution_count": 31,
   "id": "4304ad5e-c608-488f-bb00-1d7a91038d2d",
   "metadata": {},
   "outputs": [
    {
     "data": {
      "text/plain": [
       "0      0\n",
       "1      0\n",
       "2      0\n",
       "3      0\n",
       "4      0\n",
       "      ..\n",
       "145    2\n",
       "146    2\n",
       "147    2\n",
       "148    2\n",
       "149    2\n",
       "Length: 150, dtype: int64"
      ]
     },
     "execution_count": 31,
     "metadata": {},
     "output_type": "execute_result"
    }
   ],
   "source": [
    "pd.Series(encoded)"
   ]
  },
  {
   "cell_type": "code",
   "execution_count": 29,
   "id": "dcba3484-a4d7-46f2-864a-5cb99e78616f",
   "metadata": {},
   "outputs": [],
   "source": [
    "df[\"Species\"]=pd.Series(encoded)"
   ]
  },
  {
   "cell_type": "code",
   "execution_count": 30,
   "id": "c89f9266-6b64-45c1-b52c-660d9b849a15",
   "metadata": {},
   "outputs": [
    {
     "data": {
      "text/html": [
       "<div>\n",
       "<style scoped>\n",
       "    .dataframe tbody tr th:only-of-type {\n",
       "        vertical-align: middle;\n",
       "    }\n",
       "\n",
       "    .dataframe tbody tr th {\n",
       "        vertical-align: top;\n",
       "    }\n",
       "\n",
       "    .dataframe thead th {\n",
       "        text-align: right;\n",
       "    }\n",
       "</style>\n",
       "<table border=\"1\" class=\"dataframe\">\n",
       "  <thead>\n",
       "    <tr style=\"text-align: right;\">\n",
       "      <th></th>\n",
       "      <th>sepal_length</th>\n",
       "      <th>sepal_width</th>\n",
       "      <th>petal_length</th>\n",
       "      <th>petal_width</th>\n",
       "      <th>species</th>\n",
       "      <th>Species</th>\n",
       "    </tr>\n",
       "  </thead>\n",
       "  <tbody>\n",
       "    <tr>\n",
       "      <th>0</th>\n",
       "      <td>5.1</td>\n",
       "      <td>3.5</td>\n",
       "      <td>1.4</td>\n",
       "      <td>0.2</td>\n",
       "      <td>setosa</td>\n",
       "      <td>0</td>\n",
       "    </tr>\n",
       "    <tr>\n",
       "      <th>1</th>\n",
       "      <td>4.9</td>\n",
       "      <td>3.0</td>\n",
       "      <td>1.4</td>\n",
       "      <td>0.2</td>\n",
       "      <td>setosa</td>\n",
       "      <td>0</td>\n",
       "    </tr>\n",
       "  </tbody>\n",
       "</table>\n",
       "</div>"
      ],
      "text/plain": [
       "   sepal_length  sepal_width  petal_length  petal_width species  Species\n",
       "0           5.1          3.5           1.4          0.2  setosa        0\n",
       "1           4.9          3.0           1.4          0.2  setosa        0"
      ]
     },
     "execution_count": 30,
     "metadata": {},
     "output_type": "execute_result"
    }
   ],
   "source": [
    "df.head(2)"
   ]
  },
  {
   "cell_type": "code",
   "execution_count": 33,
   "id": "5a7b5f01-1dcb-4d3a-84f2-6952ff69a0b4",
   "metadata": {},
   "outputs": [],
   "source": [
    "df=df[(df[\"Species\"]==0) | (df[\"Species\"]==1)]"
   ]
  },
  {
   "cell_type": "code",
   "execution_count": 34,
   "id": "83ddc241-9a96-4241-9b89-45835784f495",
   "metadata": {},
   "outputs": [
    {
     "data": {
      "text/plain": [
       "0    50\n",
       "1    50\n",
       "Name: Species, dtype: int64"
      ]
     },
     "execution_count": 34,
     "metadata": {},
     "output_type": "execute_result"
    }
   ],
   "source": [
    "df[\"Species\"].value_counts()"
   ]
  },
  {
   "cell_type": "code",
   "execution_count": 35,
   "id": "50ee98c0-ce08-41fc-b7e2-6890256b1dc7",
   "metadata": {},
   "outputs": [
    {
     "data": {
      "text/plain": [
       "setosa        50\n",
       "versicolor    50\n",
       "Name: species, dtype: int64"
      ]
     },
     "execution_count": 35,
     "metadata": {},
     "output_type": "execute_result"
    }
   ],
   "source": [
    "df[\"species\"].value_counts()"
   ]
  },
  {
   "cell_type": "code",
   "execution_count": 36,
   "id": "293ea96b-e41e-4136-9efe-81e6b0f6e718",
   "metadata": {},
   "outputs": [
    {
     "name": "stderr",
     "output_type": "stream",
     "text": [
      "/tmp/ipykernel_839/764632402.py:1: SettingWithCopyWarning: \n",
      "A value is trying to be set on a copy of a slice from a DataFrame\n",
      "\n",
      "See the caveats in the documentation: https://pandas.pydata.org/pandas-docs/stable/user_guide/indexing.html#returning-a-view-versus-a-copy\n",
      "  df.drop(columns=[\"species\"],inplace=True)\n"
     ]
    }
   ],
   "source": [
    "df.drop(columns=[\"species\"],inplace=True)"
   ]
  },
  {
   "cell_type": "code",
   "execution_count": 37,
   "id": "590906b5-3133-4cb2-9fdb-2acc919ede87",
   "metadata": {},
   "outputs": [
    {
     "data": {
      "text/plain": [
       "Index(['sepal_length', 'sepal_width', 'petal_length', 'petal_width',\n",
       "       'Species'],\n",
       "      dtype='object')"
      ]
     },
     "execution_count": 37,
     "metadata": {},
     "output_type": "execute_result"
    }
   ],
   "source": [
    "df.columns"
   ]
  },
  {
   "cell_type": "markdown",
   "id": "84c1c4d5-b9af-405a-8544-04a4964fe27c",
   "metadata": {},
   "source": [
    "## Splitting into Independant and Depedant features"
   ]
  },
  {
   "cell_type": "code",
   "execution_count": 39,
   "id": "455b0053-f4f8-4d43-9de6-19d22de5948b",
   "metadata": {},
   "outputs": [],
   "source": [
    "X=df[['sepal_length', 'sepal_width', 'petal_length', 'petal_width']]"
   ]
  },
  {
   "cell_type": "code",
   "execution_count": 40,
   "id": "bda84a88-b3af-455e-a1ca-4b6a588e9783",
   "metadata": {},
   "outputs": [
    {
     "data": {
      "text/html": [
       "<div>\n",
       "<style scoped>\n",
       "    .dataframe tbody tr th:only-of-type {\n",
       "        vertical-align: middle;\n",
       "    }\n",
       "\n",
       "    .dataframe tbody tr th {\n",
       "        vertical-align: top;\n",
       "    }\n",
       "\n",
       "    .dataframe thead th {\n",
       "        text-align: right;\n",
       "    }\n",
       "</style>\n",
       "<table border=\"1\" class=\"dataframe\">\n",
       "  <thead>\n",
       "    <tr style=\"text-align: right;\">\n",
       "      <th></th>\n",
       "      <th>sepal_length</th>\n",
       "      <th>sepal_width</th>\n",
       "      <th>petal_length</th>\n",
       "      <th>petal_width</th>\n",
       "    </tr>\n",
       "  </thead>\n",
       "  <tbody>\n",
       "    <tr>\n",
       "      <th>0</th>\n",
       "      <td>5.1</td>\n",
       "      <td>3.5</td>\n",
       "      <td>1.4</td>\n",
       "      <td>0.2</td>\n",
       "    </tr>\n",
       "    <tr>\n",
       "      <th>1</th>\n",
       "      <td>4.9</td>\n",
       "      <td>3.0</td>\n",
       "      <td>1.4</td>\n",
       "      <td>0.2</td>\n",
       "    </tr>\n",
       "    <tr>\n",
       "      <th>2</th>\n",
       "      <td>4.7</td>\n",
       "      <td>3.2</td>\n",
       "      <td>1.3</td>\n",
       "      <td>0.2</td>\n",
       "    </tr>\n",
       "    <tr>\n",
       "      <th>3</th>\n",
       "      <td>4.6</td>\n",
       "      <td>3.1</td>\n",
       "      <td>1.5</td>\n",
       "      <td>0.2</td>\n",
       "    </tr>\n",
       "    <tr>\n",
       "      <th>4</th>\n",
       "      <td>5.0</td>\n",
       "      <td>3.6</td>\n",
       "      <td>1.4</td>\n",
       "      <td>0.2</td>\n",
       "    </tr>\n",
       "    <tr>\n",
       "      <th>...</th>\n",
       "      <td>...</td>\n",
       "      <td>...</td>\n",
       "      <td>...</td>\n",
       "      <td>...</td>\n",
       "    </tr>\n",
       "    <tr>\n",
       "      <th>95</th>\n",
       "      <td>5.7</td>\n",
       "      <td>3.0</td>\n",
       "      <td>4.2</td>\n",
       "      <td>1.2</td>\n",
       "    </tr>\n",
       "    <tr>\n",
       "      <th>96</th>\n",
       "      <td>5.7</td>\n",
       "      <td>2.9</td>\n",
       "      <td>4.2</td>\n",
       "      <td>1.3</td>\n",
       "    </tr>\n",
       "    <tr>\n",
       "      <th>97</th>\n",
       "      <td>6.2</td>\n",
       "      <td>2.9</td>\n",
       "      <td>4.3</td>\n",
       "      <td>1.3</td>\n",
       "    </tr>\n",
       "    <tr>\n",
       "      <th>98</th>\n",
       "      <td>5.1</td>\n",
       "      <td>2.5</td>\n",
       "      <td>3.0</td>\n",
       "      <td>1.1</td>\n",
       "    </tr>\n",
       "    <tr>\n",
       "      <th>99</th>\n",
       "      <td>5.7</td>\n",
       "      <td>2.8</td>\n",
       "      <td>4.1</td>\n",
       "      <td>1.3</td>\n",
       "    </tr>\n",
       "  </tbody>\n",
       "</table>\n",
       "<p>100 rows × 4 columns</p>\n",
       "</div>"
      ],
      "text/plain": [
       "    sepal_length  sepal_width  petal_length  petal_width\n",
       "0            5.1          3.5           1.4          0.2\n",
       "1            4.9          3.0           1.4          0.2\n",
       "2            4.7          3.2           1.3          0.2\n",
       "3            4.6          3.1           1.5          0.2\n",
       "4            5.0          3.6           1.4          0.2\n",
       "..           ...          ...           ...          ...\n",
       "95           5.7          3.0           4.2          1.2\n",
       "96           5.7          2.9           4.2          1.3\n",
       "97           6.2          2.9           4.3          1.3\n",
       "98           5.1          2.5           3.0          1.1\n",
       "99           5.7          2.8           4.1          1.3\n",
       "\n",
       "[100 rows x 4 columns]"
      ]
     },
     "execution_count": 40,
     "metadata": {},
     "output_type": "execute_result"
    }
   ],
   "source": [
    "X"
   ]
  },
  {
   "cell_type": "code",
   "execution_count": 41,
   "id": "dbc14050-c3f4-4a3a-a3c3-5872f9a88124",
   "metadata": {},
   "outputs": [],
   "source": [
    "y=df[\"Species\"]"
   ]
  },
  {
   "cell_type": "code",
   "execution_count": 42,
   "id": "648ff794-db52-409c-ad89-757af0aa55f2",
   "metadata": {},
   "outputs": [
    {
     "data": {
      "text/plain": [
       "0     0\n",
       "1     0\n",
       "2     0\n",
       "3     0\n",
       "4     0\n",
       "     ..\n",
       "95    1\n",
       "96    1\n",
       "97    1\n",
       "98    1\n",
       "99    1\n",
       "Name: Species, Length: 100, dtype: int64"
      ]
     },
     "execution_count": 42,
     "metadata": {},
     "output_type": "execute_result"
    }
   ],
   "source": [
    "y"
   ]
  },
  {
   "cell_type": "markdown",
   "id": "f5618033-ee41-407a-a448-61f1b423b097",
   "metadata": {},
   "source": [
    "## Train test split"
   ]
  },
  {
   "cell_type": "code",
   "execution_count": 43,
   "id": "bb3a86ad-287e-4982-bf8f-dc2aeeba6a91",
   "metadata": {},
   "outputs": [],
   "source": [
    "from sklearn.model_selection import train_test_split\n",
    "X_train,X_test,y_train,y_test=train_test_split(X,y,test_size=0.25,random_state=10)"
   ]
  },
  {
   "cell_type": "code",
   "execution_count": 44,
   "id": "b0f757bd-e1a7-493e-ae15-55ae2e3bb13f",
   "metadata": {},
   "outputs": [
    {
     "data": {
      "text/plain": [
       "((100, 4), (100,))"
      ]
     },
     "execution_count": 44,
     "metadata": {},
     "output_type": "execute_result"
    }
   ],
   "source": [
    "X.shape,y.shape"
   ]
  },
  {
   "cell_type": "code",
   "execution_count": 45,
   "id": "d74c9cd3-a284-447e-aa78-1f9b0bc9ea4a",
   "metadata": {},
   "outputs": [
    {
     "data": {
      "text/plain": [
       "((75, 4), (25, 4), (75,), (25,))"
      ]
     },
     "execution_count": 45,
     "metadata": {},
     "output_type": "execute_result"
    }
   ],
   "source": [
    "X_train.shape,X_test.shape,y_train.shape,y_test.shape"
   ]
  },
  {
   "cell_type": "markdown",
   "id": "e22fdd22-6721-4665-b7a4-e542da6f2036",
   "metadata": {},
   "source": [
    "## Building the SVC Model"
   ]
  },
  {
   "cell_type": "code",
   "execution_count": 46,
   "id": "a4119303-5c27-47bb-a4d9-d623eeef88c6",
   "metadata": {},
   "outputs": [],
   "source": [
    "from sklearn.svm import SVC"
   ]
  },
  {
   "cell_type": "code",
   "execution_count": 47,
   "id": "000915d0-02d0-41fa-8af2-60ea83f6353e",
   "metadata": {},
   "outputs": [],
   "source": [
    "svc=SVC(kernel=\"linear\")"
   ]
  },
  {
   "cell_type": "code",
   "execution_count": 48,
   "id": "a669aff4-25bc-4ae8-ad03-9e7b8b6f157a",
   "metadata": {},
   "outputs": [
    {
     "data": {
      "text/html": [
       "<style>#sk-container-id-1 {color: black;background-color: white;}#sk-container-id-1 pre{padding: 0;}#sk-container-id-1 div.sk-toggleable {background-color: white;}#sk-container-id-1 label.sk-toggleable__label {cursor: pointer;display: block;width: 100%;margin-bottom: 0;padding: 0.3em;box-sizing: border-box;text-align: center;}#sk-container-id-1 label.sk-toggleable__label-arrow:before {content: \"▸\";float: left;margin-right: 0.25em;color: #696969;}#sk-container-id-1 label.sk-toggleable__label-arrow:hover:before {color: black;}#sk-container-id-1 div.sk-estimator:hover label.sk-toggleable__label-arrow:before {color: black;}#sk-container-id-1 div.sk-toggleable__content {max-height: 0;max-width: 0;overflow: hidden;text-align: left;background-color: #f0f8ff;}#sk-container-id-1 div.sk-toggleable__content pre {margin: 0.2em;color: black;border-radius: 0.25em;background-color: #f0f8ff;}#sk-container-id-1 input.sk-toggleable__control:checked~div.sk-toggleable__content {max-height: 200px;max-width: 100%;overflow: auto;}#sk-container-id-1 input.sk-toggleable__control:checked~label.sk-toggleable__label-arrow:before {content: \"▾\";}#sk-container-id-1 div.sk-estimator input.sk-toggleable__control:checked~label.sk-toggleable__label {background-color: #d4ebff;}#sk-container-id-1 div.sk-label input.sk-toggleable__control:checked~label.sk-toggleable__label {background-color: #d4ebff;}#sk-container-id-1 input.sk-hidden--visually {border: 0;clip: rect(1px 1px 1px 1px);clip: rect(1px, 1px, 1px, 1px);height: 1px;margin: -1px;overflow: hidden;padding: 0;position: absolute;width: 1px;}#sk-container-id-1 div.sk-estimator {font-family: monospace;background-color: #f0f8ff;border: 1px dotted black;border-radius: 0.25em;box-sizing: border-box;margin-bottom: 0.5em;}#sk-container-id-1 div.sk-estimator:hover {background-color: #d4ebff;}#sk-container-id-1 div.sk-parallel-item::after {content: \"\";width: 100%;border-bottom: 1px solid gray;flex-grow: 1;}#sk-container-id-1 div.sk-label:hover label.sk-toggleable__label {background-color: #d4ebff;}#sk-container-id-1 div.sk-serial::before {content: \"\";position: absolute;border-left: 1px solid gray;box-sizing: border-box;top: 0;bottom: 0;left: 50%;z-index: 0;}#sk-container-id-1 div.sk-serial {display: flex;flex-direction: column;align-items: center;background-color: white;padding-right: 0.2em;padding-left: 0.2em;position: relative;}#sk-container-id-1 div.sk-item {position: relative;z-index: 1;}#sk-container-id-1 div.sk-parallel {display: flex;align-items: stretch;justify-content: center;background-color: white;position: relative;}#sk-container-id-1 div.sk-item::before, #sk-container-id-1 div.sk-parallel-item::before {content: \"\";position: absolute;border-left: 1px solid gray;box-sizing: border-box;top: 0;bottom: 0;left: 50%;z-index: -1;}#sk-container-id-1 div.sk-parallel-item {display: flex;flex-direction: column;z-index: 1;position: relative;background-color: white;}#sk-container-id-1 div.sk-parallel-item:first-child::after {align-self: flex-end;width: 50%;}#sk-container-id-1 div.sk-parallel-item:last-child::after {align-self: flex-start;width: 50%;}#sk-container-id-1 div.sk-parallel-item:only-child::after {width: 0;}#sk-container-id-1 div.sk-dashed-wrapped {border: 1px dashed gray;margin: 0 0.4em 0.5em 0.4em;box-sizing: border-box;padding-bottom: 0.4em;background-color: white;}#sk-container-id-1 div.sk-label label {font-family: monospace;font-weight: bold;display: inline-block;line-height: 1.2em;}#sk-container-id-1 div.sk-label-container {text-align: center;}#sk-container-id-1 div.sk-container {/* jupyter's `normalize.less` sets `[hidden] { display: none; }` but bootstrap.min.css set `[hidden] { display: none !important; }` so we also need the `!important` here to be able to override the default hidden behavior on the sphinx rendered scikit-learn.org. See: https://github.com/scikit-learn/scikit-learn/issues/21755 */display: inline-block !important;position: relative;}#sk-container-id-1 div.sk-text-repr-fallback {display: none;}</style><div id=\"sk-container-id-1\" class=\"sk-top-container\"><div class=\"sk-text-repr-fallback\"><pre>SVC(kernel=&#x27;linear&#x27;)</pre><b>In a Jupyter environment, please rerun this cell to show the HTML representation or trust the notebook. <br />On GitHub, the HTML representation is unable to render, please try loading this page with nbviewer.org.</b></div><div class=\"sk-container\" hidden><div class=\"sk-item\"><div class=\"sk-estimator sk-toggleable\"><input class=\"sk-toggleable__control sk-hidden--visually\" id=\"sk-estimator-id-1\" type=\"checkbox\" checked><label for=\"sk-estimator-id-1\" class=\"sk-toggleable__label sk-toggleable__label-arrow\">SVC</label><div class=\"sk-toggleable__content\"><pre>SVC(kernel=&#x27;linear&#x27;)</pre></div></div></div></div></div>"
      ],
      "text/plain": [
       "SVC(kernel='linear')"
      ]
     },
     "execution_count": 48,
     "metadata": {},
     "output_type": "execute_result"
    }
   ],
   "source": [
    "svc.fit(X_train,y_train)"
   ]
  },
  {
   "cell_type": "markdown",
   "id": "60af33eb-bc1c-40ee-b92d-267771b90d2b",
   "metadata": {},
   "source": [
    "## Predicting values"
   ]
  },
  {
   "cell_type": "code",
   "execution_count": 49,
   "id": "84c1aabb-f5bf-4153-841d-6fe2a97707e8",
   "metadata": {},
   "outputs": [],
   "source": [
    "y_pred=svc.predict(X_test)"
   ]
  },
  {
   "cell_type": "code",
   "execution_count": 50,
   "id": "6523a27c-0b59-43c4-b45c-95e2f2fbfd21",
   "metadata": {},
   "outputs": [
    {
     "data": {
      "text/plain": [
       "array([[ 3.38933933e-04, -5.94831543e-01,  9.66191712e-01,\n",
       "         4.46377857e-01]])"
      ]
     },
     "execution_count": 50,
     "metadata": {},
     "output_type": "execute_result"
    }
   ],
   "source": [
    "svc.coef_"
   ]
  },
  {
   "cell_type": "markdown",
   "id": "f7a6b704-fc09-4d25-ba9f-a7166a003502",
   "metadata": {},
   "source": [
    "## Accuracy of the model"
   ]
  },
  {
   "cell_type": "code",
   "execution_count": 51,
   "id": "6c420c11-434a-4420-a052-38417417329a",
   "metadata": {},
   "outputs": [],
   "source": [
    "from sklearn.metrics import classification_report,accuracy_score,confusion_matrix"
   ]
  },
  {
   "cell_type": "code",
   "execution_count": 52,
   "id": "dc1e315c-662c-4867-86c1-bff3096d7945",
   "metadata": {},
   "outputs": [
    {
     "name": "stdout",
     "output_type": "stream",
     "text": [
      "              precision    recall  f1-score   support\n",
      "\n",
      "           0       1.00      1.00      1.00        12\n",
      "           1       1.00      1.00      1.00        13\n",
      "\n",
      "    accuracy                           1.00        25\n",
      "   macro avg       1.00      1.00      1.00        25\n",
      "weighted avg       1.00      1.00      1.00        25\n",
      "\n",
      "[[12  0]\n",
      " [ 0 13]]\n",
      "1.0\n"
     ]
    }
   ],
   "source": [
    "print(classification_report(y_test,y_pred))\n",
    "print(confusion_matrix(y_test,y_pred))\n",
    "print(accuracy_score(y_test,y_pred))"
   ]
  },
  {
   "cell_type": "markdown",
   "id": "9dba93de-faf2-4b7d-9806-82c5129fb1a3",
   "metadata": {},
   "source": [
    "## Plotting decision boundary"
   ]
  },
  {
   "cell_type": "code",
   "execution_count": 53,
   "id": "2d419551-a2b1-469a-98b0-40c7ae0101ce",
   "metadata": {},
   "outputs": [
    {
     "data": {
      "text/plain": [
       "array([-0.90432717])"
      ]
     },
     "execution_count": 53,
     "metadata": {},
     "output_type": "execute_result"
    }
   ],
   "source": [
    "svc.intercept_"
   ]
  },
  {
   "cell_type": "code",
   "execution_count": 64,
   "id": "a10000d7-976c-4014-b835-67bf1f90c33f",
   "metadata": {},
   "outputs": [
    {
     "data": {
      "text/html": [
       "<div>\n",
       "<style scoped>\n",
       "    .dataframe tbody tr th:only-of-type {\n",
       "        vertical-align: middle;\n",
       "    }\n",
       "\n",
       "    .dataframe tbody tr th {\n",
       "        vertical-align: top;\n",
       "    }\n",
       "\n",
       "    .dataframe thead th {\n",
       "        text-align: right;\n",
       "    }\n",
       "</style>\n",
       "<table border=\"1\" class=\"dataframe\">\n",
       "  <thead>\n",
       "    <tr style=\"text-align: right;\">\n",
       "      <th></th>\n",
       "      <th>sepal_length</th>\n",
       "      <th>sepal_width</th>\n",
       "      <th>petal_length</th>\n",
       "      <th>petal_width</th>\n",
       "    </tr>\n",
       "  </thead>\n",
       "  <tbody>\n",
       "    <tr>\n",
       "      <th>55</th>\n",
       "      <td>5.7</td>\n",
       "      <td>2.8</td>\n",
       "      <td>4.5</td>\n",
       "      <td>1.3</td>\n",
       "    </tr>\n",
       "    <tr>\n",
       "      <th>21</th>\n",
       "      <td>5.1</td>\n",
       "      <td>3.7</td>\n",
       "      <td>1.5</td>\n",
       "      <td>0.4</td>\n",
       "    </tr>\n",
       "  </tbody>\n",
       "</table>\n",
       "</div>"
      ],
      "text/plain": [
       "    sepal_length  sepal_width  petal_length  petal_width\n",
       "55           5.7          2.8           4.5          1.3\n",
       "21           5.1          3.7           1.5          0.4"
      ]
     },
     "execution_count": 64,
     "metadata": {},
     "output_type": "execute_result"
    }
   ],
   "source": [
    "X_train.head(2)"
   ]
  },
  {
   "cell_type": "code",
   "execution_count": 67,
   "id": "175f117c-fa4f-4966-aa4b-2752643e99ed",
   "metadata": {},
   "outputs": [
    {
     "data": {
      "image/png": "[encoded data removed]",
      "text/plain": [
       "<Figure size 1000x600 with 1 Axes>"
      ]
     },
     "metadata": {},
     "output_type": "display_data"
    }
   ],
   "source": [
    "import numpy as np\n",
    "import matplotlib.pyplot as plt\n",
    "from sklearn.svm import SVC\n",
    "\n",
    "# We will use Petal length and Petal width for plotting\n",
    "X_train_2d = X_train[[\"petal_length\",\"petal_width\"]]\n",
    "svm_clf_2d = SVC(kernel='linear', random_state=42)\n",
    "svm_clf_2d.fit(X_train_2d, y_train)\n",
    "\n",
    "# Create a grid to plot decision boundaries\n",
    "x_min, x_max = X_train_2d.iloc[:, 0].min() - 1, X_train_2d.iloc[:, 0].max() + 1\n",
    "y_min, y_max = X_train_2d.iloc[:, 1].min() - 1, X_train_2d.iloc[:, 1].max() + 1\n",
    "xx, yy = np.meshgrid(np.arange(x_min, x_max, 0.02),\n",
    "                     np.arange(y_min, y_max, 0.02))\n",
    "\n",
    "# Predict classifications for each point in the meshgrid\n",
    "Z = svm_clf_2d.predict(np.c_[xx.ravel(), yy.ravel()])\n",
    "Z = Z.reshape(xx.shape)\n",
    "\n",
    "# Plot the decision boundaries\n",
    "plt.figure(figsize=(10, 6))\n",
    "plt.contourf(xx, yy, Z, alpha=0.8)\n",
    "plt.scatter(X_train_2d.iloc[:, 0], X_train_2d.iloc[:, 1], c=y_train, edgecolors='k')\n",
    "plt.xlabel('Petal length')\n",
    "plt.ylabel('Petal width')\n",
    "plt.title('Decision boundaries with Petal length and Petal width')\n",
    "plt.show()"
   ]
  },
  {
   "cell_type": "markdown",
   "id": "b9c77c69-50a1-4e23-b459-de687c72e494",
   "metadata": {},
   "source": [
    "## Hyperparameter tuning"
   ]
  },
  {
   "cell_type": "code",
   "execution_count": 68,
   "id": "d2efa10b-2d86-41be-93d4-98925e813baf",
   "metadata": {},
   "outputs": [],
   "source": [
    "parameters={\n",
    "    'C': [0.1, 1, 10, 100, 1000],\n",
    "    'kernel':['linear']\n",
    "            }"
   ]
  },
  {
   "cell_type": "code",
   "execution_count": 69,
   "id": "9c6a6778-aa87-4e43-83c7-e2b1a8964ed6",
   "metadata": {},
   "outputs": [],
   "source": [
    "from sklearn.model_selection import GridSearchCV"
   ]
  },
  {
   "cell_type": "code",
   "execution_count": 70,
   "id": "3a9763b9-0af9-4ae9-bc76-3954f9d136aa",
   "metadata": {},
   "outputs": [],
   "source": [
    "grid=GridSearchCV(SVC(),param_grid=parameters,cv=5,refit=True,verbose=3)"
   ]
  },
  {
   "cell_type": "code",
   "execution_count": 71,
   "id": "3a99134e-92e7-4b1a-87b6-4a8a39b6fb53",
   "metadata": {},
   "outputs": [
    {
     "name": "stdout",
     "output_type": "stream",
     "text": [
      "Fitting 5 folds for each of 5 candidates, totalling 25 fits\n",
      "[CV 1/5] END ..............C=0.1, kernel=linear;, score=1.000 total time=   0.0s\n",
      "[CV 2/5] END ..............C=0.1, kernel=linear;, score=1.000 total time=   0.0s\n",
      "[CV 3/5] END ..............C=0.1, kernel=linear;, score=1.000 total time=   0.0s\n",
      "[CV 4/5] END ..............C=0.1, kernel=linear;, score=1.000 total time=   0.0s\n",
      "[CV 5/5] END ..............C=0.1, kernel=linear;, score=1.000 total time=   0.0s\n",
      "[CV 1/5] END ................C=1, kernel=linear;, score=1.000 total time=   0.0s\n",
      "[CV 2/5] END ................C=1, kernel=linear;, score=1.000 total time=   0.0s\n",
      "[CV 3/5] END ................C=1, kernel=linear;, score=1.000 total time=   0.0s\n",
      "[CV 4/5] END ................C=1, kernel=linear;, score=1.000 total time=   0.0s\n",
      "[CV 5/5] END ................C=1, kernel=linear;, score=1.000 total time=   0.0s\n",
      "[CV 1/5] END ...............C=10, kernel=linear;, score=1.000 total time=   0.0s\n",
      "[CV 2/5] END ...............C=10, kernel=linear;, score=1.000 total time=   0.0s\n",
      "[CV 3/5] END ...............C=10, kernel=linear;, score=1.000 total time=   0.0s\n",
      "[CV 4/5] END ...............C=10, kernel=linear;, score=1.000 total time=   0.0s\n",
      "[CV 5/5] END ...............C=10, kernel=linear;, score=1.000 total time=   0.0s\n",
      "[CV 1/5] END ..............C=100, kernel=linear;, score=1.000 total time=   0.0s\n",
      "[CV 2/5] END ..............C=100, kernel=linear;, score=1.000 total time=   0.0s\n",
      "[CV 3/5] END ..............C=100, kernel=linear;, score=1.000 total time=   0.0s\n",
      "[CV 4/5] END ..............C=100, kernel=linear;, score=1.000 total time=   0.0s\n",
      "[CV 5/5] END ..............C=100, kernel=linear;, score=1.000 total time=   0.0s\n",
      "[CV 1/5] END .............C=1000, kernel=linear;, score=1.000 total time=   0.0s\n",
      "[CV 2/5] END .............C=1000, kernel=linear;, score=1.000 total time=   0.0s\n",
      "[CV 3/5] END .............C=1000, kernel=linear;, score=1.000 total time=   0.0s\n",
      "[CV 4/5] END .............C=1000, kernel=linear;, score=1.000 total time=   0.0s\n",
      "[CV 5/5] END .............C=1000, kernel=linear;, score=1.000 total time=   0.0s\n"
     ]
    },
    {
     "data": {
      "text/html": [
       "<style>#sk-container-id-2 {color: black;background-color: white;}#sk-container-id-2 pre{padding: 0;}#sk-container-id-2 div.sk-toggleable {background-color: white;}#sk-container-id-2 label.sk-toggleable__label {cursor: pointer;display: block;width: 100%;margin-bottom: 0;padding: 0.3em;box-sizing: border-box;text-align: center;}#sk-container-id-2 label.sk-toggleable__label-arrow:before {content: \"▸\";float: left;margin-right: 0.25em;color: #696969;}#sk-container-id-2 label.sk-toggleable__label-arrow:hover:before {color: black;}#sk-container-id-2 div.sk-estimator:hover label.sk-toggleable__label-arrow:before {color: black;}#sk-container-id-2 div.sk-toggleable__content {max-height: 0;max-width: 0;overflow: hidden;text-align: left;background-color: #f0f8ff;}#sk-container-id-2 div.sk-toggleable__content pre {margin: 0.2em;color: black;border-radius: 0.25em;background-color: #f0f8ff;}#sk-container-id-2 input.sk-toggleable__control:checked~div.sk-toggleable__content {max-height: 200px;max-width: 100%;overflow: auto;}#sk-container-id-2 input.sk-toggleable__control:checked~label.sk-toggleable__label-arrow:before {content: \"▾\";}#sk-container-id-2 div.sk-estimator input.sk-toggleable__control:checked~label.sk-toggleable__label {background-color: #d4ebff;}#sk-container-id-2 div.sk-label input.sk-toggleable__control:checked~label.sk-toggleable__label {background-color: #d4ebff;}#sk-container-id-2 input.sk-hidden--visually {border: 0;clip: rect(1px 1px 1px 1px);clip: rect(1px, 1px, 1px, 1px);height: 1px;margin: -1px;overflow: hidden;padding: 0;position: absolute;width: 1px;}#sk-container-id-2 div.sk-estimator {font-family: monospace;background-color: #f0f8ff;border: 1px dotted black;border-radius: 0.25em;box-sizing: border-box;margin-bottom: 0.5em;}#sk-container-id-2 div.sk-estimator:hover {background-color: #d4ebff;}#sk-container-id-2 div.sk-parallel-item::after {content: \"\";width: 100%;border-bottom: 1px solid gray;flex-grow: 1;}#sk-container-id-2 div.sk-label:hover label.sk-toggleable__label {background-color: #d4ebff;}#sk-container-id-2 div.sk-serial::before {content: \"\";position: absolute;border-left: 1px solid gray;box-sizing: border-box;top: 0;bottom: 0;left: 50%;z-index: 0;}#sk-container-id-2 div.sk-serial {display: flex;flex-direction: column;align-items: center;background-color: white;padding-right: 0.2em;padding-left: 0.2em;position: relative;}#sk-container-id-2 div.sk-item {position: relative;z-index: 1;}#sk-container-id-2 div.sk-parallel {display: flex;align-items: stretch;justify-content: center;background-color: white;position: relative;}#sk-container-id-2 div.sk-item::before, #sk-container-id-2 div.sk-parallel-item::before {content: \"\";position: absolute;border-left: 1px solid gray;box-sizing: border-box;top: 0;bottom: 0;left: 50%;z-index: -1;}#sk-container-id-2 div.sk-parallel-item {display: flex;flex-direction: column;z-index: 1;position: relative;background-color: white;}#sk-container-id-2 div.sk-parallel-item:first-child::after {align-self: flex-end;width: 50%;}#sk-container-id-2 div.sk-parallel-item:last-child::after {align-self: flex-start;width: 50%;}#sk-container-id-2 div.sk-parallel-item:only-child::after {width: 0;}#sk-container-id-2 div.sk-dashed-wrapped {border: 1px dashed gray;margin: 0 0.4em 0.5em 0.4em;box-sizing: border-box;padding-bottom: 0.4em;background-color: white;}#sk-container-id-2 div.sk-label label {font-family: monospace;font-weight: bold;display: inline-block;line-height: 1.2em;}#sk-container-id-2 div.sk-label-container {text-align: center;}#sk-container-id-2 div.sk-container {/* jupyter's `normalize.less` sets `[hidden] { display: none; }` but bootstrap.min.css set `[hidden] { display: none !important; }` so we also need the `!important` here to be able to override the default hidden behavior on the sphinx rendered scikit-learn.org. See: https://github.com/scikit-learn/scikit-learn/issues/21755 */display: inline-block !important;position: relative;}#sk-container-id-2 div.sk-text-repr-fallback {display: none;}</style><div id=\"sk-container-id-2\" class=\"sk-top-container\"><div class=\"sk-text-repr-fallback\"><pre>GridSearchCV(cv=5, estimator=SVC(),\n",
       "             param_grid={&#x27;C&#x27;: [0.1, 1, 10, 100, 1000], &#x27;kernel&#x27;: [&#x27;linear&#x27;]},\n",
       "             verbose=3)</pre><b>In a Jupyter environment, please rerun this cell to show the HTML representation or trust the notebook. <br />On GitHub, the HTML representation is unable to render, please try loading this page with nbviewer.org.</b></div><div class=\"sk-container\" hidden><div class=\"sk-item sk-dashed-wrapped\"><div class=\"sk-label-container\"><div class=\"sk-label sk-toggleable\"><input class=\"sk-toggleable__control sk-hidden--visually\" id=\"sk-estimator-id-2\" type=\"checkbox\" ><label for=\"sk-estimator-id-2\" class=\"sk-toggleable__label sk-toggleable__label-arrow\">GridSearchCV</label><div class=\"sk-toggleable__content\"><pre>GridSearchCV(cv=5, estimator=SVC(),\n",
       "             param_grid={&#x27;C&#x27;: [0.1, 1, 10, 100, 1000], &#x27;kernel&#x27;: [&#x27;linear&#x27;]},\n",
       "             verbose=3)</pre></div></div></div><div class=\"sk-parallel\"><div class=\"sk-parallel-item\"><div class=\"sk-item\"><div class=\"sk-label-container\"><div class=\"sk-label sk-toggleable\"><input class=\"sk-toggleable__control sk-hidden--visually\" id=\"sk-estimator-id-3\" type=\"checkbox\" ><label for=\"sk-estimator-id-3\" class=\"sk-toggleable__label sk-toggleable__label-arrow\">estimator: SVC</label><div class=\"sk-toggleable__content\"><pre>SVC()</pre></div></div></div><div class=\"sk-serial\"><div class=\"sk-item\"><div class=\"sk-estimator sk-toggleable\"><input class=\"sk-toggleable__control sk-hidden--visually\" id=\"sk-estimator-id-4\" type=\"checkbox\" ><label for=\"sk-estimator-id-4\" class=\"sk-toggleable__label sk-toggleable__label-arrow\">SVC</label><div class=\"sk-toggleable__content\"><pre>SVC()</pre></div></div></div></div></div></div></div></div></div></div>"
      ],
      "text/plain": [
       "GridSearchCV(cv=5, estimator=SVC(),\n",
       "             param_grid={'C': [0.1, 1, 10, 100, 1000], 'kernel': ['linear']},\n",
       "             verbose=3)"
      ]
     },
     "execution_count": 71,
     "metadata": {},
     "output_type": "execute_result"
    }
   ],
   "source": [
    "grid.fit(X_train,y_train)"
   ]
  },
  {
   "cell_type": "code",
   "execution_count": 72,
   "id": "97a4b7b4-b6b8-4c70-9e81-360d7cf6d592",
   "metadata": {},
   "outputs": [
    {
     "data": {
      "text/plain": [
       "{'C': 0.1, 'kernel': 'linear'}"
      ]
     },
     "execution_count": 72,
     "metadata": {},
     "output_type": "execute_result"
    }
   ],
   "source": [
    "grid.best_params_"
   ]
  },
  {
   "cell_type": "code",
   "execution_count": 73,
   "id": "7f4eed53-c86b-4e99-bee4-677fcd56078d",
   "metadata": {},
   "outputs": [],
   "source": [
    "y_pred=grid.predict(X_test)"
   ]
  },
  {
   "cell_type": "code",
   "execution_count": 74,
   "id": "926bfc95-5050-49ee-a915-8f844355a2d8",
   "metadata": {},
   "outputs": [
    {
     "name": "stdout",
     "output_type": "stream",
     "text": [
      "              precision    recall  f1-score   support\n",
      "\n",
      "           0       1.00      1.00      1.00        12\n",
      "           1       1.00      1.00      1.00        13\n",
      "\n",
      "    accuracy                           1.00        25\n",
      "   macro avg       1.00      1.00      1.00        25\n",
      "weighted avg       1.00      1.00      1.00        25\n",
      "\n",
      "[[12  0]\n",
      " [ 0 13]]\n",
      "1.0\n"
     ]
    }
   ],
   "source": [
    "print(classification_report(y_test,y_pred))\n",
    "print(confusion_matrix(y_test,y_pred))\n",
    "print(accuracy_score(y_test,y_pred))"
   ]
  },
  {
   "cell_type": "code",
   "execution_count": null,
   "id": "79ae410f-8a32-4f4b-8b00-f03de439a70f",
   "metadata": {},
   "outputs": [],
   "source": []
  }
 ],
 "metadata": {
  "kernelspec": {
   "display_name": "Python 3 (ipykernel)",
   "language": "python",
   "name": "python3"
  },
  "language_info": {
   "codemirror_mode": {
    "name": "ipython",
    "version": 3
   },
   "file_extension": ".py",
   "mimetype": "text/x-python",
   "name": "python",
   "nbconvert_exporter": "python",
   "pygments_lexer": "ipython3",
   "version": "3.10.8"
  }
 },
 "nbformat": 4,
 "nbformat_minor": 5
}
