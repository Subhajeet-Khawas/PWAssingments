{
 "cells": [
  {
   "cell_type": "markdown",
   "id": "0e85996f",
   "metadata": {},
   "source": [
    "Q1. Write a Python function that takes in two arrays of data and calculates the F-value for a variance ratio\n",
    "test. The function should return the F-value and the corresponding p-value for the test."
   ]
  },
  {
   "cell_type": "code",
   "execution_count": null,
   "id": "805cbd8f",
   "metadata": {},
   "outputs": [],
   "source": [
    "from scipy.stats import f_oneway\n",
    "def calculate_f_value_and_p_value(data1, data2):\n",
    "\n",
    "    # Perform one-way ANOVA (variance ratio test)\n",
    "    f_value, p_value = f_oneway(data1, data2)\n",
    "\n",
    "    return f_value, p_value\n",
    "\n",
    "# Example usage:\n",
    "group1_data = [23, 25, 21, 18, 27]\n",
    "group2_data = [30, 32, 28, 35, 29]\n",
    "\n",
    "f_value, p_value = calculate_f_value_and_p_value(group1_data, group2_data)\n",
    "\n",
    "# Print the results\n",
    "print(f\"F-value: {f_value:.4f}\")\n",
    "print(f\"P-value: {p_value:.4f}\")\n"
   ]
  },
  {
   "cell_type": "markdown",
   "id": "ee3aa465",
   "metadata": {},
   "source": [
    "Q2. Given a significance level of 0.05 and the degrees of freedom for the numerator and denominator of an\n",
    "F-distribution, write a Python function that returns the critical F-value for a two-tailed test."
   ]
  },
  {
   "cell_type": "code",
   "execution_count": 28,
   "id": "1567ab77",
   "metadata": {},
   "outputs": [
    {
     "name": "stdout",
     "output_type": "stream",
     "text": [
      "Critical F-value for a two-tailed test: 7.7636\n"
     ]
    }
   ],
   "source": [
    "from scipy.stats import f\n",
    "\n",
    "def calculate_critical_f_value(df1, df2, alpha=0.05):\n",
    "    critical_f_value = f.ppf(1 - alpha/2, df1, df2)\n",
    "    return critical_f_value\n",
    "degrees_of_freedom_numerator = 3\n",
    "degrees_of_freedom_denominator = 5\n",
    "significance_level = 0.05\n",
    "critical_f_value = calculate_critical_f_value(degrees_of_freedom_numerator, degrees_of_freedom_denominator, significance_level)\n",
    "print(f\"Critical F-value for a two-tailed test: {critical_f_value:.4f}\")"
   ]
  },
  {
   "cell_type": "markdown",
   "id": "147ead3f",
   "metadata": {},
   "source": [
    "Q3. Write a Python program that generates random samples from two normal distributions with known\n",
    "variances and uses an F-test to determine if the variances are equal. The program should output the F-\n",
    "value, degrees of freedom, and p-value for the test."
   ]
  },
  {
   "cell_type": "code",
   "execution_count": 25,
   "id": "b5601df0",
   "metadata": {},
   "outputs": [
    {
     "name": "stdout",
     "output_type": "stream",
     "text": [
      "F-value: 1.8886\n",
      "Degrees of Freedom (numerator): 29\n",
      "Degrees of Freedom (denominator): 29\n",
      "P-value: 0.0923\n"
     ]
    }
   ],
   "source": [
    "import numpy as np\n",
    "from scipy.stats import f\n",
    "def variance_ratio_test(data1, data2):\n",
    "    var1 = np.var(data1, ddof=1)\n",
    "    var2 = np.var(data2, ddof=1)\n",
    "    n1 = len(data1)\n",
    "    n2 = len(data2)\n",
    "    df1 = n1 - 1\n",
    "    df2 = n2 - 1\n",
    "    f_value = var1 / var2 if var1 > var2 else var2 / var1\n",
    "    p_value = 2 * min(f.cdf(f_value, df1, df2), 1 - f.cdf(f_value, df1, df2))\n",
    "    return f_value, df1, df2, p_value\n",
    "sample1 = np.random.normal(loc=0, scale=1, size=30)\n",
    "sample2 = np.random.normal(loc=0, scale=1.5, size=30)\n",
    "f_value, df1, df2, p_value = variance_ratio_test(sample1, sample2)\n",
    "print(f\"F-value: {f_value:.4f}\")\n",
    "print(f\"Degrees of Freedom (numerator): {df1}\")\n",
    "print(f\"Degrees of Freedom (denominator): {df2}\")\n",
    "print(f\"P-value: {p_value:.4f}\")"
   ]
  },
  {
   "cell_type": "markdown",
   "id": "8e2ed64e",
   "metadata": {},
   "source": [
    "Q4.The variances of two populations are known to be 10 and 15. A sample of 12 observations is taken from\n",
    "each population. Conduct an F-test at the 5% significance level to determine if the variances are\n",
    "significantly different."
   ]
  },
  {
   "cell_type": "code",
   "execution_count": 21,
   "id": "6f941a26",
   "metadata": {},
   "outputs": [
    {
     "name": "stdout",
     "output_type": "stream",
     "text": [
      "No difference in variance\n"
     ]
    }
   ],
   "source": [
    "var1=10\n",
    "var2=15\n",
    "n1=12\n",
    "n2=12\n",
    "df1=n1-1\n",
    "df2=n2-1\n",
    "alpha=0.05\n",
    "ftest=var2/var1\n",
    "fcritical=stats.f.ppf(alpha,df1,df2)\n",
    "if fcritical<ftest:\n",
    "    print(\"No difference in variance\")\n",
    "else:\n",
    "    print(\"Variances are significantly different\")"
   ]
  },
  {
   "cell_type": "markdown",
   "id": "102464b1",
   "metadata": {},
   "source": [
    "Q5. A manufacturer claims that the variance of the diameter of a certain product is 0.005. A sample of 25\n",
    "products is taken, and the sample variance is found to be 0.006. Conduct an F-test at the 1% significance\n",
    "level to determine if the claim is justified."
   ]
  },
  {
   "cell_type": "code",
   "execution_count": 18,
   "id": "70308f42",
   "metadata": {},
   "outputs": [
    {
     "data": {
      "text/plain": [
       "1.2"
      ]
     },
     "execution_count": 18,
     "metadata": {},
     "output_type": "execute_result"
    }
   ],
   "source": [
    "n=25\n",
    "svar=0.006\n",
    "N=1000 #let large population\n",
    "alpha=0.01\n",
    "pvar=0.005\n",
    "ftest=svar/pvar\n",
    "ftest"
   ]
  },
  {
   "cell_type": "code",
   "execution_count": 19,
   "id": "ba047d9d",
   "metadata": {},
   "outputs": [
    {
     "data": {
      "text/plain": [
       "0.44985008662300463"
      ]
     },
     "execution_count": 19,
     "metadata": {},
     "output_type": "execute_result"
    }
   ],
   "source": [
    "df1=n-1\n",
    "df2=N-1\n",
    "fcritical=stats.f.ppf(alpha,df1,df2)\n",
    "fcritical"
   ]
  },
  {
   "cell_type": "code",
   "execution_count": 20,
   "id": "04301493",
   "metadata": {},
   "outputs": [
    {
     "name": "stdout",
     "output_type": "stream",
     "text": [
      "No difference in variance\n"
     ]
    }
   ],
   "source": [
    "if fcritical<ftest:\n",
    "    print(\"No difference in variance\")\n",
    "else:\n",
    "    print(\"Variances are significantly different\")"
   ]
  },
  {
   "cell_type": "markdown",
   "id": "670c264e",
   "metadata": {},
   "source": [
    "Q6. Write a Python function that takes in the degrees of freedom for the numerator and denominator of an\n",
    "F-distribution and calculates the mean and variance of the distribution. The function should return the\n",
    "mean and variance as a tuple."
   ]
  },
  {
   "cell_type": "code",
   "execution_count": 17,
   "id": "9206e89b",
   "metadata": {},
   "outputs": [
    {
     "name": "stdout",
     "output_type": "stream",
     "text": [
      "Mean of F-distribution: 1.5000\n",
      "Variance of F-distribution: 5.2500\n"
     ]
    }
   ],
   "source": [
    "def calculate_f_distribution_mean_and_variance(df1, df2):\n",
    "    mean = df2 / (df2 - 2)\n",
    "    variance = (2 * df2**2 * (df1 + df2 - 2)) / (df1 * (df2 - 2)**2 * (df2 - 4))\n",
    "    return mean, variance\n",
    "degrees_of_freedom_numerator = 3\n",
    "degrees_of_freedom_denominator = 6\n",
    "mean, variance = calculate_f_distribution_mean_and_variance(degrees_of_freedom_numerator, degrees_of_freedom_denominator)\n",
    "print(f\"Mean of F-distribution: {mean:.4f}\")\n",
    "print(f\"Variance of F-distribution: {variance:.4f}\")"
   ]
  },
  {
   "cell_type": "markdown",
   "id": "8e355650",
   "metadata": {},
   "source": [
    "Q7. A random sample of 10 measurements is taken from a normal population with unknown variance. The\n",
    "sample variance is found to be 25. Another random sample of 15 measurements is taken from another\n",
    "normal population with unknown variance, and the sample variance is found to be 20. Conduct an F-test\n",
    "at the 10% significance level to determine if the variances are significantly different."
   ]
  },
  {
   "cell_type": "code",
   "execution_count": 14,
   "id": "f51d44e5",
   "metadata": {},
   "outputs": [
    {
     "data": {
      "text/plain": [
       "1.25"
      ]
     },
     "execution_count": 14,
     "metadata": {},
     "output_type": "execute_result"
    }
   ],
   "source": [
    "n1=10\n",
    "svar1=25\n",
    "n2=15\n",
    "svar2=20\n",
    "alpha=0.10\n",
    "ftest=svar1/svar2\n",
    "ftest"
   ]
  },
  {
   "cell_type": "code",
   "execution_count": 15,
   "id": "ddd50c70",
   "metadata": {},
   "outputs": [
    {
     "data": {
      "text/plain": [
       "0.42534371228514956"
      ]
     },
     "execution_count": 15,
     "metadata": {},
     "output_type": "execute_result"
    }
   ],
   "source": [
    "df1=n1-1\n",
    "df2=n2-1\n",
    "fcritical=stats.f.ppf(alpha,df1,df2)\n",
    "fcritical"
   ]
  },
  {
   "cell_type": "code",
   "execution_count": 16,
   "id": "d9686624",
   "metadata": {},
   "outputs": [
    {
     "name": "stdout",
     "output_type": "stream",
     "text": [
      "No difference in variance\n"
     ]
    }
   ],
   "source": [
    "if fcritical<ftest:\n",
    "    print(\"No difference in variance\")\n",
    "else:\n",
    "    print(\"Variances are significantly different\")"
   ]
  },
  {
   "cell_type": "markdown",
   "id": "7d94de69",
   "metadata": {},
   "source": [
    "Q8. The following data represent the waiting times in minutes at two different restaurants on a Saturday\n",
    "night: Restaurant A: 24, 25, 28, 23, 22, 20, 27; Restaurant B: 31, 33, 35, 30, 32, 36. Conduct an F-test at the 5%\n",
    "significance level to determine if the variances are significantly different."
   ]
  },
  {
   "cell_type": "code",
   "execution_count": 11,
   "id": "1e769830",
   "metadata": {},
   "outputs": [
    {
     "data": {
      "text/plain": [
       "1.496767651159843"
      ]
     },
     "execution_count": 11,
     "metadata": {},
     "output_type": "execute_result"
    }
   ],
   "source": [
    "a=[24, 25, 28, 23, 22, 20, 27]\n",
    "b=[31, 33, 35, 30, 32, 36]\n",
    "ftest=np.var(a)/np.var(b)\n",
    "ftest"
   ]
  },
  {
   "cell_type": "code",
   "execution_count": 12,
   "id": "9d75a3ed",
   "metadata": {},
   "outputs": [
    {
     "data": {
      "text/plain": [
       "0.227926763773758"
      ]
     },
     "execution_count": 12,
     "metadata": {},
     "output_type": "execute_result"
    }
   ],
   "source": [
    "alpha=0.05\n",
    "df1=len(a)-1\n",
    "df2=len(b)-1\n",
    "fcritical=stats.f.ppf(alpha,df1,df2)\n",
    "fcritical"
   ]
  },
  {
   "cell_type": "code",
   "execution_count": 13,
   "id": "2996deb7",
   "metadata": {},
   "outputs": [
    {
     "name": "stdout",
     "output_type": "stream",
     "text": [
      "No difference in variance\n"
     ]
    }
   ],
   "source": [
    "if fcritical<ftest:\n",
    "    print(\"No difference in variance\")\n",
    "else:\n",
    "    print(\"Variances are significantly different\")"
   ]
  },
  {
   "cell_type": "markdown",
   "id": "3ecee2ac",
   "metadata": {},
   "source": [
    "Q9. The following data represent the test scores of two groups of students: Group A: 80, 85, 90, 92, 87, 83;\n",
    "Group B: 75, 78, 82, 79, 81, 84. Conduct an F-test at the 1% significance level to determine if the variances\n",
    "are significantly different."
   ]
  },
  {
   "cell_type": "code",
   "execution_count": 1,
   "id": "1597b98c",
   "metadata": {},
   "outputs": [
    {
     "data": {
      "text/plain": [
       "1.9442622950819677"
      ]
     },
     "execution_count": 1,
     "metadata": {},
     "output_type": "execute_result"
    }
   ],
   "source": [
    "import numpy as np\n",
    "a=[80, 85, 90, 92, 87, 83]\n",
    "b=[75, 78, 82, 79, 81, 84]\n",
    "ftest=np.var(a)/np.var(b)\n",
    "ftest"
   ]
  },
  {
   "cell_type": "code",
   "execution_count": 2,
   "id": "6b91f460",
   "metadata": {},
   "outputs": [],
   "source": [
    "from scipy import stats"
   ]
  },
  {
   "cell_type": "code",
   "execution_count": 9,
   "id": "827f8a66",
   "metadata": {},
   "outputs": [
    {
     "data": {
      "text/plain": [
       "0.0911824671285913"
      ]
     },
     "execution_count": 9,
     "metadata": {},
     "output_type": "execute_result"
    }
   ],
   "source": [
    "alpha=0.01\n",
    "df1=len(a)-1\n",
    "df2=len(b)-1\n",
    "fcritical=stats.f.ppf(alpha,df1,df2)\n",
    "fcritical"
   ]
  },
  {
   "cell_type": "code",
   "execution_count": 10,
   "id": "70e04926",
   "metadata": {},
   "outputs": [
    {
     "name": "stdout",
     "output_type": "stream",
     "text": [
      "No difference in variance\n"
     ]
    }
   ],
   "source": [
    "if fcritical<ftest:\n",
    "    print(\"No difference in variance\")\n",
    "else:\n",
    "    print(\"Variances are significantly different\")"
   ]
  },
  {
   "cell_type": "code",
   "execution_count": null,
   "id": "37d452f9",
   "metadata": {},
   "outputs": [],
   "source": []
  }
 ],
 "metadata": {
  "kernelspec": {
   "display_name": "Python 3 (ipykernel)",
   "language": "python",
   "name": "python3"
  },
  "language_info": {
   "codemirror_mode": {
    "name": "ipython",
    "version": 3
   },
   "file_extension": ".py",
   "mimetype": "text/x-python",
   "name": "python",
   "nbconvert_exporter": "python",
   "pygments_lexer": "ipython3",
   "version": "3.11.4"
  }
 },
 "nbformat": 4,
 "nbformat_minor": 5
}
