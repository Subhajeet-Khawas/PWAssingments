{
 "cells": [
  {
   "cell_type": "markdown",
   "id": "cbe434d1-28be-4754-827b-8aae5b0b3c12",
   "metadata": {},
   "source": [
    "Q1. What is MongoDB? Explain non-relational databases in short. In which scenarios it is preferred to use MongoDB over SQL databases?"
   ]
  },
  {
   "cell_type": "markdown",
   "id": "bcf753f3-dfab-49da-8380-bcce5b4ee6f5",
   "metadata": {},
   "source": [
    "MongoDB is a document-oriented database management system (DBMS). It is a NoSQL database, which means that it does not use a traditional relational database model. Instead, MongoDB stores data in documents, which are similar to JSON objects.\n",
    "\n",
    "Non-relational databases are a type of database that does not use a traditional relational database model. Relational databases store data in tables, which are made up of rows and columns. Non-relational databases, on the other hand, can store data in a variety of ways, including documents, graphs, and key-value pairs.\n",
    "\n",
    "Here are some scenarios where it is preferred to use MongoDB over SQL databases:\n",
    "\n",
    "1. When you need to store large amounts of data: MongoDB is a good choice for storing large amounts of data because it is scalable and performant.\n",
    "2. When you need to store data that is not well-suited for a relational database model: MongoDB is a good choice for storing data that is not well-suited for a relational database model because it is flexible and can store data in a variety of ways.\n",
    "3. When you need to perform ad-hoc queries: MongoDB is a good choice for performing ad-hoc queries because it is easy to use and has a powerful query language."
   ]
  },
  {
   "cell_type": "markdown",
   "id": "a66eb505-5651-454f-804f-686e1e3738d9",
   "metadata": {},
   "source": [
    "Q2. State and Explain the features of MongoDB."
   ]
  },
  {
   "cell_type": "markdown",
   "id": "9f521f9a-e47e-4eda-8b51-336c62297974",
   "metadata": {},
   "source": [
    "MongoDB is a document-oriented database management system (DBMS) that provides high performance, scalability, and flexibility. It is a popular choice for storing large amounts of data that is not well-suited for a traditional relational database model.\n",
    "\n",
    "Here are some of the key features of MongoDB:\n",
    "\n",
    "1. Document storage: MongoDB stores data in documents, which are similar to JSON objects. This makes it easy to store and query data that is not well-suited for a traditional relational database model.\n",
    "2. Flexible schema: MongoDB does not require a rigid schema for its documents. This makes it easy to add new data or change existing data without having to modify the schema.\n",
    "3. Scalability: MongoDB is highly scalable and can be easily scaled to handle large amounts of data and traffic.\n",
    "4. Performance: MongoDB is designed for high performance and can handle large numbers of concurrent users and queries.\n",
    "5. Replication: MongoDB supports replication, which allows you to create multiple copies of your data for redundancy and disaster recovery.\n",
    "6. Security: MongoDB supports a variety of security features, including authentication, authorization, and encryption."
   ]
  },
  {
   "cell_type": "markdown",
   "id": "4df3f8f1-b55a-487b-88ae-3157f4712673",
   "metadata": {},
   "source": [
    "Q3. Write a code to connect MongoDB to Python. Also, create a database and a collection in MongoDB."
   ]
  },
  {
   "cell_type": "code",
   "execution_count": 1,
   "id": "725456df-f92d-472b-a44f-2b5c4e9e0f53",
   "metadata": {},
   "outputs": [
    {
     "name": "stdout",
     "output_type": "stream",
     "text": [
      "Collecting pymongo\n",
      "  Downloading pymongo-4.3.3-cp310-cp310-manylinux_2_17_x86_64.manylinux2014_x86_64.whl (492 kB)\n",
      "\u001b[2K     \u001b[90m━━━━━━━━━━━━━━━━━━━━━━━━━━━━━━━━━━━━━━\u001b[0m \u001b[32m492.9/492.9 kB\u001b[0m \u001b[31m36.5 MB/s\u001b[0m eta \u001b[36m0:00:00\u001b[0m\n",
      "\u001b[?25hCollecting dnspython<3.0.0,>=1.16.0\n",
      "  Downloading dnspython-2.3.0-py3-none-any.whl (283 kB)\n",
      "\u001b[2K     \u001b[90m━━━━━━━━━━━━━━━━━━━━━━━━━━━━━━━━━━━━━━\u001b[0m \u001b[32m283.7/283.7 kB\u001b[0m \u001b[31m37.0 MB/s\u001b[0m eta \u001b[36m0:00:00\u001b[0m\n",
      "\u001b[?25hInstalling collected packages: dnspython, pymongo\n",
      "Successfully installed dnspython-2.3.0 pymongo-4.3.3\n",
      "Note: you may need to restart the kernel to use updated packages.\n"
     ]
    }
   ],
   "source": [
    "pip install pymongo"
   ]
  },
  {
   "cell_type": "code",
   "execution_count": 1,
   "id": "c9d44132-0b31-4947-8fa1-18a6ff550d8a",
   "metadata": {},
   "outputs": [],
   "source": [
    "import pymongo\n",
    "client=pymongo.MongoClient(\"mongodb+srv://<username>:<password>@cluster0.rypqgpz.mongodb.net/?retryWrites=true&w=majority\")\n",
    "db=client.test"
   ]
  },
  {
   "cell_type": "code",
   "execution_count": 2,
   "id": "b4974c89-0150-4561-a440-274dd4691c10",
   "metadata": {},
   "outputs": [
    {
     "data": {
      "text/plain": [
       "Database(MongoClient(host=['ac-idjnvla-shard-00-01.rypqgpz.mongodb.net:27017', 'ac-idjnvla-shard-00-00.rypqgpz.mongodb.net:27017', 'ac-idjnvla-shard-00-02.rypqgpz.mongodb.net:27017'], document_class=dict, tz_aware=False, connect=True, retrywrites=True, w='majority', authsource='admin', replicaset='atlas-ubxi7n-shard-0', tls=True), 'test')"
      ]
     },
     "execution_count": 2,
     "metadata": {},
     "output_type": "execute_result"
    }
   ],
   "source": [
    "db"
   ]
  },
  {
   "cell_type": "markdown",
   "id": "5bdc5dd4-8615-455a-9d59-5c04e2acabdb",
   "metadata": {},
   "source": [
    "Q4. Using the database and the collection created in question number 3, write a code to insert one record, and insert many records. Use the find() and find_one() methods to print the inserted record."
   ]
  },
  {
   "cell_type": "code",
   "execution_count": 3,
   "id": "9ebacdb2-9176-4d2f-95b0-c3a45551dbf6",
   "metadata": {},
   "outputs": [],
   "source": [
    "db=client[\"momgodbAssignment\"]"
   ]
  },
  {
   "cell_type": "code",
   "execution_count": 5,
   "id": "338f6f27-dfd3-4f9f-986f-c550a8f9ca4d",
   "metadata": {},
   "outputs": [],
   "source": [
    "data={\"name\":\"subh\",\n",
    "      \"subject\":\"data science\",\n",
    "      \"address\":\"banglore\"\n",
    "}"
   ]
  },
  {
   "cell_type": "code",
   "execution_count": 6,
   "id": "5a748222-2cfa-4e8b-b3ce-79a9e46b3f6d",
   "metadata": {},
   "outputs": [],
   "source": [
    "cur=db[\"records\"]"
   ]
  },
  {
   "cell_type": "code",
   "execution_count": 8,
   "id": "af053705-04f5-405a-800b-3d4160d1c690",
   "metadata": {},
   "outputs": [
    {
     "data": {
      "text/plain": [
       "<pymongo.results.InsertOneResult at 0x7fd2515c98a0>"
      ]
     },
     "execution_count": 8,
     "metadata": {},
     "output_type": "execute_result"
    }
   ],
   "source": [
    "cur.insert_one(data)"
   ]
  },
  {
   "cell_type": "code",
   "execution_count": 9,
   "id": "e43a75c6-4199-4268-8e87-9cc38dee5e8f",
   "metadata": {},
   "outputs": [],
   "source": [
    "data1=[{\"id\":101, \"name\":\"rohan\", \"class\":\"data science\"},\n",
    "       {\"id\":102, \"name\":\"rohit\", \"class\":\"data science\"},\n",
    "       {\"id\":103, \"name\":\"shivendu\", \"class\":\"data science\"},\n",
    "       {\"id\":104, \"name\":\"shivam\", \"class\":\"data science\"},\n",
    "       {\"id\":105, \"name\":\"anshuman\", \"class\":\"data science\"},\n",
    "]"
   ]
  },
  {
   "cell_type": "code",
   "execution_count": 10,
   "id": "756637fb-4c9b-4a66-85b7-73fa0eae0f95",
   "metadata": {},
   "outputs": [
    {
     "data": {
      "text/plain": [
       "<pymongo.results.InsertManyResult at 0x7fd2515c9330>"
      ]
     },
     "execution_count": 10,
     "metadata": {},
     "output_type": "execute_result"
    }
   ],
   "source": [
    "cur.insert_many(data1)"
   ]
  },
  {
   "cell_type": "code",
   "execution_count": 12,
   "id": "1855cab8-20d3-47af-a721-a46d6c051184",
   "metadata": {},
   "outputs": [
    {
     "data": {
      "text/plain": [
       "{'_id': ObjectId('6472372eeb51390422eb3bd0'),\n",
       " 'name': 'subh',\n",
       " 'subject': 'data science',\n",
       " 'address': 'banglore'}"
      ]
     },
     "execution_count": 12,
     "metadata": {},
     "output_type": "execute_result"
    }
   ],
   "source": [
    "cur.find_one()"
   ]
  },
  {
   "cell_type": "code",
   "execution_count": 13,
   "id": "203e4183-08fe-4cbb-86db-06c106af144c",
   "metadata": {},
   "outputs": [
    {
     "name": "stdout",
     "output_type": "stream",
     "text": [
      "{'_id': ObjectId('6472372eeb51390422eb3bd0'), 'name': 'subh', 'subject': 'data science', 'address': 'banglore'}\n",
      "{'_id': ObjectId('647237f4eb51390422eb3bd1'), 'id': 101, 'name': 'rohan', 'class': 'data science'}\n",
      "{'_id': ObjectId('647237f4eb51390422eb3bd2'), 'id': 102, 'name': 'rohit', 'class': 'data science'}\n",
      "{'_id': ObjectId('647237f4eb51390422eb3bd3'), 'id': 103, 'name': 'shivendu', 'class': 'data science'}\n",
      "{'_id': ObjectId('647237f4eb51390422eb3bd4'), 'id': 104, 'name': 'shivam', 'class': 'data science'}\n",
      "{'_id': ObjectId('647237f4eb51390422eb3bd5'), 'id': 105, 'name': 'anshuman', 'class': 'data science'}\n"
     ]
    }
   ],
   "source": [
    "for e in cur.find():\n",
    "    print(e)"
   ]
  },
  {
   "cell_type": "code",
   "execution_count": 14,
   "id": "bd731449-818b-4174-a945-f1babb186914",
   "metadata": {},
   "outputs": [
    {
     "name": "stdout",
     "output_type": "stream",
     "text": [
      "{'_id': ObjectId('647237f4eb51390422eb3bd1'), 'id': 101, 'name': 'rohan', 'class': 'data science'}\n"
     ]
    }
   ],
   "source": [
    "for e in cur.find({\"name\":\"rohan\"}):\n",
    "    print(e)"
   ]
  },
  {
   "cell_type": "code",
   "execution_count": 15,
   "id": "150e1fe0-be9a-4bad-88ee-9325eb763804",
   "metadata": {},
   "outputs": [
    {
     "name": "stdout",
     "output_type": "stream",
     "text": [
      "{'_id': ObjectId('647237f4eb51390422eb3bd1'), 'id': 101, 'name': 'rohan', 'class': 'data science'}\n",
      "{'_id': ObjectId('647237f4eb51390422eb3bd2'), 'id': 102, 'name': 'rohit', 'class': 'data science'}\n",
      "{'_id': ObjectId('647237f4eb51390422eb3bd3'), 'id': 103, 'name': 'shivendu', 'class': 'data science'}\n",
      "{'_id': ObjectId('647237f4eb51390422eb3bd4'), 'id': 104, 'name': 'shivam', 'class': 'data science'}\n",
      "{'_id': ObjectId('647237f4eb51390422eb3bd5'), 'id': 105, 'name': 'anshuman', 'class': 'data science'}\n"
     ]
    }
   ],
   "source": [
    "for e in cur.find({\"class\":\"data science\"}):\n",
    "    print(e)"
   ]
  },
  {
   "cell_type": "markdown",
   "id": "15632278-2108-4d62-b1fa-3874fbced595",
   "metadata": {},
   "source": [
    "Q5. Explain how you can use the find() method to query the MongoDB database. Write a simple code to\n",
    "demonstrate this."
   ]
  },
  {
   "cell_type": "markdown",
   "id": "e06155aa-f06e-475d-88cc-462aa7f240ae",
   "metadata": {},
   "source": [
    "In MongoDB, the find() method is used to query the database and retrieve documents that match certain criteria. The find() method allows you to specify filters to retrieve specific documents based on the conditions you define. Here's an explanation of how you can use the find() method in MongoDB:\n",
    "\n",
    "Connecting to the MongoDB database:\n",
    "First, establish a connection to the MongoDB database using a MongoDB driver or library specific to your programming language. This connection will allow you to interact with the database and perform operations like querying.\n",
    "\n",
    "Selecting a collection:\n",
    "Once connected, select the collection in which you want to perform the find operation. A collection in MongoDB is equivalent to a table in a relational database.\n",
    "\n",
    "Executing the find query:\n",
    "Use the find() method on the selected collection to execute the query. The find() method takes a query object as its parameter, which contains the conditions to match the documents."
   ]
  },
  {
   "cell_type": "code",
   "execution_count": 16,
   "id": "fb84b7de-5f1b-490c-b910-33d13c8f0ca3",
   "metadata": {},
   "outputs": [
    {
     "data": {
      "text/plain": [
       "{'_id': ObjectId('6472372eeb51390422eb3bd0'),\n",
       " 'name': 'subh',\n",
       " 'subject': 'data science',\n",
       " 'address': 'banglore'}"
      ]
     },
     "execution_count": 16,
     "metadata": {},
     "output_type": "execute_result"
    }
   ],
   "source": [
    "cur.find_one()"
   ]
  },
  {
   "cell_type": "code",
   "execution_count": 17,
   "id": "12a8ca0f-ce82-4f8a-9f09-a7932608abd3",
   "metadata": {},
   "outputs": [
    {
     "name": "stdout",
     "output_type": "stream",
     "text": [
      "{'_id': ObjectId('6472372eeb51390422eb3bd0'), 'name': 'subh', 'subject': 'data science', 'address': 'banglore'}\n",
      "{'_id': ObjectId('647237f4eb51390422eb3bd1'), 'id': 101, 'name': 'rohan', 'class': 'data science'}\n",
      "{'_id': ObjectId('647237f4eb51390422eb3bd2'), 'id': 102, 'name': 'rohit', 'class': 'data science'}\n",
      "{'_id': ObjectId('647237f4eb51390422eb3bd3'), 'id': 103, 'name': 'shivendu', 'class': 'data science'}\n",
      "{'_id': ObjectId('647237f4eb51390422eb3bd4'), 'id': 104, 'name': 'shivam', 'class': 'data science'}\n",
      "{'_id': ObjectId('647237f4eb51390422eb3bd5'), 'id': 105, 'name': 'anshuman', 'class': 'data science'}\n"
     ]
    }
   ],
   "source": [
    "for e in cur.find():\n",
    "    print(e)"
   ]
  },
  {
   "cell_type": "code",
   "execution_count": 18,
   "id": "eb450dc0-2d9d-48c0-a009-4c57a00dfdfe",
   "metadata": {},
   "outputs": [
    {
     "name": "stdout",
     "output_type": "stream",
     "text": [
      "{'_id': ObjectId('647237f4eb51390422eb3bd1'), 'id': 101, 'name': 'rohan', 'class': 'data science'}\n"
     ]
    }
   ],
   "source": [
    "for e in cur.find({\"name\":\"rohan\"}):\n",
    "    print(e)"
   ]
  },
  {
   "cell_type": "code",
   "execution_count": 19,
   "id": "6ff26bba-eeae-4133-ab13-43fae9975438",
   "metadata": {},
   "outputs": [
    {
     "name": "stdout",
     "output_type": "stream",
     "text": [
      "{'_id': ObjectId('647237f4eb51390422eb3bd1'), 'id': 101, 'name': 'rohan', 'class': 'data science'}\n",
      "{'_id': ObjectId('647237f4eb51390422eb3bd2'), 'id': 102, 'name': 'rohit', 'class': 'data science'}\n",
      "{'_id': ObjectId('647237f4eb51390422eb3bd3'), 'id': 103, 'name': 'shivendu', 'class': 'data science'}\n",
      "{'_id': ObjectId('647237f4eb51390422eb3bd4'), 'id': 104, 'name': 'shivam', 'class': 'data science'}\n",
      "{'_id': ObjectId('647237f4eb51390422eb3bd5'), 'id': 105, 'name': 'anshuman', 'class': 'data science'}\n"
     ]
    }
   ],
   "source": [
    "for e in cur.find({\"class\":\"data science\"}):\n",
    "    print(e)"
   ]
  },
  {
   "cell_type": "markdown",
   "id": "42ce2464-82e7-4003-837b-05158ac868d9",
   "metadata": {},
   "source": [
    "Q6. Explain the sort() method. Give an example to demonstrate sorting in MongoDB."
   ]
  },
  {
   "cell_type": "markdown",
   "id": "9aeffdf8-7712-4e87-b350-c78db73e7dd9",
   "metadata": {},
   "source": [
    "The sort() method is used to sort the results of a query in MongoDB. The sort() method takes an object as its argument. The object specifies the fields that the documents should be sorted by. The sort() method also supports a number of options, such as:\n",
    "\n",
    "ascending: Sort the documents in ascending order.\n",
    "descending: Sort the documents in descending order.\n",
    "nullsFirst: Sort the documents so that null values are first.\n",
    "nullsLast: Sort the documents so that null values are last."
   ]
  },
  {
   "cell_type": "code",
   "execution_count": 22,
   "id": "c1f523cb-21db-4ee0-8589-0e8c8438119e",
   "metadata": {},
   "outputs": [
    {
     "name": "stdout",
     "output_type": "stream",
     "text": [
      "{'_id': ObjectId('647237f4eb51390422eb3bd5'), 'id': 105, 'name': 'anshuman', 'class': 'data science'}\n",
      "{'_id': ObjectId('647237f4eb51390422eb3bd4'), 'id': 104, 'name': 'shivam', 'class': 'data science'}\n",
      "{'_id': ObjectId('647237f4eb51390422eb3bd3'), 'id': 103, 'name': 'shivendu', 'class': 'data science'}\n",
      "{'_id': ObjectId('647237f4eb51390422eb3bd2'), 'id': 102, 'name': 'rohit', 'class': 'data science'}\n",
      "{'_id': ObjectId('647237f4eb51390422eb3bd1'), 'id': 101, 'name': 'rohan', 'class': 'data science'}\n"
     ]
    }
   ],
   "source": [
    "for e in cur.find({\"class\":\"data science\"}).sort(\"id\",-1):\n",
    "    print(e)"
   ]
  },
  {
   "cell_type": "markdown",
   "id": "d46d9fa3-7f57-47aa-82b1-52cee8d7fa3a",
   "metadata": {},
   "source": [
    "Q7. Explain why delete_one(), delete_many(), and drop() is used."
   ]
  },
  {
   "cell_type": "markdown",
   "id": "21f85a97-517b-4d87-bd41-f5957d5d37c4",
   "metadata": {},
   "source": [
    "In MongoDB, the delete_one(), delete_many(), and drop() methods are used to remove documents or entire collections from a MongoDB database. \n",
    "\n",
    "delete_one():\n",
    "The delete_one() method is used to delete a single document that matches a specified condition. It removes the first document that satisfies the given filter. If multiple documents match the filter, only the first one encountered will be deleted. \n",
    "\n",
    "delete_many():\n",
    "The delete_many() method is used to delete multiple documents that match a specified condition. It removes all documents that satisfy the given filter. \n",
    "\n",
    "drop():\n",
    "The drop() method is used to remove an entire collection from the database. It permanently deletes the collection and all its documents."
   ]
  }
 ],
 "metadata": {
  "kernelspec": {
   "display_name": "Python 3 (ipykernel)",
   "language": "python",
   "name": "python3"
  },
  "language_info": {
   "codemirror_mode": {
    "name": "ipython",
    "version": 3
   },
   "file_extension": ".py",
   "mimetype": "text/x-python",
   "name": "python",
   "nbconvert_exporter": "python",
   "pygments_lexer": "ipython3",
   "version": "3.10.8"
  }
 },
 "nbformat": 4,
 "nbformat_minor": 5
}
