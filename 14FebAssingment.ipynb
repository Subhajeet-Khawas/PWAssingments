{
 "cells": [
  {
   "cell_type": "markdown",
   "id": "38d9c8a4-90b2-46ee-8e41-2aa79b9394b9",
   "metadata": {},
   "source": [
    "Q1. What is multithreading in python? Why is it used? Name the module used to handle threads in python."
   ]
  },
  {
   "cell_type": "markdown",
   "id": "9b57fb46-4190-4c7d-b496-f1de1cb2460a",
   "metadata": {},
   "source": [
    "Multithreading is a programming technique that allows multiple threads to run concurrently within a single process. Each thread can be executing a different task, and they can all share the same resources, such as memory and files.\n",
    "\n",
    "Multithreading is used to improve the performance of programs by allowing them to take advantage of multiple CPUs or cores. For example, if a program has two threads, each thread can run on a different CPU core. This can significantly improve the speed of the program, especially for programs that are CPU-intensive.\n",
    "\n",
    "The threading module is used to handle threads in Python. The threading module provides a number of classes and functions that can be used to create and manage threads. For example, the Thread class can be used to create a new thread, and the start() method can be used to start the thread."
   ]
  },
  {
   "cell_type": "code",
   "execution_count": 2,
   "id": "bed2bb30-83d9-4fa4-b1a9-df5c81d5e6e8",
   "metadata": {},
   "outputs": [
    {
     "name": "stdout",
     "output_type": "stream",
     "text": [
      "current executing thread:  <bound method Thread.getName of <_MainThread(MainThread, started 140120968587072)>>\n"
     ]
    }
   ],
   "source": [
    "import threading\n",
    "print(\"current executing thread: \", threading.current_thread().getName)"
   ]
  },
  {
   "cell_type": "code",
   "execution_count": 3,
   "id": "c6f03923-4084-4a31-9534-03cf48700728",
   "metadata": {},
   "outputs": [
    {
     "name": "stdout",
     "output_type": "stream",
     "text": [
      "child\n",
      "child\n",
      "child\n",
      "child\n",
      "child\n",
      "child\n",
      "child\n",
      "child\n",
      "child\n",
      "child\n",
      "current executing thread:  <bound method Thread.getName of <Thread(Thread-6 (display), started 140120405562944)>>\n",
      "main\n",
      "main\n",
      "main\n",
      "main\n",
      "main\n",
      "main\n",
      "main\n",
      "main\n",
      "main\n",
      "main\n",
      "current executing thread:  <bound method Thread.getName of <_MainThread(MainThread, started 140120968587072)>>\n"
     ]
    }
   ],
   "source": [
    "from threading import *\n",
    "def display():\n",
    "    for i in range(10):\n",
    "        print(\"child\")\n",
    "    print(\"current executing thread: \", threading.current_thread().getName)\n",
    "        \n",
    "t=Thread(target=display)\n",
    "t.start()\n",
    "\n",
    "for i in range(10):\n",
    "        print(\"main\")\n",
    "print(\"current executing thread: \", threading.current_thread().getName)"
   ]
  },
  {
   "cell_type": "markdown",
   "id": "ecfd242a-e642-4b5e-a12f-acb5b01bf1e6",
   "metadata": {},
   "source": [
    "Q2. Why threading module used? Write the use of the following functions:\n",
    "1. activeCount()\n",
    "2. currentThread()\n",
    "3. enumerate()"
   ]
  },
  {
   "cell_type": "markdown",
   "id": "1473d5a3-d153-48b9-909c-f0c9fc721ba6",
   "metadata": {},
   "source": [
    "The threading module is used in Python to create and manage threads. Threads are lightweight processes that can run concurrently within a single process. This allows multiple tasks to be executed simultaneously, which can improve the performance of programs.\n",
    "\n",
    "The threading module provides a number of classes and functions that can be used to create and manage threads. For example, the Thread class can be used to create a new thread, and the start() method can be used to start the thread."
   ]
  },
  {
   "cell_type": "markdown",
   "id": "106f7719-2a61-46c8-bacc-1989adda3945",
   "metadata": {},
   "source": [
    "activeCount()"
   ]
  },
  {
   "cell_type": "markdown",
   "id": "c7ecd817-3e1e-4d21-ba63-0944fde79eda",
   "metadata": {},
   "source": [
    "The activeCount() method in the threading module in Python is used to get the number of active threads in the current thread group. The active threads are the threads that are currently running or are waiting to run.\n",
    "\n",
    "The activeCount() method is a static method, which means that it can be called without creating an instance of the Thread class."
   ]
  },
  {
   "cell_type": "code",
   "execution_count": 4,
   "id": "cbf234a8-0be0-4859-a372-ae1e5ea91532",
   "metadata": {},
   "outputs": [
    {
     "name": "stderr",
     "output_type": "stream",
     "text": [
      "/tmp/ipykernel_2540/1560711055.py:2: DeprecationWarning: activeCount() is deprecated, use active_count() instead\n",
      "  threading.activeCount()\n"
     ]
    },
    {
     "data": {
      "text/plain": [
       "8"
      ]
     },
     "execution_count": 4,
     "metadata": {},
     "output_type": "execute_result"
    }
   ],
   "source": [
    "import threading\n",
    "threading.activeCount()"
   ]
  },
  {
   "cell_type": "code",
   "execution_count": 5,
   "id": "f168a2f8-842e-4764-83b0-c3634ee3ca99",
   "metadata": {},
   "outputs": [
    {
     "data": {
      "text/plain": [
       "8"
      ]
     },
     "execution_count": 5,
     "metadata": {},
     "output_type": "execute_result"
    }
   ],
   "source": [
    "import threading\n",
    "threading.active_count()"
   ]
  },
  {
   "cell_type": "markdown",
   "id": "32e8844a-bc02-40cd-84eb-f872d739a6ab",
   "metadata": {},
   "source": [
    "currentThread()"
   ]
  },
  {
   "cell_type": "markdown",
   "id": "999a37c9-4923-4197-8873-f1087e722acd",
   "metadata": {},
   "source": [
    "The currentThread() method in the threading module in Python is used to get a reference to the currently executing thread. The currently executing thread is the thread that is running at the moment.\n",
    "\n",
    "The currentThread() method is a static method, which means that it can be called without creating an instance of the Thread class."
   ]
  },
  {
   "cell_type": "code",
   "execution_count": 6,
   "id": "07263902-914f-4c99-8ab0-ef78464c4bfd",
   "metadata": {},
   "outputs": [
    {
     "name": "stderr",
     "output_type": "stream",
     "text": [
      "/tmp/ipykernel_2540/1203648550.py:2: DeprecationWarning: currentThread() is deprecated, use current_thread() instead\n",
      "  threading.currentThread()\n"
     ]
    },
    {
     "data": {
      "text/plain": [
       "<_MainThread(MainThread, started 140120968587072)>"
      ]
     },
     "execution_count": 6,
     "metadata": {},
     "output_type": "execute_result"
    }
   ],
   "source": [
    "import threading\n",
    "threading.currentThread()"
   ]
  },
  {
   "cell_type": "code",
   "execution_count": 7,
   "id": "161046fa-4366-4cbe-99ba-f365eea9e82f",
   "metadata": {},
   "outputs": [
    {
     "data": {
      "text/plain": [
       "<_MainThread(MainThread, started 140120968587072)>"
      ]
     },
     "execution_count": 7,
     "metadata": {},
     "output_type": "execute_result"
    }
   ],
   "source": [
    "import threading\n",
    "threading.current_thread()"
   ]
  },
  {
   "cell_type": "markdown",
   "id": "cae32de7-7eaf-40e3-9d20-805584ba90ec",
   "metadata": {},
   "source": [
    "enumerate()"
   ]
  },
  {
   "cell_type": "markdown",
   "id": "58f9ac98-1ed6-455d-984f-5baa599dfc88",
   "metadata": {},
   "source": [
    "The enumerate() method in the threading module in Python is used to get a list of all the Thread objects that are currently alive. The alive threads are the threads that have been started but have not yet terminated.\n",
    "\n",
    "The enumerate() method is a static method, which means that it can be called without creating an instance of the Thread class."
   ]
  },
  {
   "cell_type": "code",
   "execution_count": 8,
   "id": "e4482e07-8ac7-41a5-86b9-3afcf6ed4e59",
   "metadata": {},
   "outputs": [
    {
     "name": "stdout",
     "output_type": "stream",
     "text": [
      "child\n",
      "child\n",
      "child\n",
      "child\n",
      "child\n",
      "child\n",
      "child\n",
      "child\n",
      "child\n",
      "child\n",
      "current executing thread:  <bound method Thread.getName of <Thread(Thread-7 (display), started 140120405562944)>>\n",
      "main\n",
      "main\n",
      "main\n",
      "main\n",
      "main\n",
      "main\n",
      "main\n",
      "main\n",
      "main\n",
      "main\n",
      "current executing thread:  <bound method Thread.getName of <_MainThread(MainThread, started 140120968587072)>>\n",
      "MainThread\n",
      "IOPub\n",
      "Heartbeat\n",
      "Thread-3 (_watch_pipe_fd)\n",
      "Thread-4 (_watch_pipe_fd)\n",
      "Control\n",
      "IPythonHistorySavingThread\n",
      "Thread-2\n"
     ]
    }
   ],
   "source": [
    "from threading import *\n",
    "def display():\n",
    "    for i in range(10):\n",
    "        print(\"child\")\n",
    "    print(\"current executing thread: \", threading.current_thread().getName)\n",
    "        \n",
    "t=Thread(target=display)\n",
    "t.start()\n",
    "\n",
    "for i in range(10):\n",
    "        print(\"main\")\n",
    "print(\"current executing thread: \", threading.current_thread().getName)\n",
    "\n",
    "for thread in threading.enumerate():\n",
    "  print(thread.name)"
   ]
  },
  {
   "cell_type": "markdown",
   "id": "d7d43dd6-789e-4132-bd57-5e636f132405",
   "metadata": {},
   "source": [
    "Q3. Explain the following functions:\n",
    "1. run()\n",
    "2. start()\n",
    "3. join()\n",
    "4. isAlive()"
   ]
  },
  {
   "cell_type": "markdown",
   "id": "9a881ea4-291c-40e6-a17a-16d2f87950a3",
   "metadata": {},
   "source": [
    "run()"
   ]
  },
  {
   "cell_type": "markdown",
   "id": "947687d0-ed69-4322-8cab-3cd10cd19c2f",
   "metadata": {},
   "source": [
    "The run() method in the threading module in Python is used to execute the target function of a thread. The target function is the function that will be executed when the thread starts.\n",
    "\n",
    "The run() method is a method of the Thread class."
   ]
  },
  {
   "cell_type": "code",
   "execution_count": 14,
   "id": "ba9d311d-6ba4-4334-91c6-8735126810cc",
   "metadata": {},
   "outputs": [
    {
     "name": "stdout",
     "output_type": "stream",
     "text": [
      "child\n",
      "child\n",
      "child\n",
      "child\n",
      "child\n",
      "child\n",
      "child\n",
      "child\n",
      "child\n",
      "child\n",
      "current executing thread:  <bound method Thread.getName of <Mythread(Thread-15, started 140120397170240)>>\n",
      "main\n",
      "main\n",
      "main\n",
      "main\n",
      "main\n",
      "main\n",
      "main\n",
      "main\n",
      "main\n",
      "main\n",
      "current executing thread:  <bound method Thread.getName of <_MainThread(MainThread, started 140120968587072)>>\n"
     ]
    }
   ],
   "source": [
    "from threading import *\n",
    "class Mythread(Thread):\n",
    "    def run(self): #run() is used here\n",
    "        for i in range(10):\n",
    "            print(\"child\")\n",
    "        print(\"current executing thread: \", threading.current_thread().getName)\n",
    "\n",
    "t=Mythread()\n",
    "t.start()\n",
    "\n",
    "for i in range(10):\n",
    "    print(\"main\")\n",
    "print(\"current executing thread: \", threading.current_thread().getName)"
   ]
  },
  {
   "cell_type": "markdown",
   "id": "115bd996-954c-48cf-8c5f-feb19881d68b",
   "metadata": {},
   "source": [
    "start()"
   ]
  },
  {
   "cell_type": "markdown",
   "id": "ec040717-2930-45b0-980e-6ad9b082fdc6",
   "metadata": {},
   "source": [
    "The start() method in the threading module in Python is used to start a thread. When a thread is started, it will begin executing the target function that was specified when the thread was created.\n",
    "\n",
    "The start() method is a method of the Thread class."
   ]
  },
  {
   "cell_type": "code",
   "execution_count": 13,
   "id": "63bb6a15-4589-45a9-8228-e83e7aa03762",
   "metadata": {},
   "outputs": [
    {
     "name": "stdout",
     "output_type": "stream",
     "text": [
      "child\n",
      "child\n",
      "child\n",
      "child\n",
      "child\n",
      "child\n",
      "child\n",
      "child\n",
      "child\n",
      "child\n",
      "current executing thread:  <bound method Thread.getName of <Thread(Thread-14 (m1), started 140120397170240)>>\n",
      "main\n",
      "main\n",
      "main\n",
      "main\n",
      "main\n",
      "main\n",
      "main\n",
      "main\n",
      "main\n",
      "main\n",
      "current executing thread:  <bound method Thread.getName of <_MainThread(MainThread, started 140120968587072)>>\n"
     ]
    }
   ],
   "source": [
    "from threading import *\n",
    "class Test:\n",
    "    def m1(self):\n",
    "        for i in range(10):\n",
    "            print(\"child\")\n",
    "        print(\"current executing thread: \", threading.current_thread().getName)\n",
    "\n",
    "obj=Test()\n",
    "t=Thread(target=obj.m1)\n",
    "t.start() #start() is used here\n",
    "\n",
    "for i in range(10):\n",
    "    print(\"main\")\n",
    "print(\"current executing thread: \", threading.current_thread().getName)"
   ]
  },
  {
   "cell_type": "markdown",
   "id": "0b6eb22f-05ab-483c-893d-2623cb467a04",
   "metadata": {},
   "source": [
    "join()"
   ]
  },
  {
   "cell_type": "markdown",
   "id": "e3303b06-7208-4978-bd89-a96408228037",
   "metadata": {},
   "source": [
    "The join() method in the threading module in Python is used to wait for a thread to finish executing. When a thread is joined, the calling thread will block until the joined thread has terminated.\n",
    "\n",
    "The join() method is a method of the Thread class."
   ]
  },
  {
   "cell_type": "code",
   "execution_count": 12,
   "id": "daa1bb1a-c2cc-47bf-8580-e6f551e8b233",
   "metadata": {},
   "outputs": [
    {
     "name": "stdout",
     "output_type": "stream",
     "text": [
      "2,1,4,4,9,6,16,8,25,10,36,12,total time taken:  6.008119821548462\n"
     ]
    }
   ],
   "source": [
    "from threading import *\n",
    "import time\n",
    "def doubles(l):\n",
    "    for e in l:\n",
    "        time.sleep(1)\n",
    "        print(e*2, end=\",\")\n",
    "def squares(l):\n",
    "    for e in l:\n",
    "        time.sleep(1)\n",
    "        print(e*e, end=\",\")\n",
    "l=[1,2,3,4,5,6]\n",
    "begintime=time.time()\n",
    "t1=Thread(target=doubles, args=(l,))\n",
    "t2=Thread(target=squares, args=(l,))\n",
    "t1.start()\n",
    "t2.start()\n",
    "t1.join() #join() is used here\n",
    "t2.join() #join() is used here\n",
    "endtime=time.time()\n",
    "print(\"total time taken: \",endtime-begintime)"
   ]
  },
  {
   "cell_type": "markdown",
   "id": "ef875bf8-5264-4d5c-8c67-da0b03fda0ce",
   "metadata": {},
   "source": [
    "isAlive()"
   ]
  },
  {
   "cell_type": "markdown",
   "id": "c8820ca1-ce3d-4511-a14a-eef3cadfd015",
   "metadata": {},
   "source": [
    "The isAlive() method in the threading module in Python is used to check if a thread is still running. A thread is considered alive if it has been started and has not yet terminated.\n",
    "\n",
    "The isAlive() method is a method of the Thread class."
   ]
  },
  {
   "cell_type": "code",
   "execution_count": 17,
   "id": "55fc10ea-0be0-4d0a-9a99-038b1b08fb70",
   "metadata": {},
   "outputs": [
    {
     "name": "stdout",
     "output_type": "stream",
     "text": [
      "child\n",
      "<bound method Thread.is_alive of <Thread(Thread-18 (display), stopped 140120397170240)>>\n",
      "main\n"
     ]
    }
   ],
   "source": [
    "from threading import *\n",
    "def display():\n",
    "        print(\"child\")\n",
    "        \n",
    "t=Thread(target=display)\n",
    "t.start()\n",
    "print(t.is_alive)\n",
    "print(\"main\")"
   ]
  },
  {
   "cell_type": "code",
   "execution_count": null,
   "id": "e4f4e465-ea34-4919-ba15-c537f0c1c1ff",
   "metadata": {},
   "outputs": [],
   "source": []
  }
 ],
 "metadata": {
  "kernelspec": {
   "display_name": "Python 3 (ipykernel)",
   "language": "python",
   "name": "python3"
  },
  "language_info": {
   "codemirror_mode": {
    "name": "ipython",
    "version": 3
   },
   "file_extension": ".py",
   "mimetype": "text/x-python",
   "name": "python",
   "nbconvert_exporter": "python",
   "pygments_lexer": "ipython3",
   "version": "3.10.8"
  }
 },
 "nbformat": 4,
 "nbformat_minor": 5
}
