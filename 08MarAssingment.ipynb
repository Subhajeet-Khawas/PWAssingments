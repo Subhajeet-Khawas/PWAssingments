{
 "cells": [
  {
   "cell_type": "markdown",
   "id": "4e9c4499-db51-4d71-b829-50dbd8690e49",
   "metadata": {},
   "source": [
    "Q1. What is the Probability density function?"
   ]
  },
  {
   "cell_type": "markdown",
   "id": "c67f7787-d514-4b28-9f3b-c987a6aeffdf",
   "metadata": {},
   "source": [
    "The Probability Density Function (PDF) is a statistical function that describes the likelihood of a continuous random variable falling within a particular range of values. In simpler terms, it provides a probability distribution for continuous random variables.\n",
    "\n",
    "The probability density function, denoted as \\( f(x) \\), is associated with continuous probability distributions, such as the normal distribution, exponential distribution, and others. Unlike the Probability Mass Function (PMF) used for discrete random variables, the PDF does not directly give the probability of specific values. Instead, it gives the relative likelihood of a variable taking on a specific range of values.\n",
    "\n",
    "The key properties of a probability density function are as follows:\n",
    "\n",
    "1. **Non-Negativity:**\n",
    "   - The PDF is non-negative for all values of the random variable: \\( f(x) \\geq 0 \\).\n",
    "\n",
    "2. **Area under the Curve:**\n",
    "   - The area under the curve of the PDF over the entire range of possible values is equal to 1.\n",
    "\n",
    "Mathematically, the probability that a continuous random variable \\( X \\) falls within a specific interval \\([a, b]\\) is given by the integral of the PDF over that interval:\n",
    "\n",
    "\\[ P(a \\leq X \\leq b) = \\int_{a}^{b} f(x) \\,dx \\]\n",
    "\n",
    "The integral represents the area under the curve of the PDF within the specified interval.\n",
    "\n",
    "### Example:\n",
    "\n",
    "For the standard normal distribution, the PDF is represented by the bell-shaped curve. The formula for the standard normal distribution PDF, denoted as \\( \\phi(x) \\), is:\n",
    "\n",
    "\\[ \\phi(x) = \\frac{1}{\\sqrt{2\\pi}} e^{-\\frac{x^2}{2}} \\]\n",
    "\n",
    "This formula describes the likelihood of a random variable \\( X \\) taking on a specific value \\( x \\) in the standard normal distribution. The graph of this PDF is a smooth curve, and the area under the entire curve is equal to 1. The PDF allows statisticians and analysts to understand the distribution of continuous random variables and make probabilistic statements about the likelihood of observing values within certain intervals."
   ]
  },
  {
   "cell_type": "markdown",
   "id": "38bbbb42-a010-45bb-a3f9-f80a0ad91312",
   "metadata": {},
   "source": [
    "Q2. What are the types of Probability distribution?"
   ]
  },
  {
   "cell_type": "markdown",
   "id": "2a013b06-a67c-43de-8329-e2466811a6f6",
   "metadata": {},
   "source": [
    "There are several types of probability distributions, each applicable to different types of random variables, whether discrete or continuous. Here are some common types of probability distributions:\n",
    "\n",
    "### Discrete Probability Distributions:\n",
    "\n",
    "1. **Uniform Distribution:**\n",
    "   - All outcomes have equal probability.\n",
    "   - Example: Rolling a fair six-sided die.\n",
    "\n",
    "2. **Bernoulli Distribution:**\n",
    "   - Describes a binary experiment (success/failure) with a fixed probability of success.\n",
    "   - Example: Coin flip (success: heads, failure: tails).\n",
    "\n",
    "3. **Binomial Distribution:**\n",
    "   - Represents the number of successes in a fixed number of independent Bernoulli trials.\n",
    "   - Parameters: Number of trials (\\(n\\)) and probability of success (\\(p\\)).\n",
    "   - Example: Number of heads in 10 coin flips.\n",
    "\n",
    "4. **Poisson Distribution:**\n",
    "   - Models the number of events occurring in fixed intervals of time or space.\n",
    "   - Parameter: Average rate of occurrence (\\(\\lambda\\)).\n",
    "   - Example: Number of emails received in an hour.\n",
    "\n",
    "### Continuous Probability Distributions:\n",
    "\n",
    "1. **Normal Distribution (Gaussian Distribution):**\n",
    "   - Symmetric bell-shaped curve.\n",
    "   - Fully described by mean (\\(\\mu\\)) and standard deviation (\\(\\sigma\\)).\n",
    "   - Many real-world phenomena follow a normal distribution.\n",
    "   - Example: Height of individuals in a population.\n",
    "\n",
    "2. **Exponential Distribution:**\n",
    "   - Models the time between events in a Poisson process.\n",
    "   - Parameter: Rate of occurrence (\\(\\lambda\\)).\n",
    "   - Example: Time between arrivals of customers at a service point.\n",
    "\n",
    "3. **Uniform Distribution:**\n",
    "   - All outcomes have equal probability over a continuous range.\n",
    "   - Example: Random selection of a point within a given interval.\n",
    "\n",
    "4. **Cauchy Distribution:**\n",
    "   - Similar to the normal distribution but has heavier tails.\n",
    "   - No well-defined mean or variance.\n",
    "   - Example: Occurrence in physics and engineering.\n",
    "\n",
    "5. **Logistic Distribution:**\n",
    "   - S-shaped distribution, often used in logistic regression.\n",
    "   - Parameters: Location (\\(\\mu\\)) and scale (\\(s\\)).\n",
    "   - Example: Modeling growth rates.\n",
    "\n",
    "6. **Gamma Distribution:**\n",
    "   - Generalization of the exponential distribution.\n",
    "   - Parameters: Shape (\\(k\\)) and scale (\\(\\theta\\)).\n",
    "   - Example: Waiting time until a fixed number of events occur.\n",
    "\n",
    "These probability distributions are fundamental in statistics and probability theory, providing a framework for modeling and analyzing random variables in various fields, including finance, biology, physics, and engineering. The choice of distribution depends on the nature of the data and the underlying process being modeled."
   ]
  },
  {
   "cell_type": "markdown",
   "id": "6ef8bf63-24df-4f24-b511-e6a993835a47",
   "metadata": {},
   "source": [
    "Q3. Write a Python function to calculate the probability density function of a normal distribution with\n",
    "given mean and standard deviation at a given point."
   ]
  },
  {
   "cell_type": "code",
   "execution_count": 6,
   "id": "82c8ffeb-a189-418e-8843-35024be2e5f6",
   "metadata": {},
   "outputs": [
    {
     "name": "stdout",
     "output_type": "stream",
     "text": [
      "The pdf at x = 1 is 0.24197072451914337\n"
     ]
    }
   ],
   "source": [
    "import math\n",
    "def pdf(mean, std_dev, x):\n",
    "    result=(1/(std_dev*math.sqrt((2*math.pi)))* math.exp((-0.5*(((x-mean)/std_dev)**2))))\n",
    "    return result\n",
    "mean=0\n",
    "std_dev=1\n",
    "x=1\n",
    "print(\"The pdf at x = {} is {}\".format(x,pdf(mean,std_dev,x)))"
   ]
  },
  {
   "cell_type": "markdown",
   "id": "a46f315a-607a-4488-b664-457c37cd420b",
   "metadata": {},
   "source": [
    "Q4. What are the properties of Binomial distribution? Give two examples of events where binomial\n",
    "distribution can be applied."
   ]
  },
  {
   "cell_type": "markdown",
   "id": "63c05934-7cd8-4cd5-affb-de7f3912b738",
   "metadata": {},
   "source": [
    "The binomial distribution is a discrete probability distribution that models the number of successes in a fixed number of independent Bernoulli trials, where each trial has only two possible outcomes (success or failure). The key properties of the binomial distribution are as follows:\n",
    "\n",
    "### Properties of Binomial Distribution:\n",
    "\n",
    "1. **Number of Trials (\\(n\\)):**\n",
    "   - The distribution is based on a fixed number of trials (\\(n\\)), where each trial is independent.\n",
    "\n",
    "2. **Success Probability (\\(p\\)):**\n",
    "   - Each trial has only two possible outcomes: success or failure.\n",
    "   - The probability of success on any given trial is denoted by \\(p\\), and the probability of failure is \\(1 - p\\).\n",
    "\n",
    "3. **Independence:**\n",
    "   - The trials are assumed to be independent, meaning the outcome of one trial does not affect the outcome of another.\n",
    "\n",
    "4. **Discreteness:**\n",
    "   - The random variable representing the number of successes (\\(X\\)) is discrete and takes non-negative integer values.\n",
    "\n",
    "5. **Binomial Coefficient:**\n",
    "   - The probability mass function (PMF) of the binomial distribution involves the binomial coefficient, often denoted as \\(\\binom{n}{k}\\), which represents the number of ways to choose \\(k\\) successes from \\(n\\) trials.\n",
    "\n",
    "### Probability Mass Function (PMF):\n",
    "\n",
    "The PMF of the binomial distribution is given by:\n",
    "\n",
    "\\[ P(X = k) = \\binom{n}{k} \\cdot p^k \\cdot (1 - p)^{n-k} \\]\n",
    "\n",
    "Where:\n",
    "- \\( X \\) is the number of successes.\n",
    "- \\( n \\) is the number of trials.\n",
    "- \\( p \\) is the probability of success on a single trial.\n",
    "- \\( k \\) is the number of successes.\n",
    "\n",
    "### Examples of Binomial Distribution:\n",
    "\n",
    "1. **Coin Flipping:**\n",
    "   - Consider flipping a fair coin (with probability of heads \\(p = 0.5\\)) 5 times (\\(n = 5\\)).\n",
    "   - The binomial distribution can be used to model the number of heads obtained in these 5 flips.\n",
    "\n",
    "2. **Quality Control:**\n",
    "   - In a manufacturing process, a certain percentage of items produced may be defective (\\(p\\)).\n",
    "   - If we inspect a sample of \\(n\\) items, the binomial distribution can be used to model the number of defective items in the sample.\n",
    "\n",
    "These examples demonstrate situations where there are a fixed number of trials, each with only two possible outcomes, and the goal is to model the number of successes (or failures) in those trials. The binomial distribution is widely applied in various fields, including statistics, biology, quality control, and finance."
   ]
  },
  {
   "cell_type": "markdown",
   "id": "ac599c6d-9412-4abf-9edb-4f9281a9a0fc",
   "metadata": {},
   "source": [
    "Q5. Generate a random sample of size 1000 from a binomial distribution with probability of success 0.4\n",
    "and plot a histogram of the results using matplotlib."
   ]
  },
  {
   "cell_type": "code",
   "execution_count": 11,
   "id": "7614328d-76ec-435a-9e6f-2f4c90f7db5a",
   "metadata": {},
   "outputs": [],
   "source": [
    "import numpy as np\n",
    "bn=np.random.binomial(n=1, p=0.4, size=1000)"
   ]
  },
  {
   "cell_type": "code",
   "execution_count": 16,
   "id": "cfaeb13d-5b21-4779-b26f-fbabfb610422",
   "metadata": {},
   "outputs": [
    {
     "data": {
      "image/png": "[encoded data removed]",
      "text/plain": [
       "<Figure size 640x480 with 1 Axes>"
      ]
     },
     "metadata": {},
     "output_type": "display_data"
    }
   ],
   "source": [
    "import matplotlib.pyplot as plt\n",
    "plt.hist(bn, bins=[-0.5, 0.5, 1.5],edgecolor='black',alpha=0.7)\n",
    "plt.ylabel('Frequency')\n",
    "plt.title('Binomial Distribution Random Sample')\n",
    "plt.show()"
   ]
  },
  {
   "cell_type": "markdown",
   "id": "92f4860f-7d06-4dc7-83cd-7c5c2e867236",
   "metadata": {},
   "source": [
    "Q6. Write a Python function to calculate the cumulative distribution function of a Poisson distribution\n",
    "with given mean at a given point."
   ]
  },
  {
   "cell_type": "code",
   "execution_count": 20,
   "id": "4f40c1bd-7202-44d1-9611-8a017f18455d",
   "metadata": {},
   "outputs": [
    {
     "name": "stdout",
     "output_type": "stream",
     "text": [
      "The pdf for Poisson Distribution at x = 3 is 0.7575761331330659\n"
     ]
    }
   ],
   "source": [
    "def cdf(mean, x):\n",
    "    r=0\n",
    "    for i in range(0,x+1):\n",
    "        r=r+((mean**i)/math.factorial(i))\n",
    "    return math.exp(-mean)*r\n",
    "mean=2.5\n",
    "x=3\n",
    "print(\"The pdf for Poisson Distribution at x = {} is {}\".format(x,cdf(mean,x)))"
   ]
  },
  {
   "cell_type": "markdown",
   "id": "c87a1f67-b435-4707-ac4e-12665abd160a",
   "metadata": {},
   "source": [
    "Q7. How Binomial distribution different from Poisson distribution?"
   ]
  },
  {
   "cell_type": "markdown",
   "id": "2302271f-e36e-486f-95c7-9ddf31f7ea3f",
   "metadata": {},
   "source": [
    "The Binomial distribution and Poisson distribution are both probability distributions that describe the number of successes in a series of independent trials. However, they have different characteristics and are applicable to different types of scenarios. Here are the key differences between the Binomial and Poisson distributions:\n",
    "\n",
    "### Binomial Distribution:\n",
    "\n",
    "1. **Number of Trials:**\n",
    "   - The Binomial distribution is used when there is a fixed number of independent trials (\\(n\\)).\n",
    "   - Each trial has only two possible outcomes: success or failure.\n",
    "\n",
    "2. **Probability of Success:**\n",
    "   - The probability of success (\\(p\\)) is constant for each trial.\n",
    "\n",
    "3. **Discreteness:**\n",
    "   - The random variable representing the number of successes (\\(X\\)) is discrete and takes non-negative integer values.\n",
    "\n",
    "4. **Parameterization:**\n",
    "   - The Binomial distribution is parameterized by the number of trials (\\(n\\)) and the probability of success (\\(p\\)).\n",
    "\n",
    "5. **Formula:**\n",
    "   - Probability Mass Function (PMF):\n",
    "     \\[ P(X = k) = \\binom{n}{k} \\cdot p^k \\cdot (1 - p)^{n-k} \\]\n",
    "\n",
    "6. **Application:**\n",
    "   - Commonly used in situations where there is a fixed number of trials, such as coin flips, dice rolls, or repeated experiments with a binary outcome.\n",
    "\n",
    "### Poisson Distribution:\n",
    "\n",
    "1. **Number of Trials:**\n",
    "   - The Poisson distribution is used when the number of trials is not fixed.\n",
    "   - It models the number of events that occur in a fixed interval of time or space.\n",
    "\n",
    "2. **Rate Parameter:**\n",
    "   - Instead of specifying a fixed probability of success for each trial, the Poisson distribution is parameterized by the average rate of events (\\(\\lambda\\)).\n",
    "\n",
    "3. **Discreteness:**\n",
    "   - The random variable representing the number of events (\\(X\\)) is discrete and takes non-negative integer values.\n",
    "\n",
    "4. **Probability of Success:**\n",
    "   - The probability of success in a very small interval approaches zero, but the rate of events is kept constant.\n",
    "\n",
    "5. **Formula:**\n",
    "   - Probability Mass Function (PMF):\n",
    "     \\[ P(X = k) = \\frac{e^{-\\lambda} \\cdot \\lambda^k}{k!} \\]\n",
    "\n",
    "6. **Application:**\n",
    "   - Commonly used to model rare events or occurrences, such as the number of emails received in an hour, phone calls at a call center, or defects in a product.\n",
    "\n",
    "### Relationship:\n",
    "\n",
    "- The Poisson distribution can be considered as a limiting case of the Binomial distribution when the number of trials (\\(n\\)) is large, and the probability of success (\\(p\\)) is small, while \\(np\\) remains constant (\\(\\lambda\\)).\n",
    "  \n",
    "- When \\(n\\) is large and \\(p\\) is small, the Binomial distribution converges to the Poisson distribution.\n",
    "\n",
    "In summary, while both the Binomial and Poisson distributions deal with counts of events, the Binomial distribution is suitable for scenarios with a fixed number of trials and a constant probability of success, whereas the Poisson distribution is suitable for situations involving rare events with a known average rate."
   ]
  },
  {
   "cell_type": "markdown",
   "id": "74b8aa9d-41a4-48a5-ab57-e5c5873ba127",
   "metadata": {},
   "source": [
    "Q8. Generate a random sample of size 1000 from a Poisson distribution with mean 5 and calculate the\n",
    "sample mean and variance."
   ]
  },
  {
   "cell_type": "code",
   "execution_count": 24,
   "id": "364fb341-f9dc-4de8-a3e8-028cff9cf628",
   "metadata": {},
   "outputs": [
    {
     "name": "stdout",
     "output_type": "stream",
     "text": [
      "Mean is:  5.101\n",
      "Median is:  5.0\n"
     ]
    }
   ],
   "source": [
    "pd=np.random.poisson(5,1000)\n",
    "print(\"Mean is: \",np.mean(pd))\n",
    "print(\"Median is: \",np.median(pd))"
   ]
  },
  {
   "cell_type": "code",
   "execution_count": 25,
   "id": "726a21cb-fe5d-48dc-9d03-8a2f2be79790",
   "metadata": {},
   "outputs": [
    {
     "name": "stdout",
     "output_type": "stream",
     "text": [
      "Sample Mean: 4.991\n",
      "Sample Variance: 4.662919\n"
     ]
    }
   ],
   "source": [
    "import numpy as np\n",
    "\n",
    "# Set the parameters\n",
    "mean_lambda = 5\n",
    "sample_size = 1000\n",
    "\n",
    "# Generate a random sample from a Poisson distribution\n",
    "poisson_sample = np.random.poisson(lam=mean_lambda, size=sample_size)\n",
    "\n",
    "# Calculate sample mean and variance\n",
    "sample_mean = np.mean(poisson_sample)\n",
    "sample_variance = np.var(poisson_sample)\n",
    "\n",
    "print(f\"Sample Mean: {sample_mean}\")\n",
    "print(f\"Sample Variance: {sample_variance}\")\n"
   ]
  },
  {
   "cell_type": "code",
   "execution_count": null,
   "id": "0f5c2cc3-52e5-4db7-a711-46cc580ed1c3",
   "metadata": {},
   "outputs": [],
   "source": []
  }
 ],
 "metadata": {
  "kernelspec": {
   "display_name": "Python 3 (ipykernel)",
   "language": "python",
   "name": "python3"
  },
  "language_info": {
   "codemirror_mode": {
    "name": "ipython",
    "version": 3
   },
   "file_extension": ".py",
   "mimetype": "text/x-python",
   "name": "python",
   "nbconvert_exporter": "python",
   "pygments_lexer": "ipython3",
   "version": "3.10.8"
  }
 },
 "nbformat": 4,
 "nbformat_minor": 5
}
