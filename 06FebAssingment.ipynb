{
 "cells": [
  {
   "cell_type": "markdown",
   "id": "a80d01ab-8bbf-4505-b213-47df4d8506bf",
   "metadata": {},
   "source": [
    "Q1. Create a function which will take a list as an argument and return the product of all the numbers\n",
    "after creating a flat list.\n",
    "Use the below-given list as an argument for your function.\n",
    "list1 = [1,2,3,4, [44,55,66, True], False, (34,56,78,89,34), {1,2,3,3,2,1}, {1:34, \"key2\": [55, 67, 78, 89], 4: (45,\n",
    "22, 61, 34)}, [56, 'data science'], 'Machine Learning']\n",
    "Note: you must extract numeric keys and values of the dictionary also."
   ]
  },
  {
   "cell_type": "code",
   "execution_count": 3,
   "id": "584e68e9-c337-4451-8e5b-ce15cb535af8",
   "metadata": {},
   "outputs": [
    {
     "data": {
      "text/plain": [
       "4134711838987085478833841242112000"
      ]
     },
     "execution_count": 3,
     "metadata": {},
     "output_type": "execute_result"
    }
   ],
   "source": [
    "from functools import *\n",
    "def product_of_list_elements(l):\n",
    "    l2=[]\n",
    "    l3=[]\n",
    "    for e in l:\n",
    "        if type(e)==int:\n",
    "            l2.append(e)\n",
    "        elif type(e)==list:\n",
    "            for i in e:\n",
    "                if type(i)==int:\n",
    "                    l2.append(i)\n",
    "        elif type(e)==tuple:\n",
    "            for j in e:\n",
    "                if type(j)==int:\n",
    "                    l2.append(j)\n",
    "        elif type(e)==set:\n",
    "            for k in e:\n",
    "                if type(k)==int:\n",
    "                    l2.append(k)\n",
    "        elif type(e)==dict:\n",
    "            for k,v in e.items():\n",
    "                l2.append(k)\n",
    "                l2.append(v)\n",
    "    for e in l2:\n",
    "        if type(e)==int:\n",
    "            l3.append(e)\n",
    "        elif type(e)==list:\n",
    "            for i in e:\n",
    "                if type(i)==int:\n",
    "                    l3.append(i)\n",
    "        elif type(e)==tuple:\n",
    "            for j in e:\n",
    "                if type(j)==int:\n",
    "                    l3.append(j)\n",
    "    prod=reduce(lambda x,y:x*y,l3)\n",
    "    return prod\n",
    "l = [1,2,3,4, [44,55,66, True], False, (34,56,78,89,34), {1,2,3,3,2,1}, {1:34, \"key2\": [55, 67, 78, 89], 4: (45,\n",
    "22, 61, 34)}, [56, 'data science'], 'Machine Learning']\n",
    "result= product_of_list_elements(l)\n",
    "result"
   ]
  },
  {
   "cell_type": "markdown",
   "id": "a4170f3a-dd1f-4086-938d-c62b215b65b3",
   "metadata": {},
   "source": [
    "Q2. Write a python program for encrypting a message sent to you by your friend. The logic of encryption\n",
    "should be such that, for a the output should be z. For b, the output should be y. For c, the output should\n",
    "be x respectively. Also, the whitespace should be replaced with a dollar sign. Keep the punctuation\n",
    "marks unchanged.\n",
    "Input Sentence: I want to become a Data Scientist.\n",
    "Encrypt the above input sentence using the program you just created.\n",
    "Note: Convert the given input sentence into lowercase before encrypting. The final output should be\n",
    "lowercase."
   ]
  },
  {
   "cell_type": "code",
   "execution_count": 8,
   "id": "e9e32738-66ac-404b-a3ef-b3c2363e76ca",
   "metadata": {},
   "outputs": [
    {
     "name": "stdin",
     "output_type": "stream",
     "text": [
      "Enter your message:  I want to become a Data Scientist\n"
     ]
    },
    {
     "name": "stdout",
     "output_type": "stream",
     "text": [
      "r$dzmg$gl$yvxlnv$z$wzgz$hxrvmgrhg\n"
     ]
    }
   ],
   "source": [
    "s=input(\"Enter your message: \")\n",
    "s1=s.lower()\n",
    "y=\"\"\n",
    "a=\"abcdefghijklmnopqrstuvwxyz\"\n",
    "for e in s1:\n",
    "    if e.isspace():\n",
    "        y=y+\"$\"\n",
    "    elif e.isalpha():\n",
    "        char=e\n",
    "        c=25-a.index(char)\n",
    "        y=y+a[c]\n",
    "print(y)"
   ]
  }
 ],
 "metadata": {
  "kernelspec": {
   "display_name": "Python 3 (ipykernel)",
   "language": "python",
   "name": "python3"
  },
  "language_info": {
   "codemirror_mode": {
    "name": "ipython",
    "version": 3
   },
   "file_extension": ".py",
   "mimetype": "text/x-python",
   "name": "python",
   "nbconvert_exporter": "python",
   "pygments_lexer": "ipython3",
   "version": "3.10.8"
  }
 },
 "nbformat": 4,
 "nbformat_minor": 5
}
