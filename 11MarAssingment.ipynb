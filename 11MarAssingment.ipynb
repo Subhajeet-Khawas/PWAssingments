{
 "cells": [
  {
   "cell_type": "markdown",
   "id": "c2076098-cd7b-411d-8e18-12e53227f918",
   "metadata": {},
   "source": [
    "Q1: What is the difference between a t-test and a z-test? Provide an example scenario where you would\n",
    "use each type of test."
   ]
  },
  {
   "cell_type": "markdown",
   "id": "6304969e-0c1d-4c88-a112-5b690ca97d56",
   "metadata": {},
   "source": [
    "The main difference between a t-test and a z-test lies in the circumstances under which they are applied, specifically regarding the knowledge of population parameters.\n",
    "\n",
    "Z-Test:\n",
    "\n",
    "Population Standard Deviation Known: Z-tests are used when you know the population standard deviation (\n",
    "�\n",
    "σ) and are typically applied when dealing with larger sample sizes.\n",
    "Example Scenario: Suppose you are analyzing the weights of a large population of adults, and you know the standard deviation of weights for the entire population.\n",
    "\n",
    "T-Test:\n",
    "\n",
    "Population Standard Deviation Unknown: T-tests are used when the population standard deviation (\n",
    "�\n",
    "σ) is unknown and must be estimated from the sample. T-tests are suitable for smaller sample sizes.\n",
    "Example Scenario: Consider a scenario where you are comparing the means of two small samples of students' test scores.\n",
    "\n",
    "In summary, use a z-test when you know the population standard deviation and have a sufficiently large sample size. Use a t-test when the population standard deviation is unknown, and especially for smaller sample sizes where the t-distribution is more appropriate."
   ]
  },
  {
   "cell_type": "markdown",
   "id": "38132c6f-528f-402c-b91f-a1acd20af01c",
   "metadata": {},
   "source": [
    "Q2: Differentiate between one-tailed and two-tailed tests."
   ]
  },
  {
   "cell_type": "markdown",
   "id": "7ebe5a4f-c340-4bb3-ad26-7532f9628fbd",
   "metadata": {},
   "source": [
    "**One-Tailed Test:**\n",
    "- In a one-tailed test, the critical region for the rejection of the null hypothesis is on only one side of the sampling distribution.\n",
    "- It is used to test whether the sample mean is significantly greater than or less than a known or hypothesized population mean.\n",
    "- The decision to reject the null hypothesis occurs if the sample statistic falls into the critical region on one side of the distribution.\n",
    "\n",
    "**Two-Tailed Test:**\n",
    "- In a two-tailed test, the critical region for the rejection of the null hypothesis is on both sides of the sampling distribution.\n",
    "- It is used to test whether the sample mean is significantly different from a known or hypothesized population mean.\n",
    "- The decision to reject the null hypothesis occurs if the sample statistic falls into either of the two critical regions.\n",
    "\n",
    "**Comparison:**\n",
    "- The choice between one-tailed and two-tailed tests depends on the specific hypothesis being tested and the direction of interest.\n",
    "- One-tailed tests are more powerful in detecting effects in a specific direction but are less sensitive to effects in the opposite direction.\n",
    "- Two-tailed tests are more conservative as they consider the possibility of an effect in either direction.\n",
    "\n",
    "**Example:**\n",
    "- **One-Tailed Test:** Testing whether a new drug increases, but not decreases, the average recovery time compared to the old drug.\n",
    "- **Two-Tailed Test:** Testing whether a coin is fair by checking if the observed proportion of heads is significantly different from 0.5.\n",
    "\n",
    "In summary, the choice between one-tailed and two-tailed tests depends on the research question and the directionality of the effect being investigated."
   ]
  },
  {
   "cell_type": "markdown",
   "id": "b93bfe13-fa86-4f86-bc68-eb5ae50003ec",
   "metadata": {},
   "source": [
    "Q3: Explain the concept of Type 1 and Type 2 errors in hypothesis testing. Provide an example scenario for\n",
    "each type of error."
   ]
  },
  {
   "cell_type": "markdown",
   "id": "61f92c50-651d-4de8-a2e4-bbe789070e44",
   "metadata": {},
   "source": [
    "**Type I Error (False Positive):**\n",
    "- **Definition:** Type I error occurs when you reject a null hypothesis that is actually true. It represents the mistake of concluding that there is an effect or difference when there isn't one.\n",
    "- **Symbol:** Often denoted as \\(\\alpha\\) (alpha).\n",
    "- **Example Scenario:** Suppose a medical researcher is testing a new drug for its effectiveness in treating a disease. The null hypothesis (\\(H_0\\)) is that the drug has no effect. If the researcher incorrectly rejects \\(H_0\\) and claims the drug is effective when, in fact, it has no effect, it's a Type I error.\n",
    "\n",
    "**Type II Error (False Negative):**\n",
    "- **Definition:** Type II error occurs when you fail to reject a null hypothesis that is actually false. It represents the mistake of failing to detect an effect or difference that truly exists.\n",
    "- **Symbol:** Often denoted as \\(\\beta\\) (beta).\n",
    "- **Example Scenario:** Using the same medical example, let's say the drug does have a real effect, but the researcher fails to detect it. The null hypothesis (\\(H_0\\)) is not rejected, and the researcher concludes the drug is not effective, even though it is. This situation represents a Type II error.\n",
    "\n",
    "**Trade-off between Type I and Type II Errors:**\n",
    "- There is often a trade-off between Type I and Type II errors. Lowering the probability of Type I errors (making \\(\\alpha\\) smaller) typically increases the probability of Type II errors (\\(\\beta\\)), and vice versa. This trade-off is influenced by factors such as sample size, significance level, and effect size.\n",
    "\n",
    "**Example:**  \n",
    "Consider a quality control scenario in a factory where products are inspected for defects.  \n",
    "\n",
    "- **Null Hypothesis (\\(H_0\\)):** The product is defect-free.\n",
    "- **Alternative Hypothesis (\\(H_a\\)):** The product has defects.\n",
    "\n",
    "- **Type I Error (False Positive):** Reject \\(H_0\\) when the product is actually defect-free. The factory might unnecessarily stop production or recall products that are, in fact, fine.\n",
    "\n",
    "- **Type II Error (False Negative):** Fail to reject \\(H_0\\) when the product has defects. Defective products might be released to the market, leading to potential harm or customer dissatisfaction.\n",
    "\n",
    "Understanding and minimizing both types of errors are crucial in hypothesis testing to ensure the validity of conclusions drawn from the statistical analysis."
   ]
  },
  {
   "cell_type": "markdown",
   "id": "ef9572c8-35a2-4cf4-b664-cbfd4c8e81cc",
   "metadata": {},
   "source": [
    "Q4: Explain Bayes's theorem with an example."
   ]
  },
  {
   "cell_type": "markdown",
   "id": "0c68cc66-cb73-4a4a-b44f-df35703d6df6",
   "metadata": {},
   "source": [
    "**Bayes's Theorem:**\n",
    "Bayes's Theorem is a fundamental concept in probability theory that allows us to update our beliefs or probabilities based on new evidence. It is named after Thomas Bayes, an 18th-century statistician and theologian. The formula for Bayes's Theorem is:\n",
    "\n",
    "\\[ P(A|B) = \\frac{P(B|A) \\times P(A)}{P(B)} \\]\n",
    "\n",
    "Where:\n",
    "- \\(P(A|B)\\) is the probability of event A given that event B has occurred.\n",
    "- \\(P(B|A)\\) is the probability of event B given that event A has occurred.\n",
    "- \\(P(A)\\) and \\(P(B)\\) are the marginal probabilities of events A and B, respectively.\n",
    "\n",
    "**Example:**\n",
    "Let's consider a medical example where we want to calculate the probability of a person having a certain disease given the result of a diagnostic test.\n",
    "\n",
    "- **Events:**\n",
    "  - \\(A\\): The person has the disease.\n",
    "  - \\(B\\): The diagnostic test is positive.\n",
    "\n",
    "- **Probabilities:**\n",
    "  - \\(P(A)\\): Prior probability of a person having the disease (without considering the test).\n",
    "  - \\(P(B|A)\\): Probability of a positive test result given that the person has the disease.\n",
    "  - \\(P(B)\\): Probability of a positive test result (regardless of whether the person has the disease).\n",
    "  - \\(P(A|B)\\): Probability of the person having the disease given a positive test result (what we want to find).\n",
    "\n",
    "- **Application of Bayes's Theorem:**\n",
    "  - **Given:**\n",
    "    - \\(P(A)\\) (prior probability of having the disease),\n",
    "    - \\(P(B|A)\\) (probability of a positive test result given the disease),\n",
    "    - \\(P(B)\\) (probability of a positive test result).\n",
    "\n",
    "  - **Calculate:**\n",
    "    - \\(P(A|B)\\) (probability of having the disease given a positive test result).\n",
    "\n",
    "- **Formula:**\n",
    "  \\[ P(A|B) = \\frac{P(B|A) \\times P(A)}{P(B)} \\]\n",
    "\n",
    "- **Interpretation:**\n",
    "  - \\(P(A|B)\\) represents the updated probability of having the disease after considering the positive test result.\n",
    "\n",
    "This example illustrates how Bayes's Theorem allows us to update our beliefs about the probability of an event based on new evidence provided by a diagnostic test. The theorem is widely used in various fields, including medicine, machine learning, and artificial intelligence, for making informed decisions in uncertain environments."
   ]
  },
  {
   "cell_type": "markdown",
   "id": "10932192-81c8-464d-9e6c-63cefa81f7dd",
   "metadata": {},
   "source": [
    "Q5: What is a confidence interval? How to calculate the confidence interval, explain with an example."
   ]
  },
  {
   "cell_type": "markdown",
   "id": "871c2e41-8e5e-4c06-b0ed-9758bf0371fa",
   "metadata": {},
   "source": [
    "**Confidence Interval:**\n",
    "A confidence interval is a statistical tool used to estimate the range within which we expect a population parameter to lie with a certain level of confidence. It provides a range of values instead of a single point estimate and quantifies the uncertainty associated with the estimate. Common confidence levels include 90%, 95%, and 99%.\n",
    "\n",
    "**Calculating a Confidence Interval:**\n",
    "The formula for a confidence interval for a population mean (\\(\\mu\\)) is given by:\n",
    "\n",
    "\\[ \\text{Confidence Interval} = \\bar{x} \\pm \\left( \\text{critical value} \\times \\frac{s}{\\sqrt{n}} \\right) \\]\n",
    "\n",
    "Where:\n",
    "- \\(\\bar{x}\\) is the sample mean.\n",
    "- \\(s\\) is the sample standard deviation.\n",
    "- \\(n\\) is the sample size.\n",
    "- The critical value is based on the chosen confidence level and the distribution (e.g., normal distribution for large samples, t-distribution for small samples).\n",
    "\n",
    "**Example:**\n",
    "Suppose we want to estimate the average height of adult males in a population. We take a random sample of 30 adult males and find the sample mean height (\\(\\bar{x}\\)) to be 175 cm, and the sample standard deviation (\\(s\\)) is 8 cm.\n",
    "\n",
    "Let's calculate a 95% confidence interval for the population mean height using the t-distribution for a sample size of 30."
   ]
  },
  {
   "cell_type": "code",
   "execution_count": 2,
   "id": "9a0d2b7c-4afa-4205-8df2-2dbc3c5bf01b",
   "metadata": {},
   "outputs": [
    {
     "name": "stdout",
     "output_type": "stream",
     "text": [
      "95% Confidence Interval: (172.01, 177.99)\n"
     ]
    }
   ],
   "source": [
    "import numpy as np\n",
    "from scipy.stats import t\n",
    "sample_mean = 175\n",
    "sample_std_dev = 8\n",
    "sample_size = 30\n",
    "confidence_level = 0.95  # 95% confidence interval\n",
    "degrees_of_freedom = sample_size - 1\n",
    "critical_value = t.ppf((1 + confidence_level) / 2, degrees_of_freedom)\n",
    "margin_of_error = critical_value * (sample_std_dev / np.sqrt(sample_size))\n",
    "lower_bound = sample_mean - margin_of_error\n",
    "upper_bound = sample_mean + margin_of_error\n",
    "print(f\"95% Confidence Interval: ({lower_bound:.2f}, {upper_bound:.2f})\")"
   ]
  },
  {
   "cell_type": "markdown",
   "id": "ff6ed3f7-c44f-40a8-bb73-5b1539648049",
   "metadata": {},
   "source": [
    "In this example:\n",
    "- The critical value is obtained from the t-distribution for a two-tailed test at a 95% confidence level.\n",
    "- The margin of error is calculated using the critical value, sample standard deviation, and sample size.\n",
    "- The confidence interval is constructed by adding and subtracting the margin of error from the sample mean.\n",
    "\n",
    "The interpretation of the confidence interval is that we are 95% confident that the true average height of adult males in the population lies within the calculated interval. Adjustments can be made based on the specific requirements of the confidence interval estimation."
   ]
  },
  {
   "cell_type": "markdown",
   "id": "a9b0a239-dac3-4e55-935b-e18c6fee33a7",
   "metadata": {},
   "source": [
    "Q6. Use Bayes' Theorem to calculate the probability of an event occurring given prior knowledge of the\n",
    "event's probability and new evidence. Provide a sample problem and solution."
   ]
  },
  {
   "cell_type": "markdown",
   "id": "034d19a7-cabb-4fb0-9312-aa30169b8f02",
   "metadata": {},
   "source": [
    "Certainly! Let's consider a classic example known as the \"Monty Hall problem,\" a probability puzzle named after the host of the television game show \"Let's Make a Deal,\" Monty Hall. The problem can be effectively solved using Bayes' Theorem.\n",
    "\n",
    "**Monty Hall Problem:**\n",
    "Imagine you are a contestant on a game show. The host, Monty Hall, presents you with three doors. Behind one door is a car, and behind the other two doors are goats. You choose one door, and then Monty, who knows what is behind each door, opens one of the other two doors to reveal a goat. You are then given the option to either stick with your initial choice or switch to the other unopened door. What should you do to maximize your chances of winning the car?\n",
    "\n",
    "**Solution using Bayes' Theorem:**\n",
    "\n",
    "- **Events:**\n",
    "  - \\(A\\): The car is behind the initially chosen door.\n",
    "  - \\(B\\): Monty opens a door with a goat.\n",
    "\n",
    "- **Probabilities:**\n",
    "  - \\(P(A)\\): Probability that the car is initially behind the chosen door.\n",
    "  - \\(P(B|A)\\): Probability that Monty opens a door with a goat, given that the car is initially behind the chosen door.\n",
    "  - \\(P(\\neg A)\\): Probability that the car is not initially behind the chosen door (i.e., it is behind one of the other two doors).\n",
    "  - \\(P(B|\\neg A)\\): Probability that Monty opens a door with a goat, given that the car is not initially behind the chosen door.\n",
    "\n",
    "**Calculation:**\n",
    "\\[ P(A|\\neg B) = \\frac{P(\\neg B|A) \\times P(A)}{P(\\neg B)} \\]\n",
    "\n",
    "- \\(P(\\neg B|A) = 1\\) (since if the car is initially behind the chosen door, Monty must open one of the other doors with a goat).\n",
    "- \\(P(\\neg B) = P(\\neg B|A) \\times P(A) + P(\\neg B|\\neg A) \\times P(\\neg A)\\)"
   ]
  },
  {
   "cell_type": "code",
   "execution_count": 4,
   "id": "de7b065f-9374-42cf-b637-960091d161da",
   "metadata": {},
   "outputs": [
    {
     "name": "stdout",
     "output_type": "stream",
     "text": [
      "Probability of the car being behind the initially chosen door given Monty opens a door with a goat: 0.50\n"
     ]
    }
   ],
   "source": [
    "P_A = 1/3  # Probability that the car is initially behind the chosen door\n",
    "P_not_A = 2/3  # Probability that the car is not initially behind the chosen door\n",
    "P_not_B_given_A = 1  # Probability that Monty opens a door with a goat, given that the car is initially behind the chosen door\n",
    "P_not_B_given_not_A = 1/2  # Probability that Monty opens a door with a goat, given that the car is not initially behind the chosen door\n",
    "\n",
    "# Bayes' Theorem calculation\n",
    "P_A_given_not_B = (P_not_B_given_A * P_A) / ((P_not_B_given_A * P_A) + (P_not_B_given_not_A * P_not_A))\n",
    "\n",
    "# Print the result\n",
    "print(f\"Probability of the car being behind the initially chosen door given Monty opens a door with a goat: {P_A_given_not_B:.2f}\")"
   ]
  },
  {
   "cell_type": "markdown",
   "id": "d0ba07a9-b9d8-4506-bac9-a8d2e5803e09",
   "metadata": {},
   "source": [
    "**Interpretation:**\n",
    "The calculated probability represents the likelihood that the car is initially behind the chosen door given that Monty opens a door with a goat. In the Monty Hall problem, Bayes' Theorem demonstrates that switching doors increases the probability of winning the car from 1/3 to 2/3, providing a counterintuitive result for many people."
   ]
  },
  {
   "cell_type": "markdown",
   "id": "d81943a3-21bf-4b81-9615-d5f4b30247f4",
   "metadata": {},
   "source": [
    "Q7. Calculate the 95% confidence interval for a sample of data with a mean of 50 and a standard deviation\n",
    "of 5. Interpret the results."
   ]
  },
  {
   "cell_type": "code",
   "execution_count": 5,
   "id": "21eaa6d1-60f4-415c-abe7-b7ef203eaf60",
   "metadata": {},
   "outputs": [
    {
     "name": "stdout",
     "output_type": "stream",
     "text": [
      "Confidence iterval is from 48.21077297881646 to 51.78922702118354\n"
     ]
    }
   ],
   "source": [
    "mean=50\n",
    "stddev=5\n",
    "alpha=0.05\n",
    "n=30\n",
    "critical=1.96\n",
    "moe=critical*stddev/np.sqrt(n)\n",
    "lowerbound=mean-moe\n",
    "upperbound=mean+moe\n",
    "print(\"Confidence iterval is from {} to {}\".format(lowerbound, upperbound))"
   ]
  },
  {
   "cell_type": "markdown",
   "id": "ac17ccd8-9bb6-48f6-ad8f-c7c657adc885",
   "metadata": {},
   "source": [
    "Q8. What is the margin of error in a confidence interval? How does sample size affect the margin of error?\n",
    "Provide an example of a scenario where a larger sample size would result in a smaller margin of error."
   ]
  },
  {
   "cell_type": "markdown",
   "id": "4ae435a4-249c-4157-a8cf-59dabf38cd7f",
   "metadata": {},
   "source": [
    "**Margin of Error in a Confidence Interval:**\n",
    "The margin of error in a confidence interval is a measure of the uncertainty or precision associated with the estimate of a population parameter (such as the mean). It represents the range above and below the point estimate within which we expect the true population parameter to lie with a certain level of confidence. The formula for the margin of error is:\n",
    "\n",
    "\\[ \\text{Margin of Error} = \\text{Critical Value} \\times \\frac{\\text{Standard Deviation}}{\\sqrt{\\text{Sample Size}}} \\]\n",
    "\n",
    "Key factors affecting the margin of error include the chosen confidence level, the standard deviation of the population (or sample), and the sample size.\n",
    "\n",
    "**Effect of Sample Size on Margin of Error:**\n",
    "1. **Larger Sample Size:**\n",
    "   - A larger sample size (\\(n\\)) generally leads to a smaller margin of error.\n",
    "   - As the sample size increases, the standard error of the mean decreases, resulting in a narrower confidence interval.\n",
    "   - Larger sample sizes provide more precise estimates of the population parameter.\n",
    "\n",
    "2. **Smaller Sample Size:**\n",
    "   - A smaller sample size tends to result in a larger margin of error.\n",
    "   - With less data, there is more uncertainty, and the confidence interval needs to be wider to account for that uncertainty.\n",
    "\n",
    "**Example Scenario:**\n",
    "Suppose we want to estimate the average time (in minutes) that customers spend on a website per visit. We collect two samples, each with a different sample size, and calculate 95% confidence intervals for the population mean:\n",
    "\n",
    "- **Sample 1 (Smaller Sample Size):**\n",
    "  - Sample Size (\\(n\\)): 30\n",
    "  - Standard Deviation (\\(s\\)): 5 minutes\n",
    "  - Critical Value (\\(Z\\)): 1.96 (for a 95% confidence interval)\n",
    "\n",
    "- **Sample 2 (Larger Sample Size):**\n",
    "  - Sample Size (\\(n\\)): 100\n",
    "  - Standard Deviation (\\(s\\)): 5 minutes\n",
    "  - Critical Value (\\(Z\\)): 1.96 (for a 95% confidence interval)"
   ]
  },
  {
   "cell_type": "code",
   "execution_count": 8,
   "id": "4d55ad91-48dd-4084-b646-2e32fc691dce",
   "metadata": {},
   "outputs": [
    {
     "name": "stdout",
     "output_type": "stream",
     "text": [
      "Margin of Error for Sample 1: 1.79\n",
      "Margin of Error for Sample 2: 0.98\n"
     ]
    }
   ],
   "source": [
    "import numpy as np\n",
    "from scipy.stats import norm\n",
    "\n",
    "# Given values\n",
    "std_dev = 5\n",
    "critical_value = 1.96  # for a 95% confidence interval\n",
    "\n",
    "# Sample 1\n",
    "sample_size_1 = 30\n",
    "margin_of_error_1 = critical_value * (std_dev / np.sqrt(sample_size_1))\n",
    "\n",
    "# Sample 2\n",
    "sample_size_2 = 100\n",
    "margin_of_error_2 = critical_value * (std_dev / np.sqrt(sample_size_2))\n",
    "\n",
    "# Print the results\n",
    "print(f\"Margin of Error for Sample 1: {margin_of_error_1:.2f}\")\n",
    "print(f\"Margin of Error for Sample 2: {margin_of_error_2:.2f}\")"
   ]
  },
  {
   "cell_type": "markdown",
   "id": "7d57d3d7-f7ab-41d1-a70d-ca402c2a17f5",
   "metadata": {},
   "source": [
    "In this example, the margin of error for Sample 2 (larger sample size) is expected to be smaller than the margin of error for Sample 1, reflecting the increased precision associated with a larger sample size."
   ]
  },
  {
   "cell_type": "markdown",
   "id": "4340e856-ee1a-4353-9816-8091b10cd909",
   "metadata": {},
   "source": [
    "Q9. Calculate the z-score for a data point with a value of 75, a population mean of 70, and a population\n",
    "standard deviation of 5. Interpret the results."
   ]
  },
  {
   "cell_type": "code",
   "execution_count": 9,
   "id": "e5cd9954-99a0-4dd1-b906-2256f52c47c2",
   "metadata": {},
   "outputs": [
    {
     "name": "stdout",
     "output_type": "stream",
     "text": [
      "Zscore is 1.0\n"
     ]
    }
   ],
   "source": [
    "x=75\n",
    "mean=70\n",
    "stddev=5\n",
    "zscore=(x-mean)/stddev\n",
    "print(\"Zscore is {}\".format(zscore))"
   ]
  },
  {
   "cell_type": "markdown",
   "id": "02db6852-0ca6-4ea5-87d1-125f163f7d36",
   "metadata": {},
   "source": [
    "**Interpretation:**\n",
    "In this case, the calculated z-score is 1.00. The positive sign indicates that the data point (75) is 1 standard deviation above the mean (70) in the population. A z-score of 1.00 suggests that the data point is relatively close to the mean and is within a typical range of values for a normal distribution.\n",
    "\n",
    "Interpreting z-scores:\n",
    "- \\( Z = 0 \\): The data point is exactly at the mean.\n",
    "- \\( Z > 0 \\): The data point is above the mean.\n",
    "- \\( Z < 0 \\): The data point is below the mean.\n",
    "- The magnitude of the z-score indicates how far the data point is from the mean in terms of standard deviations.\n",
    "\n",
    "Z-scores are useful for comparing values across different populations and for understanding the relative position of a data point within a distribution."
   ]
  },
  {
   "cell_type": "markdown",
   "id": "ed6be57c-0abd-41c4-a1b6-e5064f3c5b62",
   "metadata": {},
   "source": [
    "Q10. In a study of the effectiveness of a new weight loss drug, a sample of 50 participants lost an average\n",
    "of 6 pounds with a standard deviation of 2.5 pounds. Conduct a hypothesis test to determine if the drug is\n",
    "significantly effective at a 95% confidence level using a t-test."
   ]
  },
  {
   "cell_type": "code",
   "execution_count": 6,
   "id": "2396513f-7a6e-40bb-9a1f-1a7cf878c324",
   "metadata": {},
   "outputs": [
    {
     "name": "stdout",
     "output_type": "stream",
     "text": [
      "Fail to reject null hypothesis\n"
     ]
    }
   ],
   "source": [
    "from scipy import stats\n",
    "n=50\n",
    "smean=6\n",
    "sdev=2.5\n",
    "ci=0.95\n",
    "alpha=1-ci\n",
    "dof=n-1\n",
    "tcritical=stats.t.ppf(alpha,dof)\n",
    "pvalue=stats.t.sf(abs(tcritical),dof)\n",
    "if(pvalue<alpha):\n",
    "    print(\"Reject null hypothesis\")\n",
    "else:\n",
    "    print(\"Fail to reject null hypothesis\")"
   ]
  },
  {
   "cell_type": "markdown",
   "id": "78322e0a-4ca8-441d-a75c-49197863aeab",
   "metadata": {},
   "source": [
    "Q11. In a survey of 500 people, 65% reported being satisfied with their current job. Calculate the 95%\n",
    "confidence interval for the true proportion of people who are satisfied with their job."
   ]
  },
  {
   "cell_type": "code",
   "execution_count": 14,
   "id": "4a11a1f0-a03e-42a8-aeff-ee0fd05bc9f2",
   "metadata": {},
   "outputs": [
    {
     "name": "stdout",
     "output_type": "stream",
     "text": [
      "95% Confidence Interval: (0.6082, 0.6918)\n"
     ]
    }
   ],
   "source": [
    "import numpy as np\n",
    "\n",
    "# Given values\n",
    "sample_proportion = 0.65\n",
    "critical_value = 1.96  # for a 95% confidence interval\n",
    "sample_size = 500\n",
    "\n",
    "# Calculate the standard error of the proportion\n",
    "standard_error = np.sqrt((sample_proportion * (1 - sample_proportion)) / sample_size)\n",
    "\n",
    "# Calculate the margin of error\n",
    "margin_of_error = critical_value * standard_error\n",
    "\n",
    "# Calculate confidence interval\n",
    "lower_bound = sample_proportion - margin_of_error\n",
    "upper_bound = sample_proportion + margin_of_error\n",
    "\n",
    "# Print the results\n",
    "print(f\"95% Confidence Interval: ({lower_bound:.4f}, {upper_bound:.4f})\")\n"
   ]
  },
  {
   "cell_type": "markdown",
   "id": "2d51d995-4008-41d0-adf9-1b5305dc9e79",
   "metadata": {},
   "source": [
    "Q12. A researcher is testing the effectiveness of two different teaching methods on student performance.\n",
    "Sample A has a mean score of 85 with a standard deviation of 6, while sample B has a mean score of 82\n",
    "with a standard deviation of 5. Conduct a hypothesis test to determine if the two teaching methods have a\n",
    "significant difference in student performance using a t-test with a significance level of 0.01."
   ]
  },
  {
   "cell_type": "code",
   "execution_count": 18,
   "id": "f0cfa8e6-e102-4680-8b07-3addadf2f01a",
   "metadata": {},
   "outputs": [
    {
     "name": "stdout",
     "output_type": "stream",
     "text": [
      "t-Statistic: nan\n",
      "P-Value: nan\n",
      "Fail to reject the null hypothesis. There is not enough evidence to conclude a significant difference.\n"
     ]
    },
    {
     "name": "stderr",
     "output_type": "stream",
     "text": [
      "/tmp/ipykernel_77/1869963110.py:11: RuntimeWarning: Precision loss occurred in moment calculation due to catastrophic cancellation. This occurs when the data are nearly identical. Results may be unreliable.\n",
      "  t_statistic, p_value = ttest_ind(\n"
     ]
    }
   ],
   "source": [
    "from scipy.stats import ttest_ind\n",
    "\n",
    "# Given values\n",
    "mean_A = 85\n",
    "std_dev_A = 6\n",
    "mean_B = 82\n",
    "std_dev_B = 5\n",
    "alpha = 0.01\n",
    "\n",
    "# Assuming equal variances, perform a two-sample t-test\n",
    "t_statistic, p_value = ttest_ind(\n",
    "    a=[mean_A],\n",
    "    b=[mean_B],\n",
    "    axis=0,\n",
    "    equal_var=True,  # Assuming equal variances\n",
    "    nan_policy='propagate'\n",
    ")\n",
    "\n",
    "# Print the results\n",
    "print(f\"t-Statistic: {t_statistic:.2f}\")\n",
    "print(f\"P-Value: {p_value:.4f}\")\n",
    "\n",
    "# Compare the p-value to the significance level\n",
    "if p_value < alpha:\n",
    "    print(\"Reject the null hypothesis. There is a significant difference in student performance.\")\n",
    "else:\n",
    "    print(\"Fail to reject the null hypothesis. There is not enough evidence to conclude a significant difference.\")\n"
   ]
  },
  {
   "cell_type": "markdown",
   "id": "f4e095ef-6f03-4df2-bb77-e0def311cd0f",
   "metadata": {},
   "source": [
    "Q13. A population has a mean of 60 and a standard deviation of 8. A sample of 50 observations has a mean\n",
    "of 65. Calculate the 90% confidence interval for the true population mean."
   ]
  },
  {
   "cell_type": "code",
   "execution_count": 21,
   "id": "887352c6-94b0-4418-8c96-c3dfbd825b54",
   "metadata": {},
   "outputs": [
    {
     "name": "stdout",
     "output_type": "stream",
     "text": [
      "crtitical_value 1.645\n",
      "90% Confidence Interval: (63.14, 66.86)\n"
     ]
    }
   ],
   "source": [
    "import numpy as np\n",
    "\n",
    "# Given values\n",
    "sample_mean = 65\n",
    "population_mean = 60\n",
    "population_std_dev = 8\n",
    "confidence_level = 0.90\n",
    "sample_size = 50\n",
    "\n",
    "# Calculate the critical value for a two-tailed test\n",
    "alpha = 1 - confidence_level\n",
    "critical_value = np.abs(np.round(norm.ppf(alpha / 2), 3))  # for a 90% confidence interval\n",
    "print(\"crtitical_value\",critical_value)\n",
    "# Calculate the margin of error\n",
    "margin_of_error = critical_value * (population_std_dev / np.sqrt(sample_size))\n",
    "\n",
    "# Calculate confidence interval\n",
    "lower_bound = sample_mean - margin_of_error\n",
    "upper_bound = sample_mean + margin_of_error\n",
    "\n",
    "# Print the results\n",
    "print(f\"90% Confidence Interval: ({lower_bound:.2f}, {upper_bound:.2f})\")\n"
   ]
  },
  {
   "cell_type": "markdown",
   "id": "1e43f185-e0ba-4d1b-8842-1823d32e9a47",
   "metadata": {},
   "source": [
    "Q14. In a study of the effects of caffeine on reaction time, a sample of 30 participants had an average\n",
    "reaction time of 0.25 seconds with a standard deviation of 0.05 seconds. Conduct a hypothesis test to\n",
    "determine if the caffeine has a significant effect on reaction time at a 90% confidence level using a t-test."
   ]
  },
  {
   "cell_type": "code",
   "execution_count": 9,
   "id": "1cfd78e9-f388-4d40-9f94-593168d147e7",
   "metadata": {},
   "outputs": [
    {
     "name": "stdout",
     "output_type": "stream",
     "text": [
      "TCritical:  -1.311433650507697\n",
      "Pvalue:  0.09999999946564239\n",
      "Reject null hypothesis\n"
     ]
    }
   ],
   "source": [
    "from scipy import stats\n",
    "n=30\n",
    "smean=0.25\n",
    "sdev=0.05\n",
    "alpha=0.10\n",
    "dof=n-1\n",
    "tcritical=stats.t.ppf(q=alpha,df=dof)\n",
    "pvalue=stats.t.sf(abs(tcritical),df=dof)\n",
    "print(\"TCritical: \",tcritical)\n",
    "print(\"Pvalue: \",pvalue)\n",
    "if(pvalue<alpha):\n",
    "    print(\"Reject null hypothesis\")\n",
    "else:\n",
    "    print(\"Fail to reject null hypothesis\")"
   ]
  },
  {
   "cell_type": "code",
   "execution_count": null,
   "id": "b317b540-6d85-4448-99f7-2fc5499f0bbf",
   "metadata": {},
   "outputs": [],
   "source": []
  }
 ],
 "metadata": {
  "kernelspec": {
   "display_name": "Python 3 (ipykernel)",
   "language": "python",
   "name": "python3"
  },
  "language_info": {
   "codemirror_mode": {
    "name": "ipython",
    "version": 3
   },
   "file_extension": ".py",
   "mimetype": "text/x-python",
   "name": "python",
   "nbconvert_exporter": "python",
   "pygments_lexer": "ipython3",
   "version": "3.10.8"
  }
 },
 "nbformat": 4,
 "nbformat_minor": 5
}
