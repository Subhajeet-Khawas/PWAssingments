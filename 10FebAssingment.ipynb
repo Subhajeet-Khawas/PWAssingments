{
 "cells": [
  {
   "cell_type": "markdown",
   "id": "8357a4c8-5a5e-42ff-bfb3-80829a6df41f",
   "metadata": {},
   "source": [
    "Q1. Which function is used to open a file? What are the different modes of opening a file? Explain each mode of file opening."
   ]
  },
  {
   "cell_type": "markdown",
   "id": "3004ff6e-0dab-4fee-80a5-89a28ae8a50e",
   "metadata": {},
   "source": [
    "The open() function is used to open a file in Python. The open() function takes two arguments: the name of the file to open and the mode in which to open the file.\n",
    "\n",
    "The different modes of opening a file in Python are:\n",
    "\n",
    "1. r: Read mode. This mode opens the file for reading. If the file does not exist, an error will be raised.\n",
    "2. w: Write mode. This mode opens the file for writing. If the file does not exist, it will be created. If the file does exist, it will be truncated.\n",
    "3. a: Append mode. This mode opens the file for appending. If the file does not exist, it will be created. If the file does exist, the new data will be appended to the end of the file.\n",
    "4. r+: Read and write mode. This mode opens the file for both reading and writing. If the file does not exist, an error will be raised.\n",
    "5. w+: Read and write mode. This mode opens the file for both reading and writing. If the file does not exist, it will be created. If the file does exist, it will be truncated.\n",
    "6. a+: Read and append mode. This mode opens the file for both reading and appending. If the file does not exist, it will be created. If the file does exist, the new data will be appended to the end of the file."
   ]
  },
  {
   "cell_type": "markdown",
   "id": "e2f104ad-5d03-4762-8fbe-c8db754cfb63",
   "metadata": {},
   "source": [
    "Q2. Why close() function is used? Why is it important to close a file?"
   ]
  },
  {
   "cell_type": "markdown",
   "id": "d456d085-177e-4600-b958-97ff42fbd7c1",
   "metadata": {},
   "source": [
    "The close() function is used to close a file in Python. When you open a file, the operating system allocates resources to the file. These resources include memory, file descriptors, and locks. The close() function releases these resources, freeing them up for other uses.\n",
    "\n",
    "It is important to close a file after you are finished using it. If you do not close a file, the resources associated with the file will be held in memory and may not be available for other uses. This can lead to performance problems and can even cause the operating system to run out of memory.\n",
    "\n",
    "In addition, if you do not close a file, any changes you have made to the file may not be saved. This is because the operating system will not flush the changes to the disk until you close the file."
   ]
  },
  {
   "cell_type": "markdown",
   "id": "8fe43215-a78d-40b0-8054-fd5968b6da6c",
   "metadata": {},
   "source": [
    "Q3. Write a python program to create a text file. Write ‘I want to become a Data Scientist’ in that file. Then close the file. Open this file and read the content of the file."
   ]
  },
  {
   "cell_type": "code",
   "execution_count": 3,
   "id": "283f2e1c-3e81-4a87-a0fe-6807d6f98d16",
   "metadata": {},
   "outputs": [],
   "source": [
    "with open(\"assignment1.txt\",\"w\") as f:\n",
    "    f.write(\"I want to become a Data Scientist\")\n",
    "f.close()"
   ]
  },
  {
   "cell_type": "code",
   "execution_count": 4,
   "id": "8371da14-02c7-4c5e-9062-f614a30e658f",
   "metadata": {},
   "outputs": [
    {
     "name": "stdout",
     "output_type": "stream",
     "text": [
      "I want to become a Data Scientist\n"
     ]
    }
   ],
   "source": [
    "with open(\"assignment1.txt\",\"r\")as f:\n",
    "    print(f.read())"
   ]
  },
  {
   "cell_type": "markdown",
   "id": "b8655f34-b45e-4ca5-8e2c-ecf51d855df5",
   "metadata": {},
   "source": [
    "Q4. Explain the following with python code: read(), readline() and readlines()."
   ]
  },
  {
   "cell_type": "code",
   "execution_count": 21,
   "id": "524afe66-d951-4e37-945b-d8c9a29ea9e2",
   "metadata": {},
   "outputs": [],
   "source": [
    "with open(\"assignment2.txt\",\"w\")as f:\n",
    "    f.write(\"Virat Kohli is an Indian international cricketer and former captain of the Indian national cricket team.\")\n",
    "    f.write(\"Virat Kohli was born on 5 November 1988 in New Delhi, India.\")\n",
    "    f.write(\"His father, Prem Kohli, was a criminal lawyer. \")\n",
    "    f.write(\"His mother’s name is Saroj Kohli.\")\n",
    "    f.write(\"He has an older brother, Vikas, and an older sister, Bhawna.\")\n",
    "f.close()"
   ]
  },
  {
   "cell_type": "markdown",
   "id": "d525c471-dad6-4ea7-bf5d-f03c98d09dc3",
   "metadata": {},
   "source": [
    "The read() method is used to read the entire contents of a file as a single string. It reads from the current file position up to the specified number of characters (if specified) or until the end of the file. If no argument is provided, it reads the entire file."
   ]
  },
  {
   "cell_type": "code",
   "execution_count": 28,
   "id": "12d55a4a-7d1b-46d6-b036-f88573bd5b10",
   "metadata": {},
   "outputs": [
    {
     "name": "stdout",
     "output_type": "stream",
     "text": [
      "Virat Kohli is an Indian international cricketer and former captain of the Indian national cricket team.Virat Kohli was born on 5 November 1988 in New Delhi, India.His father, Prem Kohli, was a criminal lawyer. His mother’s name is Saroj Kohli.He has an older brother, Vikas, and an older sister, Bhawna.\n",
      "<class 'str'>\n"
     ]
    }
   ],
   "source": [
    "with open(\"assignment2.txt\",\"r\")as f:\n",
    "    print(f.read())\n",
    "    print(type(f.read()))\n",
    "f.close()"
   ]
  },
  {
   "cell_type": "markdown",
   "id": "dac70f0d-97bb-4185-b486-45578ce8dca7",
   "metadata": {},
   "source": [
    "The readline() method is used to read a single line from a file. It reads from the current file position up to the newline character (\\n) or until the end of the file."
   ]
  },
  {
   "cell_type": "code",
   "execution_count": 27,
   "id": "a5d64810-0f29-438e-98af-d12ec0f58633",
   "metadata": {},
   "outputs": [
    {
     "name": "stdout",
     "output_type": "stream",
     "text": [
      "Virat Kohli is an Indian international cricketer and former captain of the Indian national cricket team.Virat Kohli was born on 5 November 1988 in New Delhi, India.His father, Prem Kohli, was a criminal lawyer. His mother’s name is Saroj Kohli.He has an older brother, Vikas, and an older sister, Bhawna.\n",
      "<class 'str'>\n"
     ]
    }
   ],
   "source": [
    "with open(\"assignment2.txt\",\"r\")as f:\n",
    "    print(f.readline())\n",
    "    print(type(f.readline()))\n",
    "f.close()"
   ]
  },
  {
   "cell_type": "markdown",
   "id": "9be784b8-df09-473a-8be4-d64f8a25bf61",
   "metadata": {},
   "source": [
    "The readlines() method is used to read all the lines of a file and return them as a list of strings. Each line of the file is an element in the list."
   ]
  },
  {
   "cell_type": "code",
   "execution_count": 26,
   "id": "7e437113-5244-4ee7-94cf-5e80903089a5",
   "metadata": {},
   "outputs": [
    {
     "name": "stdout",
     "output_type": "stream",
     "text": [
      "['Virat Kohli is an Indian international cricketer and former captain of the Indian national cricket team.Virat Kohli was born on 5 November 1988 in New Delhi, India.His father, Prem Kohli, was a criminal lawyer. His mother’s name is Saroj Kohli.He has an older brother, Vikas, and an older sister, Bhawna.']\n",
      "<class 'list'>\n"
     ]
    }
   ],
   "source": [
    "with open(\"assignment2.txt\",\"r\")as f:\n",
    "    print(f.readlines())\n",
    "    print(type(f.readlines()))\n",
    "f.close()"
   ]
  },
  {
   "cell_type": "markdown",
   "id": "b83cfdc7-fec9-404e-b57b-a548b83748b4",
   "metadata": {},
   "source": [
    "Q5. Explain why with statement is used with open(). What is the advantage of using with statement and\n",
    "open() together?"
   ]
  },
  {
   "cell_type": "markdown",
   "id": "3b6e5425-32a5-46a7-b028-dae1529c76ed",
   "metadata": {},
   "source": [
    "The with statement is used with the open() function in Python to ensure that the file is closed properly, even if an exception is raised. The with statement automatically calls the close() method on the file object when the block of code in the with statement is finished executing. This helps to prevent resource leaks and ensures that the file is always closed properly."
   ]
  },
  {
   "cell_type": "markdown",
   "id": "e6412151-a2f1-4e29-a2a0-16e1aef5ef7e",
   "metadata": {},
   "source": [
    "Q6. Explain the write() and writelines() functions. Give a suitable example."
   ]
  },
  {
   "cell_type": "markdown",
   "id": "4e97e221-8f1c-4b33-ab43-daa4bcae183b",
   "metadata": {},
   "source": [
    "The write() and writelines() methods are used to write data to a file in Python.\n",
    "\n",
    "The write() method writes a string to a file.\n",
    "The writelines() method writes a list of strings to a file."
   ]
  },
  {
   "cell_type": "code",
   "execution_count": 29,
   "id": "ad1ec052-af2a-4631-9422-0961f4f6cc4c",
   "metadata": {},
   "outputs": [],
   "source": [
    "with open(\"assingment3.txt\",\"w\")as f:\n",
    "    f.write(\"data science batch 1\")\n",
    "f.close()"
   ]
  },
  {
   "cell_type": "code",
   "execution_count": 30,
   "id": "fa281766-9af1-4d93-bd49-1a6fee8b960b",
   "metadata": {},
   "outputs": [],
   "source": [
    "with open(\"assingment3.txt\",\"a\") as f:\n",
    "    f.writelines([\"sudhanshu sir\",\"krish sir\"])\n",
    "f.close()"
   ]
  },
  {
   "cell_type": "code",
   "execution_count": 31,
   "id": "d3d62fa0-58ef-4a54-bfa7-29b9f0b4a750",
   "metadata": {},
   "outputs": [
    {
     "name": "stdout",
     "output_type": "stream",
     "text": [
      "data science batch 1sudhanshu sirkrish sir\n"
     ]
    }
   ],
   "source": [
    "with open(\"assingment3.txt\",\"r\") as f:\n",
    "    print(f.read())"
   ]
  },
  {
   "cell_type": "code",
   "execution_count": null,
   "id": "412da685-432f-46c4-9659-aa7ac2dd1b95",
   "metadata": {},
   "outputs": [],
   "source": []
  }
 ],
 "metadata": {
  "kernelspec": {
   "display_name": "Python 3 (ipykernel)",
   "language": "python",
   "name": "python3"
  },
  "language_info": {
   "codemirror_mode": {
    "name": "ipython",
    "version": 3
   },
   "file_extension": ".py",
   "mimetype": "text/x-python",
   "name": "python",
   "nbconvert_exporter": "python",
   "pygments_lexer": "ipython3",
   "version": "3.10.8"
  }
 },
 "nbformat": 4,
 "nbformat_minor": 5
}
