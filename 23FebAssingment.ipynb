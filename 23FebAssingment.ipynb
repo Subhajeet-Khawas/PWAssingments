{
 "cells": [
  {
   "cell_type": "markdown",
   "id": "ea7aa71e-d1c8-4596-8a0f-9b89c3d95529",
   "metadata": {},
   "source": [
    "Q1. Create a Pandas Series that contains the following data: 4, 8, 15, 16, 23, and 42. Then, print the series."
   ]
  },
  {
   "cell_type": "code",
   "execution_count": 1,
   "id": "485e40f9-5e8f-4cd9-a552-18e7844bde4a",
   "metadata": {},
   "outputs": [],
   "source": [
    "import pandas as pd\n",
    "l=[48,15,16,23,42]\n",
    "s=pd.Series(l)"
   ]
  },
  {
   "cell_type": "code",
   "execution_count": 2,
   "id": "f1df8188-8004-4484-af57-7e9e6fe24441",
   "metadata": {},
   "outputs": [
    {
     "data": {
      "text/plain": [
       "0    48\n",
       "1    15\n",
       "2    16\n",
       "3    23\n",
       "4    42\n",
       "dtype: int64"
      ]
     },
     "execution_count": 2,
     "metadata": {},
     "output_type": "execute_result"
    }
   ],
   "source": [
    "s"
   ]
  },
  {
   "cell_type": "code",
   "execution_count": 3,
   "id": "6bac7cef-e994-4e70-9010-1efeadf21f5b",
   "metadata": {},
   "outputs": [
    {
     "data": {
      "text/plain": [
       "pandas.core.series.Series"
      ]
     },
     "execution_count": 3,
     "metadata": {},
     "output_type": "execute_result"
    }
   ],
   "source": [
    "type(s)"
   ]
  },
  {
   "cell_type": "markdown",
   "id": "3a73605d-9bb3-4e82-9bcd-935d5bcb10f8",
   "metadata": {},
   "source": [
    "Q2. Create a variable of list type containing 10 elements in it, and apply pandas.Series function on the variable print it."
   ]
  },
  {
   "cell_type": "code",
   "execution_count": 4,
   "id": "3316e4a5-2cda-48c2-9b12-abc7faa392e0",
   "metadata": {},
   "outputs": [
    {
     "name": "stdout",
     "output_type": "stream",
     "text": [
      "0    1\n",
      "1    2\n",
      "2    3\n",
      "3    6\n",
      "4    5\n",
      "5    4\n",
      "6    9\n",
      "7    8\n",
      "8    7\n",
      "9    0\n",
      "dtype: int64\n"
     ]
    }
   ],
   "source": [
    "l1=[1,2,3,6,5,4,9,8,7,0]\n",
    "s1=pd.Series(l1)\n",
    "print(s1)"
   ]
  },
  {
   "cell_type": "markdown",
   "id": "7e06791c-c3a0-4613-bb2e-64a5ef5a66d6",
   "metadata": {},
   "source": [
    "Q3. Create a Pandas DataFrame that contains the following data:\n",
    "\n",
    "Name\n",
    "Alice\n",
    "Bob\n",
    "Claire\n",
    "\n",
    "Age\n",
    "25\n",
    "30\n",
    "27\n",
    "\n",
    "Gender\n",
    "Female\n",
    "Male\n",
    "Female\n",
    "\n",
    "Then, print the DataFrame."
   ]
  },
  {
   "cell_type": "code",
   "execution_count": 5,
   "id": "5c8fc86f-e492-4804-868a-a0da6437994e",
   "metadata": {},
   "outputs": [
    {
     "name": "stdout",
     "output_type": "stream",
     "text": [
      "     Name  Age  Gender\n",
      "0   Alice   25  Female\n",
      "1     Bob   30    Male\n",
      "2  Claire   27  Female\n"
     ]
    }
   ],
   "source": [
    "data={\"Name\":[\"Alice\", \"Bob\", \"Claire\"],\n",
    "      \"Age\":[25,30,27],\n",
    "      \"Gender\":[\"Female\", \"Male\", \"Female\"]\n",
    "}\n",
    "df=pd.DataFrame(data)\n",
    "print(df)"
   ]
  },
  {
   "cell_type": "code",
   "execution_count": 6,
   "id": "beee9e9b-0111-4e94-82ad-873d7ba1afe5",
   "metadata": {},
   "outputs": [
    {
     "data": {
      "text/plain": [
       "pandas.core.frame.DataFrame"
      ]
     },
     "execution_count": 6,
     "metadata": {},
     "output_type": "execute_result"
    }
   ],
   "source": [
    "type(df)"
   ]
  },
  {
   "cell_type": "markdown",
   "id": "799d8be3-6f87-43c6-89ae-d8e0dd7ddac9",
   "metadata": {},
   "source": [
    "Q4. What is ‘DataFrame’ in pandas and how is it different from pandas.series? Explain with an example."
   ]
  },
  {
   "cell_type": "markdown",
   "id": "e3c9a9ab-5c0c-48d1-8ab6-042a3fe4bd81",
   "metadata": {},
   "source": [
    "In pandas, a DataFrame is a two-dimensional labeled data structure that consists of columns and rows. It can be thought of as a table or a spreadsheet-like data structure where data is organized in a tabular format. Each column in a DataFrame represents a variable, and each row represents an observation or a record.\n",
    "\n",
    "On the other hand, a pandas Series is a one-dimensional labeled array that can hold any data type. It is similar to a column in a DataFrame, but it doesn't have column names. A Series is often used to represent a single column or a single variable."
   ]
  },
  {
   "cell_type": "code",
   "execution_count": 7,
   "id": "6afb0028-61f8-45c8-83e3-4f24229b8d99",
   "metadata": {},
   "outputs": [
    {
     "name": "stdout",
     "output_type": "stream",
     "text": [
      "     Name  Age  Gender\n",
      "0   Alice   25  Female\n",
      "1     Bob   30    Male\n",
      "2  Claire   27  Female\n"
     ]
    }
   ],
   "source": [
    "data={\"Name\":[\"Alice\", \"Bob\", \"Claire\"],\n",
    "      \"Age\":[25,30,27],\n",
    "      \"Gender\":[\"Female\", \"Male\", \"Female\"]\n",
    "}\n",
    "df=pd.DataFrame(data)\n",
    "print(df)"
   ]
  },
  {
   "cell_type": "code",
   "execution_count": 8,
   "id": "0fe107f6-ecf7-463e-b5f3-fd91a6d4abb7",
   "metadata": {},
   "outputs": [
    {
     "data": {
      "text/plain": [
       "pandas.core.frame.DataFrame"
      ]
     },
     "execution_count": 8,
     "metadata": {},
     "output_type": "execute_result"
    }
   ],
   "source": [
    "type(df)"
   ]
  },
  {
   "cell_type": "code",
   "execution_count": 9,
   "id": "ba041ebe-7afd-4133-a43b-2747081436a8",
   "metadata": {},
   "outputs": [
    {
     "name": "stdout",
     "output_type": "stream",
     "text": [
      "0    1\n",
      "1    2\n",
      "2    3\n",
      "3    6\n",
      "4    5\n",
      "5    4\n",
      "6    9\n",
      "7    8\n",
      "8    7\n",
      "9    0\n",
      "dtype: int64\n"
     ]
    }
   ],
   "source": [
    "l1=[1,2,3,6,5,4,9,8,7,0]\n",
    "s1=pd.Series(l1)\n",
    "print(s1)"
   ]
  },
  {
   "cell_type": "code",
   "execution_count": 10,
   "id": "8a63c23f-04b0-4847-989a-30caed414eb9",
   "metadata": {},
   "outputs": [
    {
     "data": {
      "text/plain": [
       "pandas.core.series.Series"
      ]
     },
     "execution_count": 10,
     "metadata": {},
     "output_type": "execute_result"
    }
   ],
   "source": [
    "type(s1)"
   ]
  },
  {
   "cell_type": "markdown",
   "id": "d79feffc-33de-4ae4-923d-bc3974cdf869",
   "metadata": {},
   "source": [
    "Q5. What are some common functions you can use to manipulate data in a Pandas DataFrame? Can\n",
    "you give an example of when you might use one of these functions?"
   ]
  },
  {
   "cell_type": "markdown",
   "id": "4e1cdd0d-ca9d-46d1-a90f-9b081f8b2c44",
   "metadata": {},
   "source": [
    "Here are some common functions you can use to manipulate data in a Pandas DataFrame:\n",
    "\n",
    "1. head(): This function returns the first few rows of a DataFrame. For example, df.head() would return the first 5 rows of the DataFrame df.\n",
    "2. tail(): This function returns the last few rows of a DataFrame. For example, df.tail() would return the last 5 rows of the DataFrame df.\n",
    "3. describe(): This function returns a summary of the statistical distribution of the data in a DataFrame. For example, df.describe() would return the mean, standard deviation, minimum, maximum, and other statistical measures for each column in the DataFrame df.\n",
    "4. drop(): This function drops rows or columns from a DataFrame. For example, df.drop('column_name', axis=1) would drop the column column_name from the DataFrame df.\n",
    "5. rename(): This function renames rows or columns in a DataFrame. For example, df.rename(columns={'old_column_name': 'new_column_name'}) would rename the column old_column_name to new_column_name in the DataFrame df."
   ]
  },
  {
   "cell_type": "code",
   "execution_count": 12,
   "id": "3d3ce6ff-5fb2-4950-b6b4-f4acfa9bd19d",
   "metadata": {},
   "outputs": [
    {
     "data": {
      "text/html": [
       "<div>\n",
       "<style scoped>\n",
       "    .dataframe tbody tr th:only-of-type {\n",
       "        vertical-align: middle;\n",
       "    }\n",
       "\n",
       "    .dataframe tbody tr th {\n",
       "        vertical-align: top;\n",
       "    }\n",
       "\n",
       "    .dataframe thead th {\n",
       "        text-align: right;\n",
       "    }\n",
       "</style>\n",
       "<table border=\"1\" class=\"dataframe\">\n",
       "  <thead>\n",
       "    <tr style=\"text-align: right;\">\n",
       "      <th></th>\n",
       "      <th>Name</th>\n",
       "      <th>Age</th>\n",
       "      <th>Gender</th>\n",
       "    </tr>\n",
       "  </thead>\n",
       "  <tbody>\n",
       "    <tr>\n",
       "      <th>0</th>\n",
       "      <td>Alice</td>\n",
       "      <td>25</td>\n",
       "      <td>Female</td>\n",
       "    </tr>\n",
       "    <tr>\n",
       "      <th>1</th>\n",
       "      <td>Bob</td>\n",
       "      <td>30</td>\n",
       "      <td>Male</td>\n",
       "    </tr>\n",
       "  </tbody>\n",
       "</table>\n",
       "</div>"
      ],
      "text/plain": [
       "    Name  Age  Gender\n",
       "0  Alice   25  Female\n",
       "1    Bob   30    Male"
      ]
     },
     "execution_count": 12,
     "metadata": {},
     "output_type": "execute_result"
    }
   ],
   "source": [
    "df.head(2)"
   ]
  },
  {
   "cell_type": "code",
   "execution_count": 13,
   "id": "4b41ac8e-57dc-40b0-8fac-0ad75a52f6c9",
   "metadata": {},
   "outputs": [
    {
     "data": {
      "text/plain": [
       "Index(['Name', 'Age', 'Gender'], dtype='object')"
      ]
     },
     "execution_count": 13,
     "metadata": {},
     "output_type": "execute_result"
    }
   ],
   "source": [
    "df.columns"
   ]
  },
  {
   "cell_type": "code",
   "execution_count": 14,
   "id": "0aa44319-37c6-4bd3-8833-e091bd57b6b3",
   "metadata": {},
   "outputs": [
    {
     "data": {
      "text/plain": [
       "(3, 3)"
      ]
     },
     "execution_count": 14,
     "metadata": {},
     "output_type": "execute_result"
    }
   ],
   "source": [
    "df.shape"
   ]
  },
  {
   "cell_type": "code",
   "execution_count": 15,
   "id": "a24ece64-0bb1-4e9b-afe7-85d3bfa87521",
   "metadata": {},
   "outputs": [
    {
     "data": {
      "text/plain": [
       "Name      object\n",
       "Age        int64\n",
       "Gender    object\n",
       "dtype: object"
      ]
     },
     "execution_count": 15,
     "metadata": {},
     "output_type": "execute_result"
    }
   ],
   "source": [
    "df.dtypes"
   ]
  },
  {
   "cell_type": "markdown",
   "id": "b4585db5-f80a-4748-b02b-fdfd022bc676",
   "metadata": {},
   "source": [
    "Q6. Which of the following is mutable in nature Series, DataFrame, Panel?"
   ]
  },
  {
   "cell_type": "markdown",
   "id": "13fd3d32-7200-4984-8210-fa337c145dad",
   "metadata": {},
   "source": [
    "Series and DataFrame are both mutable in nature. Panel is not mutable.\n",
    "\n",
    "A Series is a one-dimensional labeled array of data. It is mutable, which means that the data in a Series can be changed after it has been created. For example, you can add new data to a Series, or you can change the values of existing data in a Series.\n",
    "\n",
    "A DataFrame is a two-dimensional labeled array of data. It is also mutable, which means that the data in a DataFrame can be changed after it has been created. For example, you can add new rows or columns to a DataFrame, or you can change the values of existing data in a DataFrame.\n",
    "\n",
    "A Panel is a three-dimensional labeled array of data. It is not mutable, which means that the data in a Panel cannot be changed after it has been created. This is because a Panel is a container of DataFrames, and DataFrames are immutable."
   ]
  },
  {
   "cell_type": "markdown",
   "id": "c2e132f9-7ca4-47ea-a5b5-f9e838198630",
   "metadata": {},
   "source": [
    "Q7. Create a DataFrame using multiple Series. Explain with an example."
   ]
  },
  {
   "cell_type": "code",
   "execution_count": 16,
   "id": "abc0c27e-4a53-48ea-bc26-a8ca31a52ba6",
   "metadata": {},
   "outputs": [],
   "source": [
    "nameseries=pd.Series([\"abc\", \"pqr\", \"xyz\"])\n",
    "rollseries=pd.Series([10,11,12])\n",
    "subseries=pd.Series([\"DSA\",\"DataScience\",\"Java\"])\n",
    "df5=pd.DataFrame({\"Name\":nameseries, \"RollNo\":rollseries, \"Subjects\":subseries})"
   ]
  },
  {
   "cell_type": "code",
   "execution_count": 17,
   "id": "c8ef3bd4-1be0-4606-b2f4-6963261095f9",
   "metadata": {},
   "outputs": [
    {
     "data": {
      "text/html": [
       "<div>\n",
       "<style scoped>\n",
       "    .dataframe tbody tr th:only-of-type {\n",
       "        vertical-align: middle;\n",
       "    }\n",
       "\n",
       "    .dataframe tbody tr th {\n",
       "        vertical-align: top;\n",
       "    }\n",
       "\n",
       "    .dataframe thead th {\n",
       "        text-align: right;\n",
       "    }\n",
       "</style>\n",
       "<table border=\"1\" class=\"dataframe\">\n",
       "  <thead>\n",
       "    <tr style=\"text-align: right;\">\n",
       "      <th></th>\n",
       "      <th>Name</th>\n",
       "      <th>RollNo</th>\n",
       "      <th>Subjects</th>\n",
       "    </tr>\n",
       "  </thead>\n",
       "  <tbody>\n",
       "    <tr>\n",
       "      <th>0</th>\n",
       "      <td>abc</td>\n",
       "      <td>10</td>\n",
       "      <td>DSA</td>\n",
       "    </tr>\n",
       "    <tr>\n",
       "      <th>1</th>\n",
       "      <td>pqr</td>\n",
       "      <td>11</td>\n",
       "      <td>DataScience</td>\n",
       "    </tr>\n",
       "    <tr>\n",
       "      <th>2</th>\n",
       "      <td>xyz</td>\n",
       "      <td>12</td>\n",
       "      <td>Java</td>\n",
       "    </tr>\n",
       "  </tbody>\n",
       "</table>\n",
       "</div>"
      ],
      "text/plain": [
       "  Name  RollNo     Subjects\n",
       "0  abc      10          DSA\n",
       "1  pqr      11  DataScience\n",
       "2  xyz      12         Java"
      ]
     },
     "execution_count": 17,
     "metadata": {},
     "output_type": "execute_result"
    }
   ],
   "source": [
    "df5"
   ]
  },
  {
   "cell_type": "code",
   "execution_count": null,
   "id": "b7d58769-ace2-443d-a3af-0a4bd3de686e",
   "metadata": {},
   "outputs": [],
   "source": []
  }
 ],
 "metadata": {
  "kernelspec": {
   "display_name": "Python 3 (ipykernel)",
   "language": "python",
   "name": "python3"
  },
  "language_info": {
   "codemirror_mode": {
    "name": "ipython",
    "version": 3
   },
   "file_extension": ".py",
   "mimetype": "text/x-python",
   "name": "python",
   "nbconvert_exporter": "python",
   "pygments_lexer": "ipython3",
   "version": "3.10.8"
  }
 },
 "nbformat": 4,
 "nbformat_minor": 5
}
